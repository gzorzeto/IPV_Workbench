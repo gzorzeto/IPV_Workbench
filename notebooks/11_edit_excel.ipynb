{
 "cells": [
  {
   "cell_type": "code",
   "execution_count": 1,
   "metadata": {},
   "outputs": [],
   "source": [
    "import pandas as pd \n",
    "import openpyxl"
   ]
  },
  {
   "cell_type": "code",
   "execution_count": 17,
   "metadata": {},
   "outputs": [],
   "source": [
    "df = pd.read_csv(\"/Users/jmccarty/Desktop/bano_simulations/objects/cumulative_results/AP_solar_glass_2020_cumulative_hourly.csv\",index_col='index')\n",
    "\n",
    "excel_dest = \"/Users/jmccarty/Desktop/test_excel.xlsx\""
   ]
  },
  {
   "cell_type": "code",
   "execution_count": 18,
   "metadata": {},
   "outputs": [],
   "source": [
    "my_cols = ['electricity_gen_cumulative_kwh', 'electricity_gen_east_facade_kwh', 'electricity_gen_west_facade_kwh', 'electricity_gen_south_facade_kwh', 'electricity_gen_north_facade_kwh', 'electricity_gen_roof_tops_kwh']\n",
    "dest_cols = ['E_PV_gen_kWh','Electricity production from photovoltaic panels on east facades [kWh]','Electricity production from photovoltaic panels on west facades [kWh]','Electricity production from photovoltaic panels on south facades [kWh]','Electricity production from photovoltaic panels on north facades [kWh]','Electricity production from photovoltaic panels on roof tops [kWh]']\n",
    "\n",
    "df[my_cols].rename(columns=dict(zip(my_cols,dest_cols))).to_excel(excel_dest)"
   ]
  },
  {
   "cell_type": "code",
   "execution_count": 19,
   "metadata": {},
   "outputs": [],
   "source": [
    "#load excel file\n",
    "workbook = openpyxl.load_workbook(filename=excel_dest)\n",
    " \n",
    "#open workbook\n",
    "sheet = workbook.active\n",
    " \n",
    "#pv area\n",
    "row = 2\n",
    "sheet[f\"N{row}\"] = \"total PV area (m2)\"\n",
    "sheet[f\"O{row}\"] = \"Full Name\"\n",
    "\n",
    "# capacity\n",
    "row = 6\n",
    "sheet[f\"N{row}\"] = \"module area (m2)\"\n",
    "sheet[f\"O{row}\"] = \"Full Name\"\n",
    "\n",
    "# module_area\n",
    "row = 8\n",
    "sheet[f\"N{row}\"] = \"kW (inverter)\"\n",
    "sheet[f\"O{row}\"] = \"Full Name\"\n",
    "\n",
    "# efficiency\n",
    "row = 10\n",
    "sheet[f\"N{row}\"] = \"system efficiency (%)\"\n",
    "sheet[f\"O{row}\"] = \"Full Name\"\n",
    "\n",
    "#save the file\n",
    "workbook.save(filename=excel_dest)\n",
    "\n",
    "\n",
    "\n",
    "\n",
    "\n",
    "\n",
    "\n",
    "\n",
    "\n"
   ]
  }
 ],
 "metadata": {
  "kernelspec": {
   "display_name": "workbench",
   "language": "python",
   "name": "python3"
  },
  "language_info": {
   "codemirror_mode": {
    "name": "ipython",
    "version": 3
   },
   "file_extension": ".py",
   "mimetype": "text/x-python",
   "name": "python",
   "nbconvert_exporter": "python",
   "pygments_lexer": "ipython3",
   "version": "3.10.8"
  },
  "orig_nbformat": 4,
  "vscode": {
   "interpreter": {
    "hash": "0c4ac59e349d62c65843c6e7b303fbe6191f8771b8af55365501989d28e04afb"
   }
  }
 },
 "nbformat": 4,
 "nbformat_minor": 2
}
