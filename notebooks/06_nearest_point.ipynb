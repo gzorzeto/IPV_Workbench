{
 "cells": [
  {
   "cell_type": "code",
   "execution_count": null,
   "id": "29b7dd87",
   "metadata": {},
   "outputs": [],
   "source": [
    "%load_ext autoreload\n",
    "%autoreload 2\n",
    "%load_ext line_profiler\n",
    "# %config Completer.use_jedi = False"
   ]
  },
  {
   "cell_type": "code",
   "execution_count": null,
   "id": "fc123666-6886-4fa7-bc6e-6ad2b7fc1a55",
   "metadata": {},
   "outputs": [],
   "source": [
    "from scipy.spatial import KDTree\n",
    "import numpy as np\n",
    "from scipy.spatial.distance import cdist\n",
    "\n",
    "import os\n",
    "import sys\n",
    "module_path = \"/Users/jmccarty/Data/221205_ipv_workbench/github/IPV_Workbench\"\n",
    "sys.path.insert(0, module_path)\n",
    "import pandas as pd\n",
    "import pickle\n",
    "import json\n",
    "from itertools import repeat\n",
    "import multiprocess\n",
    "from pprint import pprint\n",
    "import numpy as np\n",
    "import pvlib\n",
    "import proplot as pplt\n",
    "import ipv_workbench as ipv\n",
    "from ipv_workbench.utilities import utils, circuits, time_utils\n",
    "from ipv_workbench.devices import devices\n",
    "from ipv_workbench.simulator import simulations as ipv_sim\n",
    "from ipv_workbench.simulator import simulations_mp as ipv_sim_mp\n",
    "from ipv_workbench.simulator import calculations as ipv_calc\n",
    "from ipv_workbench.visualize import plots as ipv_plots\n",
    "from ipv_workbench.translators import panelizer, mapping_irradiance\n",
    "from ipv_workbench.sample import dummies\n",
    "\n",
    "from tqdm import tqdm\n",
    "import functools, operator, collections\n",
    "import multiprocess as mp\n",
    "import time"
   ]
  },
  {
   "cell_type": "code",
   "execution_count": null,
   "id": "a3623cce-14e7-457f-a963-1c4eac7214db",
   "metadata": {},
   "outputs": [],
   "source": [
    "def collect_raw_irradiance(pv_cells_xyz_arr, sensor_pts_xyz_arr, sensor_pts_irradiance_arr):\n",
    "    # cdist_arr = cdist(pv_cells[0:5,:], sensor_pts_xyz_arr)\n",
    "    cdist_arr = cdist(pv_cells_xyz_arr, sensor_pts_xyz_arr)\n",
    "    first = cdist_arr.argsort()[:,0]\n",
    "    second = cdist_arr.argsort()[:,1]\n",
    "    third = cdist_arr.argsort()[:,2]\n",
    "    irrad_cell_mean = (sensor_pts_irradiance_arr[first] + sensor_pts_irradiance_arr[second] + sensor_pts_irradiance_arr[third]) / 3\n",
    "    return irrad_cell_mean\n",
    "\n"
   ]
  },
  {
   "cell_type": "code",
   "execution_count": null,
   "id": "7f87a6bd-95c1-4e58-8d3c-a3ce02113c61",
   "metadata": {},
   "outputs": [],
   "source": [
    "# make dummy data\n",
    "n_sensors = 20000\n",
    "n_cells = 3000\n",
    "max_irrad_total = 900\n",
    "max_loss = 400\n",
    "\n",
    "sensor_pts_xyz_arr = np.random.rand(n_sensors,3)\n",
    "\n",
    "# the irradiance values will always have the same length as the first value of the snensor array shape\n",
    "sensor_pts_irradiance_values_total = np.random.randint(max_irrad_total, size=(1,n_sensors)).flatten()\n",
    "# make aup a diffuse split\n",
    "diffuse_component = np.random.randint(max_loss, size=(1,n_sensors)).flatten()\n",
    "# calculate the direct contribution\n",
    "sensor_pts_irradiance_values_direct = sensor_pts_irradiance_values_total - diffuse_component\n",
    "\n",
    "# make some fake cells\n",
    "pv_cells_xyz_arr = np.random.rand(n_cells,3)\n"
   ]
  },
  {
   "cell_type": "code",
   "execution_count": null,
   "id": "68000103",
   "metadata": {},
   "outputs": [
    {
     "data": {
      "text/plain": [
       "array([[0.54009489, 0.56290408, 0.64169585],\n",
       "       [0.97689171, 0.88989542, 0.31960513],\n",
       "       [0.76328268, 0.91232465, 0.09492312],\n",
       "       ...,\n",
       "       [0.66225613, 0.3003103 , 0.82241669],\n",
       "       [0.42699981, 0.57425068, 0.55235676],\n",
       "       [0.87128416, 0.29799136, 0.83975283]])"
      ]
     },
     "execution_count": 183,
     "metadata": {},
     "output_type": "execute_result"
    }
   ],
   "source": [
    "pv_cells_xyz_arr"
   ]
  },
  {
   "cell_type": "code",
   "execution_count": 152,
   "id": "4bf6c503",
   "metadata": {},
   "outputs": [],
   "source": [
    "cell_irradiance_raw_total = collect_raw_irradiance(pv_cells_xyz_arr, sensor_pts_xyz_arr, sensor_pts_irradiance_values_total)\n",
    "cell_irradiance_raw_direct = collect_raw_irradiance(pv_cells_xyz_arr, sensor_pts_xyz_arr, sensor_pts_irradiance_values_direct)\n",
    "cell_irradiance_raw_diffuse = cell_irradiance_raw_total - cell_irradiance_raw_direct"
   ]
  },
  {
   "cell_type": "code",
   "execution_count": 158,
   "id": "15e5e897",
   "metadata": {},
   "outputs": [
    {
     "data": {
      "text/plain": [
       "Timestamp('2023-06-16 15:00:00')"
      ]
     },
     "execution_count": 158,
     "metadata": {},
     "output_type": "execute_result"
    }
   ],
   "source": [
    "normal_vector = (0,-1,0)\n",
    "hoy = 3999\n",
    "epw_file = \"/Users/jmccarty/Desktop/fluntern.epw\"\n",
    "cover_color = \"clear\"\n",
    "time_utils.hoy_to_date(hoy)"
   ]
  },
  {
   "cell_type": "code",
   "execution_count": 181,
   "id": "a839ff92",
   "metadata": {},
   "outputs": [],
   "source": [
    "vfunc=np.vectorize(mapping_irradiance.calculate_effective_irradiance, excluded={2})\n",
    "cell_irradiance_effective = vfunc(cell_irradiance_raw_direct, cell_irradiance_raw_diffuse, normal_vector, hoy, epw_file, front_cover_color=cover_color)"
   ]
  }
 ],
 "metadata": {
  "kernelspec": {
   "display_name": "workbench",
   "language": "python",
   "name": "python3"
  },
  "language_info": {
   "codemirror_mode": {
    "name": "ipython",
    "version": 3
   },
   "file_extension": ".py",
   "mimetype": "text/x-python",
   "name": "python",
   "nbconvert_exporter": "python",
   "pygments_lexer": "ipython3",
   "version": "3.10.8"
  },
  "vscode": {
   "interpreter": {
    "hash": "1a3328625e3463ac63cb2eb7677ec13fbd850dc4e70bad1c20f5d3eca316d6e5"
   }
  }
 },
 "nbformat": 4,
 "nbformat_minor": 5
}
