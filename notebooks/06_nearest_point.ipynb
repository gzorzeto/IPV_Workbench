{
 "cells": [
  {
   "cell_type": "code",
   "execution_count": 1,
   "id": "fc123666-6886-4fa7-bc6e-6ad2b7fc1a55",
   "metadata": {},
   "outputs": [
    {
     "name": "stdout",
     "output_type": "stream",
     "text": [
      "closest point: [0.28736653 0.19360153 0.27786357]\n"
     ]
    }
   ],
   "source": [
    "from scipy.spatial import KDTree\n",
    "import numpy as np\n",
    "n = 10\n",
    "v = np.random.rand(n, 3)\n",
    "kdtree = KDTree(v)\n",
    "d, i = kdtree.query((0,0,0))\n",
    "print(\"closest point:\", v[i])"
   ]
  },
  {
   "cell_type": "code",
   "execution_count": 35,
   "id": "a3623cce-14e7-457f-a963-1c4eac7214db",
   "metadata": {},
   "outputs": [],
   "source": [
    "from scipy.spatial.distance import cdist\n",
    "\n",
    "def closest_irradiance(cell_point, sensor_pts, irradiance_values):\n",
    "    return irradiance_values[cdist([cell_point], sensor_pts).argmin()]\n"
   ]
  },
  {
   "cell_type": "code",
   "execution_count": 36,
   "id": "7f87a6bd-95c1-4e58-8d3c-a3ce02113c61",
   "metadata": {},
   "outputs": [
    {
     "data": {
      "text/plain": [
       "array([359])"
      ]
     },
     "execution_count": 36,
     "metadata": {},
     "output_type": "execute_result"
    }
   ],
   "source": [
    "a = np.random.randint(1000, size=(50000, 2))\n",
    "b = np.random.randint(1000, size=(50000, 1))\n",
    "some_pt = np.random.randint(1000, size=(1, 2)).flatten()\n",
    "\n",
    "vector = (0,1,0)\n",
    "\n",
    "closest_irradiance(some_pt, a, b)"
   ]
  }
 ],
 "metadata": {
  "kernelspec": {
   "display_name": "Python [conda env:workbench]",
   "language": "python",
   "name": "conda-env-workbench-py"
  },
  "language_info": {
   "codemirror_mode": {
    "name": "ipython",
    "version": 3
   },
   "file_extension": ".py",
   "mimetype": "text/x-python",
   "name": "python",
   "nbconvert_exporter": "python",
   "pygments_lexer": "ipython3",
   "version": "3.10.8"
  }
 },
 "nbformat": 4,
 "nbformat_minor": 5
}
