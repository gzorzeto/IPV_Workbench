{
 "cells": [
  {
   "cell_type": "code",
   "execution_count": 2,
   "metadata": {},
   "outputs": [],
   "source": [
    "%load_ext autoreload\n",
    "%autoreload 2"
   ]
  },
  {
   "cell_type": "code",
   "execution_count": 21,
   "metadata": {},
   "outputs": [],
   "source": [
    "import sys\n",
    "import subprocess\n",
    "import os\n",
    "import pandas as np\n",
    "import numpy as np\n",
    "import pathlib\n",
    "import re\n",
    "import glob\n",
    "import pandas as pd\n",
    "from pprint import pprint\n",
    "module_path = \"/Users/jmccarty/Data/221205_ipv_workbench/github/IPV_Workbench\"\n",
    "sys.path.insert(0, module_path)\n",
    "from workbench.utilities import general, config_utils, temporal, io\n",
    "from workbench.manage import manage, host\n",
    "# from workbench.manage import host\n",
    "from workbench.workflows import workflows"
   ]
  },
  {
   "cell_type": "markdown",
   "metadata": {
    "slideshow": {
     "slide_type": "subslide"
    }
   },
   "source": [
    "# Overview"
   ]
  },
  {
   "cell_type": "markdown",
   "metadata": {
    "slideshow": {
     "slide_type": "slide"
    }
   },
   "source": [
    "# Part 1 Initialise and Build Model"
   ]
  },
  {
   "cell_type": "markdown",
   "metadata": {
    "slideshow": {
     "slide_type": "slide"
    }
   },
   "source": [
    "## 1.1 Initialise"
   ]
  },
  {
   "cell_type": "code",
   "execution_count": 3,
   "metadata": {
    "slideshow": {
     "slide_type": "subslide"
    }
   },
   "outputs": [],
   "source": [
    "# initialise the project folder\n",
    "# this creates a project folder in the parent dir using the project name and the base EPW file\n",
    "# the most important result of this process is the config file\n",
    "\n",
    "parent_dir = os.path.join(\"/Users\",\"jmccarty\",\"Desktop\",\"idp_tutorial\")\n",
    "project_name = \"idp_intro_day\"\n",
    "project_epw = os.path.join(\"/Users\",\"jmccarty\",\"Downloads\", \"fluntern_2001-2017.epw\")\n",
    "\n",
    "config_path = manage.initiate_project(parent_dir, project_name, project_epw)"
   ]
  },
  {
   "cell_type": "markdown",
   "metadata": {
    "slideshow": {
     "slide_type": "subslide"
    }
   },
   "source": [
    "\n",
    "<div style=\"align-contents: center; width: 600px;\">\n",
    "<img src=\"../../../sketches/folder_struct_new config.png\" alt=\"Basic Config File\" style=\"float:left; width: 100%;\"/>\n",
    "<p style=\"text-align: center; margin: 0 auto; width: 90%;\"> The initial folder structure\n",
    "</p>\n",
    "</div>"
   ]
  },
  {
   "cell_type": "markdown",
   "metadata": {},
   "source": [
    "\n",
    "<div style=\"align-contents: center; width: 600px;\">\n",
    "<img src=\"../../../sketches/basic_config_file.png\" alt=\"Basic Config File\" style=\"float:left; width: 100%;\"/>\n",
    "<p style=\"text-align: center; margin: 0 auto; width: 90%;\"> Here we can see the default config file that was just created. There are several sections and under each paremters that we will adjust throughout the tutorial using an instance of a Python object that is meant for managing the project.\n",
    "</p>\n",
    "</div>"
   ]
  },
  {
   "cell_type": "code",
   "execution_count": 4,
   "metadata": {},
   "outputs": [
    {
     "name": "stdout",
     "output_type": "stream",
     "text": [
      "Project latitude:  47.378\n",
      "Project longitude:  8.566\n"
     ]
    }
   ],
   "source": [
    "# intialise the project manager object using the config file\n",
    "# the basic operations in the project manager is the creation of file paths associated to the object which makes writing files, getting input data, \n",
    "# and accessing project details much easier\n",
    "project_manager = manage.Project(config_path)\n",
    "\n",
    "# for example when the projec tis initiated it reads the location details of the EPW file and enters them into the config \n",
    "print(\"Project latitude: \", project_manager.management_latitude)\n",
    "print(\"Project longitude: \", project_manager.management_longitude)"
   ]
  },
  {
   "cell_type": "code",
   "execution_count": 5,
   "metadata": {},
   "outputs": [
    {
     "name": "stdout",
     "output_type": "stream",
     "text": [
      "B1000\n",
      "B1008\n"
     ]
    }
   ],
   "source": [
    "# Feature Example\n",
    "# you can directly manipulate the config file using the edit_cfg_file class method of the project manager\n",
    "# you just need to enter the secion (in brackets in the file), the key (what you want to edit), and the new value\n",
    "\n",
    "# in this example we will change the host name (we will cover hosts later, but this is essentially a building name)\n",
    "print(project_manager.management_host_name)\n",
    "project_manager.edit_cfg_file(\"management\", \"host_name\", \"B1008\")\n",
    "print(project_manager.management_host_name)"
   ]
  },
  {
   "cell_type": "code",
   "execution_count": 6,
   "metadata": {},
   "outputs": [
    {
     "name": "stdout",
     "output_type": "stream",
     "text": [
      "The project is initialized. We have created a base host object named 'B1008'.\n",
      "You will need to either move or create the geometry and panelizer files into the appropriate directories.\n",
      "The geometry files should follow the convention defined in the output of the template grasshopper and rhino files.\n",
      "The panelizer files are those that have been created using the grasshopper utility. The Panelizer is\n",
      "not ready for a pure python implementation as of yet.\n"
     ]
    }
   ],
   "source": [
    "# the project manager contains a key method for setting up the rest of the project strucutre and th einitial files\n",
    "# there are several base files stored in your copy of CACTUS, they will be copied into a new file driectory\n",
    "project_manager.project_setup()"
   ]
  },
  {
   "cell_type": "markdown",
   "metadata": {},
   "source": [
    "\n",
    "<div style=\"align-contents: center; width: 600px;\">\n",
    "<img src=\"../../../sketches/folder_struct_initialised project.png\" alt=\"Basic Config File\" style=\"float:left; width: 100%;\"/>\n",
    "<p style=\"text-align: center; margin: 0 auto; width: 90%;\"> Upon intialising the project a large file structure will be created. Importantly some template files will be added to ghe geometry subfolder that we can use to build our own project.\n",
    "</p>\n",
    "</div>"
   ]
  },
  {
   "cell_type": "markdown",
   "metadata": {
    "slideshow": {
     "slide_type": "slide"
    }
   },
   "source": [
    "## 1.2 Model Builder"
   ]
  },
  {
   "cell_type": "markdown",
   "metadata": {},
   "source": [
    "<div style=\"align-contents: center; width: 600px;\">\n",
    "<img src=\"../../../sketches/cactus_template_geo.png\" alt=\"Basic Config File\" style=\"float:left; width: 100%;\"/>\n",
    "<p style=\"text-align: center; margin: 0 auto; width: 90%;\"> In its current form CACTUS still requires the user to rely on Rhino and Grasshopper for building the 3D model. This will change in future versions. The provided templates simplify the process by showing a small example that can be replaced. Here we see the template file \"0_cactus_geometry_template.3dm\" and the corresponding Grasshopper file.\n",
    "</p>\n",
    "<br>\n",
    "<p style=\"text-align: left; margin: 0 auto; width: 90%;\"> I have tried to reduce the number of dependencies for the Grasshopper scripts but several additional packages are required: <br \\>\n",
    " - Pancake: https://www.food4rhino.com/en/app/pancake  <br \\>\n",
    " - Human: https://www.food4rhino.com/en/app/human\n",
    "</p>\n",
    "</div>"
   ]
  },
  {
   "cell_type": "markdown",
   "metadata": {},
   "source": [
    "<div style=\"align-contents: center; width: 400px;\">\n",
    "<img src=\"../../../sketches/duplicate_templates.png\" alt=\"Basic Config File\" style=\"float:left; width: 100%;\"/>\n",
    "<p style=\"text-align: center; margin: 0 auto; width: 90%;\"> Because these are template files and can potentially be overwritten if the project_manager.project_setup method is called again the first thing to do is make copies and rename or saveas. Then open the renamed files that gein with \"0_\". This is the geometry modeler.\n",
    "</p>\n",
    "</div>"
   ]
  },
  {
   "cell_type": "markdown",
   "metadata": {},
   "source": [
    "<div style=\"align-contents: center; width: 400px;\">\n",
    "<img src=\"../../../sketches/set project config.png\" alt=\"Basic Config File\" style=\"float:left; width: 100%;\"/>\n",
    "<p style=\"text-align: center; margin: 0 auto; width: 90%;\"> The first step is to link the config file to the geometry modeling workflow by setting the Project Config File (File Path) component to the location of your config file. \n",
    "</p>\n",
    "</div>"
   ]
  },
  {
   "cell_type": "markdown",
   "metadata": {},
   "source": [
    "<div style=\"align-contents: center; width: 400px;\">\n",
    "<img src=\"../../../sketches/geometry_builder_export.png\" alt=\"Basic Config File\" style=\"float:left; width: 100%;\"/>\n",
    "<p style=\"text-align: center; margin: 0 auto; width: 90%;\"> Each group on the left side of the grasshopper definition provides a specific function for intaking geometry, manipulating it based on its type, and feeding it to the export component, which is shown here. This is the objective of the gemoetry builder template. \n",
    "</p>\n",
    "</div>"
   ]
  },
  {
   "cell_type": "markdown",
   "metadata": {},
   "source": [
    "<div style=\"align-contents: center; width: 400px;\">\n",
    "<img src=\"../../../sketches/geometry_builder_host.png\" alt=\"Basic Config File\" style=\"float:left; width: 100%;\"/>\n",
    "<p style=\"text-align: center; margin: 0 auto; width: 90%;\"> The object that contains the surfaces you want to apply PV panels to is known as the host. In this case that is the building highted in green. The grasshopper file uses a pipeline component to intake objects that are drawn in Rhino and stored in specific layers. \n",
    "</p>\n",
    "</div>"
   ]
  },
  {
   "cell_type": "markdown",
   "metadata": {},
   "source": [
    "<div style=\"align-contents: center; width: 400px;\">\n",
    "<img src=\"../../../sketches/geometry_builder_rename_host.png\" alt=\"Basic Config File\" style=\"float:left; width: 100%;\"/>\n",
    "<p style=\"text-align: center; margin: 0 auto; width: 90%;\"> Note that we changed the host name to B1008 in the config file in an earlier cell. We need to make this adjustment in the grasshopper tempalte as well.\n",
    "</p>\n",
    "</div>"
   ]
  },
  {
   "cell_type": "markdown",
   "metadata": {},
   "source": [
    "<div style=\"align-contents: center; width: 400px;\">\n",
    "<img src=\"../../../sketches/geometry_builder_layers.png\" alt=\"Basic Config File\" style=\"float:left; width: 100%;\"/>\n",
    "<p style=\"text-align: center; margin: 0 auto; width: 90%;\"> Here we show the basic layers that the template comes with and is prepared to intake. Extending past these is not recommended at this time.\n",
    "</p>\n",
    "</div>"
   ]
  },
  {
   "cell_type": "markdown",
   "metadata": {},
   "source": [
    "<div style=\"align-contents: center;  width: 800px; height: 250px; align-contents: middle\">\n",
    "<img src=\"../../../sketches/geometry_builder_terrain.png\" alt=\"Basic Config File\" style=\"float:left; width: 33%;\"/>\n",
    "<img src=\"../../../sketches/geometry_builder_host_objects.png\" alt=\"Basic Config File\" style=\"float:left; width: 33%;\"/>\n",
    "<img src=\"../../../sketches/geometry_builder_opaque_context.png\" alt=\"Basic Config File\" style=\"float:left; width: 33%;\"/>\n",
    "</div>\n",
    "<div style=\"align-contents: center; width: 800px; height: 150px; align-contents: middle\">\n",
    "<img src=\"../../../sketches/geometry_builder_seasonal_vegetation.png\" alt=\"Basic Config File\" style=\"float:left; width: 50%;\"/>\n",
    "<img src=\"../../../sketches/geometry_builder_constant_vegetation.png\" alt=\"Basic Config File\" style=\"float:left; width: 50%;\"/>\n",
    "</div>\n",
    "<div style=\"align-contents: center; width: 800px\">\n",
    "<p style=\"text-align: center; margin: 0 auto; width: 90%;\">Other than the host here are the other layers. Left to right: terrain, context objects on the host, surrounding opaque context (shading), vegetation that sheds leaves throughout the year, vegetation that does not shed leaves.\n",
    "</p>\n",
    "</div>\n"
   ]
  },
  {
   "cell_type": "markdown",
   "metadata": {},
   "source": [
    "<div style=\"align-contents: center; width: 800px;\">\n",
    "<img src=\"../../../sketches/geometry_builder_annotations.png\" alt=\"Basic Config File\" style=\"float:left; width: 100%;\"/>\n",
    "<p style=\"text-align: center; margin: 0 auto; width: 90%;\"> The template does not necessarily know which surfaces on the host that it is supposed to keep for the future panelizaer and analysis. Therefore there is a component group that allows the user to set a list corresponding to the surfaces. For each surface find the text tag and enter into the list the correct category under the same index order.\n",
    "</p>\n",
    "</div>"
   ]
  },
  {
   "cell_type": "markdown",
   "metadata": {},
   "source": [
    "<div style=\"align-contents: center; width: 800px;\">\n",
    "<img src=\"../../../sketches/geometry_builder_surface_builder.png\" alt=\"Basic Config File\" style=\"float:left; width: 100%;\"/>\n",
    "<p style=\"text-align: center; margin: 0 auto; width: 90%;\"> The last piece of the builder deals with surfaces that may have non integrated arrays. In this case that is the rooftop array. The sliders control the parameters of the array such that the user is free to manipulate it however they would like.\n",
    "</p>\n",
    "</div>"
   ]
  },
  {
   "cell_type": "markdown",
   "metadata": {},
   "source": [
    "<div style=\"align-contents: center; width: 800px;\">\n",
    "<img src=\"../../../sketches/geometry_builder_new_surfaces.png\" alt=\"Basic Config File\" style=\"float:left; width: 100%;\"/>\n",
    "<p style=\"text-align: center; margin: 0 auto; width: 90%;\"> It is understandable that outside of these layers you may want to add some geometry to act as a surface for PV. Luckily, with the flexibility of Grasshopper this is possible. Here we add several surfaces in the form of fixed shading devices that a PV module could be placed on. Note the new layer \"new_surfaces\".\n",
    "</p>\n",
    "</div>\n",
    "<br>\n",
    "<div style=\"align-contents: center; width: 800px;\">\n",
    "<img src=\"../../../sketches/geometry_builder_add_surface_A.png\" alt=\"Basic Config File\" style=\"float:left; width: 50%;\"/>\n",
    "<img src=\"../../../sketches/geometry_builder_add_surface_B.png\" alt=\"Basic Config File\" style=\"float:left; width: 50%;\"/> \n",
    "<br>\n",
    "<p style=\"text-align: center; margin: 0 auto; width: 90%;\"> Once the new surfaces are pulled into Grasshopper using the newly added pipeline component we can conncet them into the flow. At the far right of the script is a Merge component to add the surfaces to.\n",
    "</p>\n",
    "</div>"
   ]
  },
  {
   "cell_type": "markdown",
   "metadata": {},
   "source": [
    "<div style=\"align-contents: center; width: 800px;\">\n",
    "<img src=\"../../../sketches/geometry_builder_export_False.png\" alt=\"Basic Config File\" style=\"float:left; width: 50%;\"/>\n",
    "<img src=\"../../../sketches/geometry_builder_export_True.png\" alt=\"Basic Config File\" style=\"float:left; width: 50%;\"/> \n",
    "<br>\n",
    "<p style=\"text-align: center; margin: 0 auto; width: 90%;\"> Once finished with the geometry builder the model can be exported to a fresh rhino file using the boolean attached to the export component.\n",
    "</p>"
   ]
  },
  {
   "cell_type": "markdown",
   "metadata": {},
   "source": [
    "\n",
    "<div style=\"align-contents: center; width: 600px;\">\n",
    "<img src=\"../../../sketches/folder_struct_geometry_done.png\" alt=\"Basic Config File\" style=\"float:left; width: 100%;\"/>\n",
    "<p style=\"text-align: center; margin: 0 auto; width: 90%;\"> The newly created geometry file.\n",
    "</p>\n",
    "</div>"
   ]
  },
  {
   "cell_type": "markdown",
   "metadata": {},
   "source": [
    "## 1.3 Panelizer"
   ]
  },
  {
   "cell_type": "markdown",
   "metadata": {},
   "source": [
    "\n",
    "<div style=\"align-contents: center; width: 800px;\">\n",
    "<img src=\"../../../sketches/panelizer_overview_coarse.png\" alt=\"Basic Config File\" style=\"float:left; width: 100%;\"/>\n",
    "<p style=\"text-align: center; margin: 0 auto; width: 90%;\"> The Panelizer is a mostly automated Grasshopper script which intakes details about a potential PV module and automatically generates an array on the specified surfaces. The key output is a file type known as a pickle which is a Python native format. This pickle describes the details of the various arrays for a Host object. The file is used to relate irradiance data from the irradiance workflow, which the Panelizer script is also responble for generating the properly formattted Radiance folder that is used for the raytracing. This Grasshopper version is a Beta version of the Panelizer, which will move to pure python in the coming months. \n",
    "</p>\n",
    "</div>"
   ]
  },
  {
   "cell_type": "markdown",
   "metadata": {},
   "source": [
    "<div style=\"align-contents: center; width: 800px;\">\n",
    "<img src=\"../../../sketches/typical_devices.png\" alt=\"Basic Config File\" style=\"float:left; width: 50%;\"/>\n",
    "<img src=\"../../../sketches/bipv_co2_impact.png\" alt=\"Basic Config File\" style=\"float:left; width: 50%;\"/> \n",
    "\n",
    "<br>\n",
    "<p style=\"text-align: center; margin: 0 auto; width: 90%;\"> The first thing to do select a device to work from. Included with CACTUS are several \"typical\" devices that were charatersied from a large database of modules on the market from the past 5 years. It is possible to create new devices, but we will go over that in a later tutorial. Here you can see the typical devices on the left and then how they relate to emboided carbon from Galimshina et al. (2023).\n",
    "</p>\n",
    "</div>"
   ]
  },
  {
   "cell_type": "code",
   "execution_count": 22,
   "metadata": {},
   "outputs": [
    {
     "name": "stdout",
     "output_type": "stream",
     "text": [
      "Destination file already exists, copy aborted./n/Users/jmccarty/Data/221205_ipv_workbench/tutorials/cactus_tutorial/inputs/shared/tmy/base.epw\n",
      "Destination file already exists, copy aborted./n/Users/jmccarty/Data/221205_ipv_workbench/tutorials/cactus_tutorial/inputs/hosts/B1008/base/geometry/0_cactus_geometry_template.3dm\n",
      "Destination file already exists, copy aborted./n/Users/jmccarty/Data/221205_ipv_workbench/tutorials/cactus_tutorial/inputs/hosts/B1008/base/geometry/0_cactus_geometry_template.gh\n",
      "Destination file already exists, copy aborted./n/Users/jmccarty/Data/221205_ipv_workbench/tutorials/cactus_tutorial/inputs/hosts/B1008/base/geometry/1_cactus_panelizer_template.gh\n",
      "The project is initialized. We have created a base host object named 'B1008'.\n",
      "You will need to either move or create the geometry and panelizer files into the appropriate directories.\n",
      "The geometry files should follow the convention defined in the output of the template grasshopper and rhino files.\n",
      "The panelizer files are those that have been created using the grasshopper utility. The Panelizer is\n",
      "not ready for a pure python implementation as of yet.\n"
     ]
    }
   ],
   "source": [
    "# because we have restarted our notebook we will reactivate our project by reading in the config path\n",
    "# place your config path here\n",
    "config_path = \"/Users/jmccarty/Data/221205_ipv_workbench/tutorials/cactus_tutorial/cactus_tutorial.config\"\n",
    "project_manager = manage.Project(config_path)\n",
    "\n",
    "# rerun the setup in order to rebuild the entire project object and its attributes\n",
    "project_manager.project_setup()\n"
   ]
  },
  {
   "cell_type": "code",
   "execution_count": null,
   "metadata": {},
   "outputs": [],
   "source": [
    "# wee need to input the device id into our config file\n",
    "# in the shared folder of our project you will find CSV file for typical devices \"cactus_typical_devices\" \n",
    "# let's see what we have \"cactus_tutorial/inputs/shared/cell_module_data/cactus_typical_devices.csv\""
   ]
  },
  {
   "cell_type": "code",
   "execution_count": 23,
   "metadata": {},
   "outputs": [
    {
     "name": "stdout",
     "output_type": "stream",
     "text": [
      "D003\n",
      "D003\n"
     ]
    }
   ],
   "source": [
    "# we need to change the device id config option so grasshopper/panelizer can read it\n",
    "print(project_manager.analysis_device_id)\n",
    "project_manager.edit_cfg_file(\"analysis\", \"device_id\", \"D003\")\n",
    "print(project_manager.analysis_device_id)"
   ]
  },
  {
   "cell_type": "markdown",
   "metadata": {},
   "source": [
    "\n",
    "<div style=\"align-contents: center; width: 500px;\">\n",
    "<img src=\"../../../sketches/panelizer_tutorial/panelizer_files.png\" alt=\"Basic Config File\" style=\"float:left; width: 100%;\"/>\n",
    "<p style=\"text-align: center; margin: 0 auto; width: 90%;\"> Now we can open the Panelizer files. Start with the rhino file and then load the grasshopper.\n",
    "</p>\n",
    "</div>"
   ]
  },
  {
   "cell_type": "markdown",
   "metadata": {},
   "source": [
    "\n",
    "<div style=\"align-contents: center; width: 800px;\">\n",
    "<img src=\"../../../sketches/panelizer_tutorial/panelizer_overview.png\" alt=\"Basic Config File\" style=\"float:left; width: 100%;\"/>\n",
    "<p style=\"text-align: center; margin: 0 auto; width: 90%;\"> The panelizer has several parts. The first two are separated vertically. The upper workflow is for the actual panelization process. The smaller lower section is purely for writing a Radiance simulation project that CACTUS can read.\n",
    "</p>\n",
    "</div>"
   ]
  },
  {
   "cell_type": "code",
   "execution_count": 8,
   "metadata": {},
   "outputs": [],
   "source": [
    "# show slideshow"
   ]
  },
  {
   "cell_type": "code",
   "execution_count": 24,
   "metadata": {},
   "outputs": [],
   "source": [
    "building = host.Host(project_manager)"
   ]
  },
  {
   "cell_type": "code",
   "execution_count": 36,
   "metadata": {},
   "outputs": [
    {
     "name": "stdout",
     "output_type": "stream",
     "text": [
      "Starting Radiance workflow for surface 1008_4.\n",
      " - Running 2-Phase DDS with 7 workers\n",
      " - Current surface is 1008_4\n",
      " - Initializing the opening weather file.\n",
      " - Starting Part 1 (total).\n",
      "     - oconv\n",
      "     - rfluxmtx\n",
      "     - gendaymtx\n",
      "     - dctimestep | rmtxop\n",
      " - Starting Part 2 (direct).\n",
      "     - oconv\n",
      "     - rfluxmtx\n",
      "     - gendaymtx\n",
      "     - dctimestep | rmtxop\n",
      " - Starting Part 3 (sun).\n",
      "     - create_primitive_sun\n",
      "     - rcalc\n",
      "     - oconv\n",
      "     - rcontrib\n",
      "     - gendaymtx\n",
      "     - dctimestep | rmtxop\n",
      "Completed in 42.62 seconds.\n",
      "Converting .ill files to feather for surface 1008_4.\n",
      " - Saving Irradiance results\n",
      "    - Direct sensor data saved in compressed format, time=0.0-seconds.\n",
      "    - Diffuse sensor data saved in compressed format, time=0.0-seconds.\n",
      "Completed in 0.51 seconds.\n",
      "-----------------------\n",
      "Starting Radiance workflow for surface 1008_3.\n",
      " - Running 2-Phase DDS with 7 workers\n",
      " - Current surface is 1008_3\n",
      " - Initializing the opening weather file.\n",
      " - Starting Part 1 (total).\n",
      "     - oconv\n",
      "     - rfluxmtx\n",
      "     - gendaymtx\n",
      "     - dctimestep | rmtxop\n",
      " - Starting Part 2 (direct).\n",
      "     - oconv\n",
      "     - rfluxmtx\n",
      "     - gendaymtx\n",
      "     - dctimestep | rmtxop\n",
      " - Starting Part 3 (sun).\n",
      "     - create_primitive_sun\n",
      "     - rcalc\n",
      "     - oconv\n",
      "     - rcontrib\n",
      "     - gendaymtx\n",
      "     - dctimestep | rmtxop\n",
      "Completed in 62.18 seconds.\n",
      "Converting .ill files to feather for surface 1008_3.\n",
      " - Saving Irradiance results\n",
      "    - Direct sensor data saved in compressed format, time=0.0-seconds.\n",
      "    - Diffuse sensor data saved in compressed format, time=0.0-seconds.\n",
      "Completed in 0.46 seconds.\n",
      "-----------------------\n",
      "Starting Radiance workflow for surface 1008_7.\n",
      " - Running 2-Phase DDS with 7 workers\n",
      " - Current surface is 1008_7\n",
      " - Initializing the opening weather file.\n",
      " - Starting Part 1 (total).\n",
      "     - oconv\n",
      "     - rfluxmtx\n",
      "     - gendaymtx\n",
      "     - dctimestep | rmtxop\n",
      " - Starting Part 2 (direct).\n",
      "     - oconv\n",
      "     - rfluxmtx\n",
      "     - gendaymtx\n",
      "     - dctimestep | rmtxop\n",
      " - Starting Part 3 (sun).\n",
      "     - create_primitive_sun\n",
      "     - rcalc\n",
      "     - oconv\n",
      "     - rcontrib\n",
      "     - gendaymtx\n",
      "     - dctimestep | rmtxop\n",
      "Completed in 574.27 seconds.\n",
      "Converting .ill files to feather for surface 1008_7.\n",
      " - Saving Irradiance results\n",
      "    - Direct sensor data saved in compressed format, time=0.0-seconds.\n",
      "    - Diffuse sensor data saved in compressed format, time=0.0-seconds.\n",
      "Completed in 3.52 seconds.\n",
      "-----------------------\n",
      "Starting Radiance workflow for surface 1008_8.\n",
      " - Running 2-Phase DDS with 7 workers\n",
      " - Current surface is 1008_8\n",
      " - Initializing the opening weather file.\n",
      " - Starting Part 1 (total).\n",
      "     - oconv\n",
      "     - rfluxmtx\n",
      "     - gendaymtx\n",
      "     - dctimestep | rmtxop\n",
      " - Starting Part 2 (direct).\n",
      "     - oconv\n",
      "     - rfluxmtx\n",
      "     - gendaymtx\n",
      "     - dctimestep | rmtxop\n",
      " - Starting Part 3 (sun).\n",
      "     - create_primitive_sun\n",
      "     - rcalc\n",
      "     - oconv\n",
      "     - rcontrib\n",
      "     - gendaymtx\n",
      "     - dctimestep | rmtxop\n",
      "Completed in 28.53 seconds.\n",
      "Converting .ill files to feather for surface 1008_8.\n",
      " - Saving Irradiance results\n",
      "    - Direct sensor data saved in compressed format, time=0.0-seconds.\n",
      "    - Diffuse sensor data saved in compressed format, time=0.0-seconds.\n",
      "Completed in 0.17 seconds.\n",
      "-----------------------\n",
      "Starting Radiance workflow for surface 1008_5.\n",
      " - Running 2-Phase DDS with 7 workers\n",
      " - Current surface is 1008_5\n",
      " - Initializing the opening weather file.\n",
      " - Starting Part 1 (total).\n",
      "     - oconv\n",
      "     - rfluxmtx\n",
      "     - gendaymtx\n",
      "     - dctimestep | rmtxop\n",
      " - Starting Part 2 (direct).\n",
      "     - oconv\n",
      "     - rfluxmtx\n",
      "     - gendaymtx\n",
      "     - dctimestep | rmtxop\n",
      " - Starting Part 3 (sun).\n",
      "     - create_primitive_sun\n",
      "     - rcalc\n",
      "     - oconv\n",
      "     - rcontrib\n",
      "     - gendaymtx\n",
      "     - dctimestep | rmtxop\n",
      "Completed in 41.47 seconds.\n",
      "Converting .ill files to feather for surface 1008_5.\n",
      " - Saving Irradiance results\n",
      "    - Direct sensor data saved in compressed format, time=0.0-seconds.\n",
      "    - Diffuse sensor data saved in compressed format, time=0.0-seconds.\n",
      "Completed in 0.42 seconds.\n",
      "-----------------------\n",
      "Starting Radiance workflow for surface 1008_10.\n",
      " - Running 2-Phase DDS with 7 workers\n",
      " - Current surface is 1008_10\n",
      " - Initializing the opening weather file.\n",
      " - Starting Part 1 (total).\n",
      "     - oconv\n",
      "     - rfluxmtx\n",
      "     - gendaymtx\n",
      "     - dctimestep | rmtxop\n",
      " - Starting Part 2 (direct).\n",
      "     - oconv\n",
      "     - rfluxmtx\n",
      "     - gendaymtx\n",
      "     - dctimestep | rmtxop\n",
      " - Starting Part 3 (sun).\n",
      "     - create_primitive_sun\n",
      "     - rcalc\n",
      "     - oconv\n",
      "     - rcontrib\n",
      "     - gendaymtx\n",
      "     - dctimestep | rmtxop\n",
      "Completed in 40.58 seconds.\n",
      "Converting .ill files to feather for surface 1008_10.\n",
      " - Saving Irradiance results\n",
      "    - Direct sensor data saved in compressed format, time=0.0-seconds.\n",
      "    - Diffuse sensor data saved in compressed format, time=0.0-seconds.\n",
      "Completed in 0.47 seconds.\n",
      "-----------------------\n",
      "Starting Radiance workflow for surface 1008_14.\n",
      " - Running 2-Phase DDS with 7 workers\n",
      " - Current surface is 1008_14\n",
      " - Initializing the opening weather file.\n",
      " - Starting Part 1 (total).\n",
      "     - oconv\n",
      "     - rfluxmtx\n",
      "     - gendaymtx\n",
      "     - dctimestep | rmtxop\n",
      " - Starting Part 2 (direct).\n",
      "     - oconv\n",
      "     - rfluxmtx\n",
      "     - gendaymtx\n",
      "     - dctimestep | rmtxop\n",
      " - Starting Part 3 (sun).\n",
      "     - create_primitive_sun\n",
      "     - rcalc\n",
      "     - oconv\n",
      "     - rcontrib\n"
     ]
    }
   ],
   "source": [
    "workflows.run_irradiance(building)"
   ]
  },
  {
   "cell_type": "code",
   "execution_count": 25,
   "metadata": {},
   "outputs": [
    {
     "name": "stdout",
     "output_type": "stream",
     "text": [
      "Starting module center_point analysis workflow for surface 1008_4.\n",
      "{1008;4}\n"
     ]
    },
    {
     "ename": "FileNotFoundError",
     "evalue": "[Errno 2] No such file or directory: '/Users/jmccarty/Data/221205_ipv_workbench/tutorials/cactus_tutorial/inputs/hosts/B1008/base/radiance/1008_4/model/base.wea'",
     "output_type": "error",
     "traceback": [
      "\u001b[0;31m---------------------------------------------------------------------------\u001b[0m",
      "\u001b[0;31mFileNotFoundError\u001b[0m                         Traceback (most recent call last)",
      "\u001b[1;32m/Users/jmccarty/Data/221205_ipv_workbench/github/IPV_Workbench/notebooks/23_basic_workflow.ipynb Cell 38\u001b[0m line \u001b[0;36m1\n\u001b[0;32m----> <a href='vscode-notebook-cell:/Users/jmccarty/Data/221205_ipv_workbench/github/IPV_Workbench/notebooks/23_basic_workflow.ipynb#X52sZmlsZQ%3D%3D?line=0'>1</a>\u001b[0m workflows\u001b[39m.\u001b[39;49mrun_module_point(building, \u001b[39m\"\u001b[39;49m\u001b[39mcenter_point\u001b[39;49m\u001b[39m\"\u001b[39;49m)\n",
      "File \u001b[0;32m~/Data/221205_ipv_workbench/github/IPV_Workbench/workbench/workflows/workflows.py:81\u001b[0m, in \u001b[0;36mrun_module_point\u001b[0;34m(host, point_resolution)\u001b[0m\n\u001b[1;32m     79\u001b[0m \u001b[39mif\u001b[39;00m point_resolution \u001b[39m==\u001b[39m \u001b[39m'\u001b[39m\u001b[39mcenter_point\u001b[39m\u001b[39m'\u001b[39m:\n\u001b[1;32m     80\u001b[0m     \u001b[39mprint\u001b[39m(surface)\n\u001b[0;32m---> 81\u001b[0m     host\u001b[39m.\u001b[39;49msolve_module_center_pts(surface)\n\u001b[1;32m     82\u001b[0m \u001b[39melif\u001b[39;00m point_resolution \u001b[39m==\u001b[39m \u001b[39m'\u001b[39m\u001b[39mcell_point\u001b[39m\u001b[39m'\u001b[39m:\n\u001b[1;32m     83\u001b[0m     host\u001b[39m.\u001b[39msolve_module_cell_pts(surface)\n",
      "File \u001b[0;32m~/Data/221205_ipv_workbench/github/IPV_Workbench/workbench/manage/host.py:190\u001b[0m, in \u001b[0;36mHost.solve_module_center_pts\u001b[0;34m(self, surface)\u001b[0m\n\u001b[1;32m    187\u001b[0m psl \u001b[39m=\u001b[39m \u001b[39mself\u001b[39m\u001b[39m.\u001b[39mtmy_dataframe[\u001b[39m'\u001b[39m\u001b[39matmos_Pa\u001b[39m\u001b[39m'\u001b[39m]\u001b[39m.\u001b[39mvalues[\u001b[39mself\u001b[39m\u001b[39m.\u001b[39mall_hoy]\n\u001b[1;32m    189\u001b[0m radiance_surface_key \u001b[39m=\u001b[39m \u001b[39mself\u001b[39m\u001b[39m.\u001b[39mget_dict_instance([surface])[\u001b[39m'\u001b[39m\u001b[39mDetails\u001b[39m\u001b[39m'\u001b[39m][\u001b[39m'\u001b[39m\u001b[39mradiance_surface_label\u001b[39m\u001b[39m'\u001b[39m]\n\u001b[0;32m--> 190\u001b[0m direct_irrad \u001b[39m=\u001b[39m io\u001b[39m.\u001b[39;49mload_irradiance_file(\u001b[39mself\u001b[39;49m\u001b[39m.\u001b[39;49mproject, radiance_surface_key, \u001b[39m\"\u001b[39;49m\u001b[39mdirect\u001b[39;49m\u001b[39m\"\u001b[39;49m)\u001b[39m.\u001b[39mvalues[\n\u001b[1;32m    191\u001b[0m     \u001b[39mself\u001b[39m\u001b[39m.\u001b[39mall_hoy]\n\u001b[1;32m    192\u001b[0m diffuse_irrad \u001b[39m=\u001b[39m io\u001b[39m.\u001b[39mload_irradiance_file(\u001b[39mself\u001b[39m\u001b[39m.\u001b[39mproject, radiance_surface_key, \u001b[39m\"\u001b[39m\u001b[39mdiffuse\u001b[39m\u001b[39m\"\u001b[39m)\u001b[39m.\u001b[39mvalues[\n\u001b[1;32m    193\u001b[0m     \u001b[39mself\u001b[39m\u001b[39m.\u001b[39mall_hoy]\n\u001b[1;32m    194\u001b[0m grid_pts \u001b[39m=\u001b[39m io\u001b[39m.\u001b[39mload_grid_file(\u001b[39mself\u001b[39m\u001b[39m.\u001b[39mproject, radiance_surface_key)\n",
      "File \u001b[0;32m~/Data/221205_ipv_workbench/github/IPV_Workbench/workbench/utilities/io.py:32\u001b[0m, in \u001b[0;36mload_irradiance_file\u001b[0;34m(project, radiance_surface_key, component)\u001b[0m\n\u001b[1;32m     29\u001b[0m output_surface_dir \u001b[39m=\u001b[39m os\u001b[39m.\u001b[39mpath\u001b[39m.\u001b[39mjoin(project\u001b[39m.\u001b[39mmanagement_parent_dir, project\u001b[39m.\u001b[39mmanagement_project_name, \u001b[39m\"\u001b[39m\u001b[39moutputs\u001b[39m\u001b[39m\"\u001b[39m, project\u001b[39m.\u001b[39mmanagement_host_name,\n\u001b[1;32m     30\u001b[0m                                   project\u001b[39m.\u001b[39mmanagement_scenario_name, \u001b[39m\"\u001b[39m\u001b[39mirradiance\u001b[39m\u001b[39m\"\u001b[39m, \u001b[39mf\u001b[39m\u001b[39m\"\u001b[39m\u001b[39m{\u001b[39;00mradiance_surface_key\u001b[39m}\u001b[39;00m\u001b[39m\"\u001b[39m)\n\u001b[1;32m     31\u001b[0m results_filepath \u001b[39m=\u001b[39m os\u001b[39m.\u001b[39mpath\u001b[39m.\u001b[39mjoin(output_surface_dir, \u001b[39mf\u001b[39m\u001b[39m\"\u001b[39m\u001b[39m{\u001b[39;00mcomponent\u001b[39m}\u001b[39;00m\u001b[39m.lz4\u001b[39m\u001b[39m\"\u001b[39m)\n\u001b[0;32m---> 32\u001b[0m ill_df \u001b[39m=\u001b[39m general\u001b[39m.\u001b[39;49mbuild_full_ill(results_filepath, wea_file\u001b[39m=\u001b[39;49mwea_filepath)\n\u001b[1;32m     33\u001b[0m ill_df\u001b[39m.\u001b[39msort_index(inplace\u001b[39m=\u001b[39m\u001b[39mTrue\u001b[39;00m)\n\u001b[1;32m     34\u001b[0m \u001b[39mreturn\u001b[39;00m ill_df\n",
      "File \u001b[0;32m~/Data/221205_ipv_workbench/github/IPV_Workbench/workbench/utilities/general.py:284\u001b[0m, in \u001b[0;36mbuild_full_ill\u001b[0;34m(ill_df, wea_file)\u001b[0m\n\u001b[1;32m    282\u001b[0m     \u001b[39mpass\u001b[39;00m\n\u001b[1;32m    283\u001b[0m \u001b[39melse\u001b[39;00m:\n\u001b[0;32m--> 284\u001b[0m     wea, header \u001b[39m=\u001b[39m io\u001b[39m.\u001b[39;49mread_wea(wea_file)\n\u001b[1;32m    285\u001b[0m     ill_df\u001b[39m.\u001b[39mset_index(wea\u001b[39m.\u001b[39mindex, inplace\u001b[39m=\u001b[39m\u001b[39mTrue\u001b[39;00m, drop\u001b[39m=\u001b[39m\u001b[39mTrue\u001b[39;00m)\n\u001b[1;32m    287\u001b[0m \u001b[39mreturn\u001b[39;00m ill_df\n",
      "File \u001b[0;32m~/Data/221205_ipv_workbench/github/IPV_Workbench/workbench/utilities/io.py:38\u001b[0m, in \u001b[0;36mread_wea\u001b[0;34m(wea_file, year)\u001b[0m\n\u001b[1;32m     37\u001b[0m \u001b[39mdef\u001b[39;00m \u001b[39mread_wea\u001b[39m(wea_file, year\u001b[39m=\u001b[39m\u001b[39m2030\u001b[39m):\n\u001b[0;32m---> 38\u001b[0m     \u001b[39mwith\u001b[39;00m \u001b[39mopen\u001b[39m(wea_file, \u001b[39m\"\u001b[39m\u001b[39mr\u001b[39m\u001b[39m\"\u001b[39m) \u001b[39mas\u001b[39;00m fp:\n\u001b[1;32m     39\u001b[0m         header \u001b[39m=\u001b[39m fp\u001b[39m.\u001b[39mreadlines()[\u001b[39m0\u001b[39m:\u001b[39m6\u001b[39m]\n\u001b[1;32m     41\u001b[0m     \u001b[39m# get wea data\u001b[39;00m\n",
      "\u001b[0;31mFileNotFoundError\u001b[0m: [Errno 2] No such file or directory: '/Users/jmccarty/Data/221205_ipv_workbench/tutorials/cactus_tutorial/inputs/hosts/B1008/base/radiance/1008_4/model/base.wea'"
     ]
    }
   ],
   "source": [
    "workflows.run_module_point(building, \"center_point\")"
   ]
  },
  {
   "cell_type": "code",
   "execution_count": 20,
   "metadata": {},
   "outputs": [
    {
     "name": "stdout",
     "output_type": "stream",
     "text": [
      "Starting module cell_point analysis workflow for surface 1008_4.\n",
      "Completed in 1.23 seconds.\n",
      "-----------------------\n",
      "Starting module cell_point analysis workflow for surface 1008_3.\n",
      "Completed in 0.21 seconds.\n",
      "-----------------------\n",
      "Starting module cell_point analysis workflow for surface 1008_7.\n",
      "Completed in 7.41 seconds.\n",
      "-----------------------\n",
      "Starting module cell_point analysis workflow for surface 1008_10.\n",
      "Completed in 1.17 seconds.\n",
      "-----------------------\n",
      "Starting module cell_point analysis workflow for surface 1008_5.\n",
      "Completed in 0.36 seconds.\n",
      "-----------------------\n",
      "Starting module cell_point analysis workflow for surface 1008_14.\n",
      "Completed in 11.82 seconds.\n",
      "-----------------------\n",
      "Starting module cell_point analysis workflow for surface 1008_11.\n",
      "Completed in 0.37 seconds.\n",
      "-----------------------\n",
      "Starting module cell_point analysis workflow for surface 1008_0.\n",
      "Completed in 9.67 seconds.\n",
      "-----------------------\n",
      "Starting module cell_point analysis workflow for surface 1008_9.\n",
      "Completed in 0.35 seconds.\n",
      "-----------------------\n",
      "Starting module cell_point analysis workflow for surface 1008_2.\n",
      "Completed in 0.19 seconds.\n",
      "-----------------------\n",
      "Starting module cell_point analysis workflow for surface 1008_12.\n",
      "Completed in 0.69 seconds.\n",
      "-----------------------\n",
      "Cumulating and saving results for host object.\n",
      "File containing electricity loads not found. Results that require this input will not be calculated\n",
      "Completed in 36.38 seconds.\n"
     ]
    }
   ],
   "source": [
    "workflows.run_module_point(building, \"cell_point\")"
   ]
  },
  {
   "cell_type": "code",
   "execution_count": 35,
   "metadata": {},
   "outputs": [
    {
     "data": {
      "text/plain": [
       "<Axes: >"
      ]
     },
     "execution_count": 35,
     "metadata": {},
     "output_type": "execute_result"
    },
    {
     "data": {
      "image/png": "[encoded data removed]",
      "text/plain": [
       "<Figure size 640x480 with 1 Axes>"
      ]
     },
     "metadata": {},
     "output_type": "display_data"
    }
   ],
   "source": [
    "center_pt = pd.read_csv(\"/Users/jmccarty/Downloads/base_center_point_building_level_results_hourly.csv\")\n",
    "cell_pt = pd.read_csv(\"/Users/jmccarty/Downloads/base_cell_point_building_level_results_hourly.csv\")\n",
    "\n",
    "(cell_pt['electricity_gen_bulk_building_kwh'] - center_pt['electricity_gen_bulk_building_kwh']).plot()"
   ]
  }
 ],
 "metadata": {
  "kernelspec": {
   "display_name": "workbench311",
   "language": "python",
   "name": "python3"
  },
  "language_info": {
   "codemirror_mode": {
    "name": "ipython",
    "version": 3
   },
   "file_extension": ".py",
   "mimetype": "text/x-python",
   "name": "python",
   "nbconvert_exporter": "python",
   "pygments_lexer": "ipython3",
   "version": "3.11.6"
  }
 },
 "nbformat": 4,
 "nbformat_minor": 2
}
