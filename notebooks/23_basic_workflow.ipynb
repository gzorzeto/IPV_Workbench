{
 "cells": [
  {
   "cell_type": "code",
   "execution_count": 1,
   "metadata": {},
   "outputs": [],
   "source": [
    "%load_ext autoreload\n",
    "%autoreload 2"
   ]
  },
  {
   "cell_type": "code",
   "execution_count": 2,
   "metadata": {},
   "outputs": [],
   "source": [
    "import sys\n",
    "import subprocess\n",
    "import os\n",
    "import pandas as np\n",
    "import numpy as np\n",
    "import pathlib\n",
    "import re\n",
    "import glob\n",
    "import pandas as pd\n",
    "\n",
    "module_path = \"/Users/jmccarty/Data/221205_ipv_workbench/github/IPV_Workbench\"\n",
    "sys.path.insert(0, module_path)\n",
    "from workbench.utilities import general, config_utils, temporal, io\n",
    "from workbench.manage import manage, host\n",
    "# from workbench.manage import host\n",
    "from workbench.workflows import workflows"
   ]
  },
  {
   "cell_type": "markdown",
   "metadata": {},
   "source": [
    "# Overview"
   ]
  },
  {
   "cell_type": "markdown",
   "metadata": {},
   "source": [
    "# Part 1 Initialise and Build Model"
   ]
  },
  {
   "cell_type": "markdown",
   "metadata": {},
   "source": [
    "## 1.1 Initialise"
   ]
  },
  {
   "cell_type": "code",
   "execution_count": 79,
   "metadata": {},
   "outputs": [],
   "source": [
    "# initialise the project folder\n",
    "# this creates a project folder in the parent dir using the project name and the base EPW file\n",
    "# the most important result of this process is the config file\n",
    "\n",
    "parent_dir = os.path.join(\"/Users\",\"jmccarty\",\"Data\",\"221205_ipv_workbench\",\"tutorials\")\n",
    "project_name = \"cactus_tutorial\"\n",
    "project_epw = os.path.join(\"/Users\",\"jmccarty\",\"Downloads\", \"fluntern_2001-2017.epw\")\n",
    "\n",
    "config_path = manage.initiate_project(parent_dir, project_name, project_epw)"
   ]
  },
  {
   "cell_type": "markdown",
   "metadata": {},
   "source": [
    "\n",
    "<div style=\"align-contents: center; width: 600px;\">\n",
    "<img src=\"../../../sketches/folder_struct_new config.png\" alt=\"Basic Config File\" style=\"float:left; width: 100%;\"/>\n",
    "<p style=\"text-align: center; margin: 0 auto; width: 90%;\"> The initial folder structure\n",
    "</p>\n",
    "</div>"
   ]
  },
  {
   "cell_type": "markdown",
   "metadata": {},
   "source": [
    "\n",
    "<div style=\"align-contents: center; width: 600px;\">\n",
    "<img src=\"../../../sketches/basic_config_file.png\" alt=\"Basic Config File\" style=\"float:left; width: 100%;\"/>\n",
    "<p style=\"text-align: center; margin: 0 auto; width: 90%;\"> Here we can see the default config file that was just created. There are several sections and under each paremters that we will adjust throughout the tutorial using an instance of a Python object that is meant for managing the project.\n",
    "</p>\n",
    "</div>"
   ]
  },
  {
   "cell_type": "code",
   "execution_count": 80,
   "metadata": {},
   "outputs": [
    {
     "name": "stdout",
     "output_type": "stream",
     "text": [
      "Project latitude:  47.378\n",
      "Project longitude:  8.566\n"
     ]
    }
   ],
   "source": [
    "# intialise the project manager object using the config file\n",
    "# the basic operations in the project manager is the creation of file paths associated to the object which makes writing files, getting input data, \n",
    "# and accessing project details much easier\n",
    "project_manager = manage.Project(config_path)\n",
    "\n",
    "# for example when the projec tis initiated it reads the location details of the EPW file and enters them into the config \n",
    "print(\"Project latitude: \", project_manager.management_latitude)\n",
    "print(\"Project longitude: \", project_manager.management_longitude)"
   ]
  },
  {
   "cell_type": "code",
   "execution_count": 81,
   "metadata": {},
   "outputs": [
    {
     "name": "stdout",
     "output_type": "stream",
     "text": [
      "B1000\n",
      "B1008\n"
     ]
    }
   ],
   "source": [
    "# Feature Example\n",
    "# you can directly manipulate the config file using the edit_cfg_file class method of the project manager\n",
    "# you just need to enter the secion (in brackets in the file), the key (what you want to edit), and the new value\n",
    "\n",
    "# in this example we will change the host name (we will cover hosts later, but this is essentially a building name)\n",
    "print(project_manager.management_host_name)\n",
    "project_manager.edit_cfg_file(\"management\", \"host_name\", \"B1008\")\n",
    "print(project_manager.management_host_name)"
   ]
  },
  {
   "cell_type": "code",
   "execution_count": 87,
   "metadata": {},
   "outputs": [
    {
     "name": "stdout",
     "output_type": "stream",
     "text": [
      "The project is initialized. We have created a base host object named 'B1008'.\n",
      "You will need to either move or create the geometry and panelizer files into the appropriate directories.\n",
      "The geometry files should follow the convention defined in the output of the template grasshopper and rhino files.\n",
      "The panelizer files are those that have been created using the grasshopper utility. The Panelizer is\n",
      "not ready for a pure python implementation as of yet.\n"
     ]
    }
   ],
   "source": [
    "# the project manager contains a key method for setting up the rest of the project strucutre and th einitial files\n",
    "# there are several base files stored in your copy of CACTUS, they will be copied into a new file driectory\n",
    "project_manager.project_setup()"
   ]
  },
  {
   "cell_type": "markdown",
   "metadata": {},
   "source": [
    "\n",
    "<div style=\"align-contents: center; width: 600px;\">\n",
    "<img src=\"../../../sketches/folder_struct_initialised project.png\" alt=\"Basic Config File\" style=\"float:left; width: 100%;\"/>\n",
    "<p style=\"text-align: center; margin: 0 auto; width: 90%;\"> Upon intialising the project a large file structure will be created. Importantly some template files will be added to ghe geometry subfolder that we can use to build our own project.\n",
    "</p>\n",
    "</div>"
   ]
  },
  {
   "cell_type": "markdown",
   "metadata": {},
   "source": [
    "## 1.2 Model Builder"
   ]
  },
  {
   "cell_type": "markdown",
   "metadata": {},
   "source": [
    "<div style=\"align-contents: center; width: 600px;\">\n",
    "<img src=\"../../../sketches/cactus_template_geo.png\" alt=\"Basic Config File\" style=\"float:left; width: 100%;\"/>\n",
    "<p style=\"text-align: center; margin: 0 auto; width: 90%;\"> In its current form CACTUS still requires the user to rely on Rhino and Grasshopper for building the 3D model. This will change in future versions. The provided templates simplify the process by showing a small example that can be replaced. Here we see the template file \"0_cactus_geometry_template.3dm\" and the corresponding Grasshopper file.\n",
    "</p>\n",
    "<br>\n",
    "<p style=\"text-align: left; margin: 0 auto; width: 90%;\"> I have tried to reduce the number of dependencies for the Grasshopper scripts but several additional packages are required: <br \\>\n",
    " - Pancake: https://www.food4rhino.com/en/app/pancake  <br \\>\n",
    " - Human: https://www.food4rhino.com/en/app/human\n",
    "</p>\n",
    "</div>"
   ]
  },
  {
   "cell_type": "markdown",
   "metadata": {},
   "source": [
    "<div style=\"align-contents: center; width: 400px;\">\n",
    "<img src=\"../../../sketches/duplicate_templates.png\" alt=\"Basic Config File\" style=\"float:left; width: 100%;\"/>\n",
    "<p style=\"text-align: center; margin: 0 auto; width: 90%;\"> Because these are template files and can potentially be overwritten if the project_manager.project_setup method is called again the first thing to do is make copies and rename or saveas. Then open the renamed files that gein with \"0_\". This is the geometry modeler.\n",
    "</p>\n",
    "</div>"
   ]
  },
  {
   "cell_type": "markdown",
   "metadata": {},
   "source": [
    "<div style=\"align-contents: center; width: 400px;\">\n",
    "<img src=\"../../../sketches/set project config.png\" alt=\"Basic Config File\" style=\"float:left; width: 100%;\"/>\n",
    "<p style=\"text-align: center; margin: 0 auto; width: 90%;\"> The first step is to link the config file to the geometry modeling workflow by setting the Project Config File (File Path) component to the location of your config file. \n",
    "</p>\n",
    "</div>"
   ]
  },
  {
   "cell_type": "markdown",
   "metadata": {},
   "source": [
    "<div style=\"align-contents: center; width: 400px;\">\n",
    "<img src=\"../../../sketches/geometry_builder_export.png\" alt=\"Basic Config File\" style=\"float:left; width: 100%;\"/>\n",
    "<p style=\"text-align: center; margin: 0 auto; width: 90%;\"> Each group on the left side of the grasshopper definition provides a specific function for intaking geometry, manipulating it based on its type, and feeding it to the export component, which is shown here. This is the objective of the gemoetry builder template. \n",
    "</p>\n",
    "</div>"
   ]
  },
  {
   "cell_type": "markdown",
   "metadata": {},
   "source": [
    "<div style=\"align-contents: center; width: 400px;\">\n",
    "<img src=\"../../../sketches/geometry_builder_host.png\" alt=\"Basic Config File\" style=\"float:left; width: 100%;\"/>\n",
    "<p style=\"text-align: center; margin: 0 auto; width: 90%;\"> The object that contains the surfaces you want to apply PV panels to is known as the host. In this case that is the building highted in green. The grasshopper file uses a pipeline component to intake objects that are drawn in Rhino and stored in specific layers. \n",
    "</p>\n",
    "</div>"
   ]
  },
  {
   "cell_type": "markdown",
   "metadata": {},
   "source": [
    "<div style=\"align-contents: center; width: 400px;\">\n",
    "<img src=\"../../../sketches/geometry_builder_rename_host.png\" alt=\"Basic Config File\" style=\"float:left; width: 100%;\"/>\n",
    "<p style=\"text-align: center; margin: 0 auto; width: 90%;\"> Note that we changed the host name to B1008 in the config file in an earlier cell. We need to make this adjustment in the grasshopper tempalte as well.\n",
    "</p>\n",
    "</div>"
   ]
  },
  {
   "cell_type": "markdown",
   "metadata": {},
   "source": [
    "<div style=\"align-contents: center; width: 400px;\">\n",
    "<img src=\"../../../sketches/geometry_builder_layers.png\" alt=\"Basic Config File\" style=\"float:left; width: 100%;\"/>\n",
    "<p style=\"text-align: center; margin: 0 auto; width: 90%;\"> Here we show the basic layers that the template comes with and is prepared to intake. Extending past these is not recommended at this time.\n",
    "</p>\n",
    "</div>"
   ]
  },
  {
   "cell_type": "markdown",
   "metadata": {},
   "source": [
    "<div style=\"align-contents: center;  width: 800px; height: 250px; align-contents: middle\">\n",
    "<img src=\"../../../sketches/geometry_builder_terrain.png\" alt=\"Basic Config File\" style=\"float:left; width: 33%;\"/>\n",
    "<img src=\"../../../sketches/geometry_builder_host_objects.png\" alt=\"Basic Config File\" style=\"float:left; width: 33%;\"/>\n",
    "<img src=\"../../../sketches/geometry_builder_opaque_context.png\" alt=\"Basic Config File\" style=\"float:left; width: 33%;\"/>\n",
    "</div>\n",
    "<div style=\"align-contents: center; width: 800px; height: 150px; align-contents: middle\">\n",
    "<img src=\"../../../sketches/geometry_builder_seasonal_vegetation.png\" alt=\"Basic Config File\" style=\"float:left; width: 50%;\"/>\n",
    "<img src=\"../../../sketches/geometry_builder_constant_vegetation.png\" alt=\"Basic Config File\" style=\"float:left; width: 50%;\"/>\n",
    "</div>\n",
    "<div style=\"align-contents: center; width: 800px\">\n",
    "<p style=\"text-align: center; margin: 0 auto; width: 90%;\">Other than the host here are the other layers. Left to right: terrain, context objects on the host, surrounding opaque context (shading), vegetation that sheds leaves throughout the year, vegetation that does not shed leaves.\n",
    "</p>\n",
    "</div>\n"
   ]
  },
  {
   "cell_type": "markdown",
   "metadata": {},
   "source": [
    "<div style=\"align-contents: center; width: 800px;\">\n",
    "<img src=\"../../../sketches/geometry_builder_annotations.png\" alt=\"Basic Config File\" style=\"float:left; width: 100%;\"/>\n",
    "<p style=\"text-align: center; margin: 0 auto; width: 90%;\"> The template does not necessarily know which surfaces on the host that it is supposed to keep for the future panelizaer and analysis. Therefore there is a component group that allows the user to set a list corresponding to the surfaces. For each surface find the text tag and enter into the list the correct category under the same index order.\n",
    "</p>\n",
    "</div>"
   ]
  },
  {
   "cell_type": "markdown",
   "metadata": {},
   "source": [
    "<div style=\"align-contents: center; width: 800px;\">\n",
    "<img src=\"../../../sketches/geometry_builder_surface_builder.png\" alt=\"Basic Config File\" style=\"float:left; width: 100%;\"/>\n",
    "<p style=\"text-align: center; margin: 0 auto; width: 90%;\"> The last piece of the builder deals with surfaces that may have non integrated arrays. In this case that is the rooftop array. The sliders control the parameters of the array such that the user is free to manipulate it however they would like.\n",
    "</p>\n",
    "</div>"
   ]
  },
  {
   "cell_type": "markdown",
   "metadata": {},
   "source": [
    "<div style=\"align-contents: center; width: 800px;\">\n",
    "<img src=\"../../../sketches/geometry_builder_new_surfaces.png\" alt=\"Basic Config File\" style=\"float:left; width: 100%;\"/>\n",
    "<p style=\"text-align: center; margin: 0 auto; width: 90%;\"> It is understandable that outside of these layers you may want to add some geometry to act as a surface for PV. Luckily, with the flexibility of Grasshopper this is possible. Here we add several surfaces in the form of fixed shading devices that a PV module could be placed on. Note the new layer \"new_surfaces\".\n",
    "</p>\n",
    "</div>\n",
    "<br>\n",
    "<div style=\"align-contents: center; width: 800px;\">\n",
    "<img src=\"../../../sketches/geometry_builder_add_surface_A.png\" alt=\"Basic Config File\" style=\"float:left; width: 50%;\"/>\n",
    "<img src=\"../../../sketches/geometry_builder_add_surface_B.png\" alt=\"Basic Config File\" style=\"float:left; width: 50%;\"/> \n",
    "<br>\n",
    "<p style=\"text-align: center; margin: 0 auto; width: 90%;\"> Once the new surfaces are pulled into Grasshopper using the newly added pipeline component we can conncet them into the flow. At the far right of the script is a Merge component to add the surfaces to.\n",
    "</p>\n",
    "</div>"
   ]
  },
  {
   "cell_type": "markdown",
   "metadata": {},
   "source": [
    "<div style=\"align-contents: center; width: 800px;\">\n",
    "<img src=\"../../../sketches/geometry_builder_export_False.png\" alt=\"Basic Config File\" style=\"float:left; width: 50%;\"/>\n",
    "<img src=\"../../../sketches/geometry_builder_export_True.png\" alt=\"Basic Config File\" style=\"float:left; width: 50%;\"/> \n",
    "<br>\n",
    "<p style=\"text-align: center; margin: 0 auto; width: 90%;\"> Once finished with the geometry builder the model can be exported to a fresh rhino file using the boolean attached to the export component.\n",
    "</p>"
   ]
  },
  {
   "cell_type": "markdown",
   "metadata": {},
   "source": [
    "\n",
    "<div style=\"align-contents: center; width: 600px;\">\n",
    "<img src=\"../../../sketches/folder_struct_geometry_done.png\" alt=\"Basic Config File\" style=\"float:left; width: 100%;\"/>\n",
    "<p style=\"text-align: center; margin: 0 auto; width: 90%;\"> The newly created geometry file.\n",
    "</p>\n",
    "</div>"
   ]
  },
  {
   "cell_type": "markdown",
   "metadata": {},
   "source": [
    "## 1.3 Panelizer"
   ]
  },
  {
   "cell_type": "markdown",
   "metadata": {},
   "source": [
    "\n",
    "<div style=\"align-contents: center; width: 800px;\">\n",
    "<img src=\"../../../sketches/panelizer_overview_coarse.png\" alt=\"Basic Config File\" style=\"float:left; width: 100%;\"/>\n",
    "<p style=\"text-align: center; margin: 0 auto; width: 90%;\"> The Panelizer is a mostly automated Grasshopper script which intakes details about a potential PV module and automatically generates an array on the specified surfaces. The key output is a file type known as  apickle which is a Python native format. This pickle describes the details of the various arrays for a Host object. The file is used to relate irradiance data from the irradiance workflow, which the Panelizer script is also responble for generating the properly formattted Radiance folder that is used for the raytracing. This Grasshopper version is a Beta version of the Panelizer, which will move to pure python in the coming months. \n",
    "</p>\n",
    "</div>"
   ]
  },
  {
   "cell_type": "markdown",
   "metadata": {},
   "source": [
    "<div style=\"align-contents: center; width: 800px;\">\n",
    "<img src=\"../../../sketches/typical_devices.png\" alt=\"Basic Config File\" style=\"float:left; width: 50%;\"/>\n",
    "<img src=\"../../../sketches/bipv_co2_impact.png\" alt=\"Basic Config File\" style=\"float:left; width: 50%;\"/> \n",
    "\n",
    "<br>\n",
    "<p style=\"text-align: center; margin: 0 auto; width: 90%;\"> The first thing to do select a device to work from. Included with CACTUS are several \"typical\" devices that were charatersied from a large database of modules on the market from the past 5 years. It is possible to create new devices, but we will go over that in a later tutorial. Here you can see the typical devices on the left and then how they relate to emboided carbon from Galimshina et al. (2023).\n",
    "</p>\n",
    "</div>"
   ]
  },
  {
   "cell_type": "markdown",
   "metadata": {},
   "source": [
    "\n",
    "<div style=\"align-contents: center; width: 500px;\">\n",
    "<img src=\"../../../sketches/config_edit_device_id.png\" alt=\"Basic Config File\" style=\"float:left; width: 100%;\"/>\n",
    "<p style=\"text-align: center; margin: 0 auto; width: 90%;\"> Enter the device ID into your config file \"D001\".\n",
    "</p>\n",
    "</div>"
   ]
  }
 ],
 "metadata": {
  "kernelspec": {
   "display_name": "workbench311",
   "language": "python",
   "name": "python3"
  },
  "language_info": {
   "codemirror_mode": {
    "name": "ipython",
    "version": 3
   },
   "file_extension": ".py",
   "mimetype": "text/x-python",
   "name": "python",
   "nbconvert_exporter": "python",
   "pygments_lexer": "ipython3",
   "version": "3.11.6"
  }
 },
 "nbformat": 4,
 "nbformat_minor": 2
}
