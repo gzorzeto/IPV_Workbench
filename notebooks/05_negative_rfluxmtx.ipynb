{
 "cells": [
  {
   "cell_type": "code",
   "execution_count": 1,
   "id": "8d73efb9-a195-4742-bab8-59b941ee48e8",
   "metadata": {},
   "outputs": [],
   "source": [
    "import pandas as pd"
   ]
  },
  {
   "cell_type": "code",
   "execution_count": 2,
   "id": "0a556092-abdb-4b64-aceb-899c0dc23a58",
   "metadata": {},
   "outputs": [],
   "source": [
    "ill_file = \"/Users/jmccarty/Desktop/problematic_results/annual_irradiance/results/total/radiancegrid_139103_340sensors.ill\"\n",
    "ill_df = pd.read_csv(ill_file, delimiter=' ', header=None).iloc[:, 1:].T.reset_index(drop=True)"
   ]
  },
  {
   "cell_type": "code",
   "execution_count": 4,
   "id": "13b9bbb0-346a-4935-8221-d1da9239670c",
   "metadata": {},
   "outputs": [
    {
     "data": {
      "text/plain": [
       "-2.7219086"
      ]
     },
     "execution_count": 4,
     "metadata": {},
     "output_type": "execute_result"
    }
   ],
   "source": [
    "ill_df.min().min()"
   ]
  },
  {
   "cell_type": "code",
   "execution_count": null,
   "id": "4637648b-23d3-4c10-b499-51b171bf4db8",
   "metadata": {},
   "outputs": [],
   "source": []
  },
  {
   "cell_type": "code",
   "execution_count": null,
   "id": "56bd02e0-e60d-4ad8-93ff-9b42de7f6ec6",
   "metadata": {},
   "outputs": [],
   "source": []
  }
 ],
 "metadata": {
  "kernelspec": {
   "display_name": "Python [conda env:workbench] *",
   "language": "python",
   "name": "conda-env-workbench-py"
  },
  "language_info": {
   "codemirror_mode": {
    "name": "ipython",
    "version": 3
   },
   "file_extension": ".py",
   "mimetype": "text/x-python",
   "name": "python",
   "nbconvert_exporter": "python",
   "pygments_lexer": "ipython3",
   "version": "3.10.8"
  },
  "vscode": {
   "interpreter": {
    "hash": "d6d04370a50e5b06acc8a9c9d75087de71597a8d9b1667922886c4f8e0dbeebe"
   }
  }
 },
 "nbformat": 4,
 "nbformat_minor": 5
}
