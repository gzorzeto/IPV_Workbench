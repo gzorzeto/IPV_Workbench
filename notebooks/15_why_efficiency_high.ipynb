{
 "cells": [
  {
   "cell_type": "code",
   "execution_count": null,
   "metadata": {},
   "outputs": [],
   "source": [
    "%load_ext autoreload\n",
    "%autoreload 2\n",
    "%load_ext line_profiler\n",
    "# %config Completer.use_jedi = False"
   ]
  },
  {
   "cell_type": "code",
   "execution_count": null,
   "metadata": {},
   "outputs": [],
   "source": [
    "import numpy as np\n",
    "from pvlib import pvsystem, singlediode\n",
    "import sys\n",
    "module_path = \"/Users/jmccarty/Data/221205_ipv_workbench/github/IPV_Workbench\"\n",
    "sys.path.insert(0, module_path)\n",
    "from ipv_workbench.utilities import utils, time_utils\n",
    "from ipv_workbench.translators import panelizer\n",
    "from ipv_workbench.devices import devices\n",
    "from ipv_workbench.solver import calculations as ipv_calc\n",
    "import time\n",
    "import pandas as pd"
   ]
  },
  {
   "cell_type": "code",
   "execution_count": null,
   "metadata": {},
   "outputs": [],
   "source": [
    "project_folder = \"/Users/jmccarty/Desktop/bano_simulations\"\n",
    "pickle_file = \"/Users/jmccarty/.anydesk/incoming/2023-02-27 12:32:38.730/DP_solar_glass_B1393_raw.pickle\"\n",
    "cell_technology = \"D\"\n",
    "orientation = \"P\"\n",
    "panelizer_object = panelizer.PanelizedObject(project_folder, \"B1393\", pickle_file)\n",
    "panelizer_object.analysis_location = 'zurich'\n",
    "panelizer_object.analysis_year = 2020\n",
    "panelizer_object.set_tmy_data()\n",
    "\n",
    "# setting the analysis_period\n",
    "panelizer_object.hourly_resolution = 2\n",
    "panelizer_object.set_analysis_period()\n",
    "\n",
    "custom_device_data = pd.read_csv(panelizer_object.module_cell_data, index_col='scenario').loc[\n",
    "    f\"{cell_technology}{orientation}\"].to_dict()\n",
    "panelizer_object.cell = devices.Cell(custom_device_data)"
   ]
  },
  {
   "cell_type": "code",
   "execution_count": null,
   "metadata": {},
   "outputs": [],
   "source": []
  }
 ],
 "metadata": {
  "kernelspec": {
   "display_name": "workbench",
   "language": "python",
   "name": "python3"
  },
  "language_info": {
   "name": "python",
   "version": "3.10.8"
  },
  "orig_nbformat": 4,
  "vscode": {
   "interpreter": {
    "hash": "0c4ac59e349d62c65843c6e7b303fbe6191f8771b8af55365501989d28e04afb"
   }
  }
 },
 "nbformat": 4,
 "nbformat_minor": 2
}
