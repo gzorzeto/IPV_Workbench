{
 "cells": [
  {
   "cell_type": "code",
   "execution_count": 1,
   "metadata": {},
   "outputs": [],
   "source": [
    "%load_ext autoreload\n",
    "%autoreload 2\n",
    "%load_ext line_profiler\n",
    "# %config Completer.use_jedi = False"
   ]
  },
  {
   "cell_type": "code",
   "execution_count": 2,
   "metadata": {},
   "outputs": [],
   "source": [
    "import numpy as np\n",
    "from pvlib import pvsystem, singlediode\n",
    "import sys\n",
    "module_path = \"/Users/jmccarty/Data/221205_ipv_workbench/github/IPV_Workbench\"\n",
    "sys.path.insert(0, module_path)\n",
    "from ipv_workbench.utilities import utils, time_utils\n",
    "from ipv_workbench.translators import panelizer\n",
    "from ipv_workbench.devices import devices\n",
    "import time\n",
    "import pandas as pd\n",
    "from ipv_workbench.solver import simulations as ipv_sim\n",
    "from ipv_workbench.translators import mapping_irradiance as ipv_irrad\n",
    "from ipv_workbench.translators import module_mapping as ipv_mm\n",
    "from ipv_workbench.solver import calculations as ipv_calc, compile_mp, single_module_mp, topology_solver\n",
    "from ipv_workbench.utilities import utils, time_utils\n",
    "mp = False\n",
    "display_print = False"
   ]
  },
  {
   "cell_type": "code",
   "execution_count": 3,
   "metadata": {},
   "outputs": [],
   "source": [
    "project_folder = \"/Users/jmccarty/Desktop/bano_simulations\"\n",
    "pickle_file = \"/Users/jmccarty/.anydesk/incoming/2023-02-27 12:32:38.730/DP_solar_glass_B1393_raw.pickle\"\n",
    "cdte_pickle = \"/Users/jmccarty/.anydesk/incoming/2023-02-28 07:03:20.065/CP_light_grey_B1393_raw.pickle\"\n",
    "cell_technology = \"C\"\n",
    "orientation = \"P\"\n",
    "panelizer_object = panelizer.PanelizedObject(project_folder, \"B1393\", cdte_pickle)\n",
    "panelizer_object.analysis_location = 'zurich'\n",
    "panelizer_object.analysis_year = 2020\n",
    "panelizer_object.set_tmy_data()\n",
    "\n",
    "# setting the analysis_period\n",
    "panelizer_object.hourly_resolution = 2\n",
    "panelizer_object.set_analysis_period()\n",
    "\n",
    "custom_device_data = pd.read_csv(panelizer_object.module_cell_data, index_col='scenario').loc[\n",
    "    f\"{cell_technology}{orientation}\"].to_dict()\n",
    "panelizer_object.cell = devices.Cell(custom_device_data)"
   ]
  },
  {
   "cell_type": "code",
   "execution_count": 30,
   "metadata": {},
   "outputs": [
    {
     "name": "stdout",
     "output_type": "stream",
     "text": [
      "    ...surface {1393;0;5}\n",
      "     -------------------\n",
      "    Starting string {1393;0;5;1}\n",
      "     -------------------\n",
      "    Starting string {1393;0;5;0}\n",
      "    ...surface {1393;0;2}\n",
      "     -------------------\n",
      "    Starting string {1393;0;2;4}\n",
      "     -------------------\n",
      "    Starting string {1393;0;2;5}\n",
      "     -------------------\n",
      "    Starting string {1393;0;2;0}\n",
      "     -------------------\n",
      "    Starting string {1393;0;2;1}\n",
      "     -------------------\n",
      "    Starting string {1393;0;2;2}\n",
      "     -------------------\n",
      "    Starting string {1393;0;2;3}\n",
      "    ...surface {1393;0;3}\n"
     ]
    },
    {
     "ename": "IndexError",
     "evalue": "list index out of range",
     "output_type": "error",
     "traceback": [
      "\u001b[0;31m---------------------------------------------------------------------------\u001b[0m",
      "\u001b[0;31mIndexError\u001b[0m                                Traceback (most recent call last)",
      "Cell \u001b[0;32mIn[30], line 14\u001b[0m\n\u001b[1;32m     12\u001b[0m \u001b[39m# load radiance data\u001b[39;00m\n\u001b[1;32m     13\u001b[0m rad_surface_key \u001b[39m=\u001b[39m panelizer_object\u001b[39m.\u001b[39mget_dict_instance([surface])[\u001b[39m'\u001b[39m\u001b[39mDETAILS\u001b[39m\u001b[39m'\u001b[39m][\u001b[39m'\u001b[39m\u001b[39mradiance_surface_label\u001b[39m\u001b[39m'\u001b[39m]\n\u001b[0;32m---> 14\u001b[0m total_ill \u001b[39m=\u001b[39m ipv_irrad\u001b[39m.\u001b[39;49mload_irradiance_file(panelizer_object\u001b[39m.\u001b[39;49mRADIANCE_DIR, rad_surface_key, \u001b[39m\"\u001b[39;49m\u001b[39mtotal\u001b[39;49m\u001b[39m\"\u001b[39;49m)\u001b[39m.\u001b[39mvalues[\n\u001b[1;32m     15\u001b[0m     timeseries]\n\u001b[1;32m     16\u001b[0m direct_ill \u001b[39m=\u001b[39m ipv_irrad\u001b[39m.\u001b[39mload_irradiance_file(panelizer_object\u001b[39m.\u001b[39mRADIANCE_DIR, rad_surface_key, \u001b[39m\"\u001b[39m\u001b[39mdirect\u001b[39m\u001b[39m\"\u001b[39m)\u001b[39m.\u001b[39mvalues[\n\u001b[1;32m     17\u001b[0m     timeseries]\n\u001b[1;32m     18\u001b[0m diffuse_ill \u001b[39m=\u001b[39m np\u001b[39m.\u001b[39mwhere(total_ill \u001b[39m<\u001b[39m direct_ill, direct_ill \u001b[39m*\u001b[39m \u001b[39m0.01\u001b[39m, total_ill \u001b[39m-\u001b[39m direct_ill)\n",
      "File \u001b[0;32m~/Data/221205_ipv_workbench/github/IPV_Workbench/ipv_workbench/translators/mapping_irradiance.py:34\u001b[0m, in \u001b[0;36mload_irradiance_file\u001b[0;34m(bldg_radiance_dir, rad_surface_key, component)\u001b[0m\n\u001b[1;32m     32\u001b[0m sun_up_path \u001b[39m=\u001b[39m os\u001b[39m.\u001b[39mpath\u001b[39m.\u001b[39mjoin(radiance_results_dir, component_results_dir, \u001b[39m\"\u001b[39m\u001b[39msun-up-hours.txt\u001b[39m\u001b[39m\"\u001b[39m)\n\u001b[1;32m     33\u001b[0m \u001b[39m# print(os.path.join(radiance_results_dir, component_results_dir))\u001b[39;00m\n\u001b[0;32m---> 34\u001b[0m ill_path \u001b[39m=\u001b[39m glob\u001b[39m.\u001b[39;49mglob(os\u001b[39m.\u001b[39;49mpath\u001b[39m.\u001b[39;49mjoin(radiance_results_dir, component_results_dir, \u001b[39m\"\u001b[39;49m\u001b[39m*.ill\u001b[39;49m\u001b[39m\"\u001b[39;49m))[\u001b[39m0\u001b[39;49m]\n\u001b[1;32m     35\u001b[0m \u001b[39mreturn\u001b[39;00m utils\u001b[39m.\u001b[39mbuild_full_ill(sun_up_path, ill_path)\n",
      "\u001b[0;31mIndexError\u001b[0m: list index out of range"
     ]
    }
   ],
   "source": [
    "for surface in panelizer_object.get_surfaces():\n",
    "    timeseries = panelizer_object.all_hoy\n",
    "    timeseries = np.arange(8330,8345,1)\n",
    "    tmy_location = utils.tmy_location(panelizer_object.tmy_file)\n",
    "    dbt = panelizer_object.tmy_dataframe['drybulb_C'].values[timeseries]\n",
    "    psl = panelizer_object.tmy_dataframe['atmos_Pa'].values[timeseries]\n",
    "\n",
    "    print(f\"    ...surface {surface}\")\n",
    "\n",
    "    surface_start = time.time()\n",
    "\n",
    "    # load radiance data\n",
    "    rad_surface_key = panelizer_object.get_dict_instance([surface])['DETAILS']['radiance_surface_label']\n",
    "    total_ill = ipv_irrad.load_irradiance_file(panelizer_object.RADIANCE_DIR, rad_surface_key, \"total\").values[\n",
    "        timeseries]\n",
    "    direct_ill = ipv_irrad.load_irradiance_file(panelizer_object.RADIANCE_DIR, rad_surface_key, \"direct\").values[\n",
    "        timeseries]\n",
    "    diffuse_ill = np.where(total_ill < direct_ill, direct_ill * 0.01, total_ill - direct_ill)\n",
    "\n",
    "    grid_pts = ipv_irrad.load_grid_file(panelizer_object.RADIANCE_DIR, rad_surface_key)\n",
    "\n",
    "    for string in panelizer_object.get_strings(surface):\n",
    "        print(\"     -------------------\")\n",
    "\n",
    "        print(f\"    Starting string {string}\")\n",
    "        string_start = time.time()\n",
    "\n",
    "        string_dict = panelizer_object.get_dict_instance([surface, string])\n",
    "        string_details = string_dict['DETAILS']\n",
    "\n",
    "        modules = panelizer_object.get_modules(surface, string)\n",
    "\n",
    "        base_parameters = utils.get_cec_data(string_details['cec_key'], file_path=panelizer_object.cec_data)\n",
    "        custom_module_data = pd.read_csv(panelizer_object.module_cell_data, index_col='scenario').loc[\n",
    "            string_details['module_type']].to_dict()\n",
    "\n",
    "        module_template = string_details['module_type']\n",
    "        cell_type = ipv_mm.get_cell_type(module_template[0])\n",
    "        orientation = ipv_mm.get_orientation(module_template[1])\n",
    "        map_file = [fp for fp in panelizer_object.map_files if f\"{cell_type}_{orientation}\" in fp][0]\n",
    "        default_submodule_map, default_diode_map, default_subcell_map = utils.read_map_excel(map_file)\n",
    "\n",
    "        for module_name in modules:\n",
    "            module_start = time.time()\n",
    "            module_dict = panelizer_object.get_dict_instance([surface, string, module_name])\n",
    "            pv_cells_xyz_arr = np.array(panelizer_object.get_cells_xyz(surface, string, module_name))\n",
    "\n",
    "            module_i_dict, module_v_dict, module_g_dict, module_params = panelizer.compile_system_single_core(module_dict,\n",
    "                                                                                                            timeseries,\n",
    "                                                                                                            tmy_location,\n",
    "                                                                                                            dbt, psl,\n",
    "                                                                                                            pv_cells_xyz_arr,\n",
    "                                                                                                            grid_pts,\n",
    "                                                                                                            direct_ill,\n",
    "                                                                                                            diffuse_ill,\n",
    "                                                                                                            base_parameters,\n",
    "                                                                                                            custom_module_data,\n",
    "                                                                                                            default_submodule_map,\n",
    "                                                                                                            default_diode_map,\n",
    "                                                                                                            default_subcell_map,\n",
    "                                                                                                            cell_type)\n",
    "\n",
    "            module_dict['CURVES']['Imod'] = module_i_dict\n",
    "            module_dict['CURVES']['Vmod'] = module_v_dict\n",
    "            module_dict['YIELD'][\"initial_simulation\"]['irrad'] = module_g_dict \n",
    "            module_dict['PARAMETERS'] = module_params\n",
    "            module_end = time.time()\n",
    "            \n",
    "            for hoy in timeseries:\n",
    "                if module_g_dict[hoy]>0:\n",
    "                    module_p = module_i_dict[hoy] * module_v_dict[hoy]\n",
    "                    mpp_p = np.max(module_p)\n",
    "                    if mpp_p/module_g_dict[hoy] > 0.19:\n",
    "                        print(module_name,hoy, mpp_p/module_g_dict[hoy])\n",
    "                        "
   ]
  },
  {
   "cell_type": "code",
   "execution_count": 21,
   "metadata": {},
   "outputs": [
    {
     "data": {
      "text/plain": [
       "2.6"
      ]
     },
     "execution_count": 21,
     "metadata": {},
     "output_type": "execute_result"
    }
   ],
   "source": [
    "module_g_dict[hoy]"
   ]
  },
  {
   "cell_type": "code",
   "execution_count": 7,
   "metadata": {},
   "outputs": [],
   "source": [
    "G_eff_ann, C_temp_ann_arr = panelizer.build_module_features(module_dict, timeseries, tmy_location, dbt, psl, pv_cells_xyz_arr,\n",
    "                                                            grid_pts, direct_ill, diffuse_ill,\n",
    "                                                            base_parameters, custom_module_data,\n",
    "                                                            default_submodule_map, default_diode_map, default_subcell_map,\n",
    "                                                            cell_type)"
   ]
  },
  {
   "cell_type": "code",
   "execution_count": 157,
   "metadata": {},
   "outputs": [],
   "source": [
    "hoy_idx = 9\n",
    "irradiance_hoy = G_eff_ann[hoy_idx]\n",
    "temperature_hoy = C_temp_ann_arr[hoy_idx]\n",
    "submodule_map = module_dict['MAPS']['SUBMODULES']\n",
    "subdiode_map = module_dict['MAPS']['DIODES']\n",
    "subcell_map = module_dict['MAPS']['SUBCELLS']\n",
    "ivcurve_pnts=250\n",
    "    # TODO break apart into constituent pieces\n",
    "\n",
    "submodules = np.unique(submodule_map)\n",
    "diodes = np.unique(subdiode_map)\n",
    "\n",
    "# we are going to solve the IV curves for current given voltages.\n",
    "# Since we are solving at the level of the cell we need to parse down from the module range\n",
    "\n",
    "# Basic assumption here: Module IV-curve can be converted to a cell IV-curve by\n",
    "# dividing the module voltage by the number of cells the subcell current is calculated by\n",
    "# dividing currents by the number of subcells.\n",
    "\n",
    "submodule_i = []\n",
    "submodule_v = []\n",
    "for submodule_key in submodules:\n",
    "    submodule_mask = submodule_map == submodule_key\n",
    "    submodule_colmask = submodule_mask.flatten()\n",
    "\n",
    "    submodule_diode = np.array(subdiode_map)[:, submodule_colmask]\n",
    "    submodule_subcell = np.array(subcell_map)[:, submodule_colmask]\n",
    "\n",
    "    submodule_irrad = irradiance_hoy[:, submodule_colmask]\n",
    "    submodule_temp = temperature_hoy[:, submodule_colmask]\n",
    "\n",
    "    diode_i = []\n",
    "    diode_v = []\n",
    "    for diode_key in diodes:\n",
    "        diode_mask = submodule_diode == diode_key\n",
    "        diode_colmask = diode_mask.flatten()\n",
    "\n",
    "        submodule_subdiode_subcell = submodule_subcell[:, diode_colmask]\n",
    "\n",
    "        submodule_subdiode_irrad = submodule_irrad[:, diode_colmask]\n",
    "        submodule_subdiode_temp = submodule_temp[:, diode_colmask]\n",
    "        for subcell_key in np.unique(submodule_subdiode_subcell):\n",
    "                submodule_subdiode_subcell_mask = submodule_subdiode_subcell == subcell_key\n",
    "                submodule_subdiode_subcell_irrad = submodule_subdiode_irrad[submodule_subdiode_subcell_mask]\n",
    "                submodule_subdiode_subcell_temp = submodule_subdiode_temp[submodule_subdiode_subcell_mask]\n",
    "\n",
    "                # Icell, Vcell = simulations.solve_subcells(parameters,\n",
    "                #                                           submodule_subdiode_subcell_irrad,\n",
    "                #                                           submodule_subdiode_subcell_temp, ivcurve_pnts=ivcurve_pnts)\n",
    "                # cells_i.append(Icell)\n",
    "                # cells_v.append(Vcell)\n"
   ]
  },
  {
   "cell_type": "code",
   "execution_count": 164,
   "metadata": {},
   "outputs": [],
   "source": [
    "i,v = ipv_sim.solve_cells(module_params,\n",
    "                    np.mean(submodule_subdiode_irrad,axis=0).flatten(),\n",
    "                    np.mean(submodule_subdiode_temp,axis=0).flatten())"
   ]
  },
  {
   "cell_type": "code",
   "execution_count": 173,
   "metadata": {},
   "outputs": [
    {
     "data": {
      "text/plain": [
       "(2, 250)"
      ]
     },
     "execution_count": 173,
     "metadata": {},
     "output_type": "execute_result"
    }
   ],
   "source": []
  },
  {
   "cell_type": "code",
   "execution_count": 161,
   "metadata": {},
   "outputs": [
    {
     "data": {
      "text/plain": [
       "array([66.27333333, 66.27333333])"
      ]
     },
     "execution_count": 161,
     "metadata": {},
     "output_type": "execute_result"
    }
   ],
   "source": []
  },
  {
   "cell_type": "code",
   "execution_count": 145,
   "metadata": {},
   "outputs": [
    {
     "data": {
      "text/plain": [
       "array([37.67, 37.67])"
      ]
     },
     "execution_count": 145,
     "metadata": {},
     "output_type": "execute_result"
    }
   ],
   "source": [
    "np.mean(submodule_subdiode_irrad,axis=0)"
   ]
  },
  {
   "cell_type": "code",
   "execution_count": 110,
   "metadata": {},
   "outputs": [
    {
     "data": {
      "text/plain": [
       "0.3022256509583856"
      ]
     },
     "execution_count": 110,
     "metadata": {},
     "output_type": "execute_result"
    }
   ],
   "source": [
    "idx_h = 10\n",
    "hoy = timeseries[idx_h]\n",
    "module_p = module_i_dict[hoy] * module_v_dict[hoy]\n",
    "mpp_p = np.max(module_p)\n",
    "mpp_p / np.sum(G_eff_ann[idx_h] * module_dict['PARAMETERS']['one_subcell_area_m2'])"
   ]
  },
  {
   "cell_type": "code",
   "execution_count": 22,
   "metadata": {},
   "outputs": [
    {
     "data": {
      "text/plain": [
       "{'Technology': 'CdTe',\n",
       " 'Bifacial': 0.0,\n",
       " 'STC': 385.344,\n",
       " 'PTC': 358.5,\n",
       " 'A_c': 2.48,\n",
       " 'Length': nan,\n",
       " 'Width': nan,\n",
       " 'N_s': 264,\n",
       " 'I_sc_ref': 2.49,\n",
       " 'V_oc_ref': 214.3,\n",
       " 'I_mp_ref': 2.23,\n",
       " 'V_mp_ref': 172.8,\n",
       " 'alpha_sc': 0.00137,\n",
       " 'beta_oc': -0.60004,\n",
       " 'T_NOCT': 50.4,\n",
       " 'a_ref': 7.402658,\n",
       " 'I_L_ref': 2.509123,\n",
       " 'I_o_ref': 6.177725e-13,\n",
       " 'R_s': 8.185414,\n",
       " 'R_sh_ref': 1065.831543,\n",
       " 'Adjust': -13.503751,\n",
       " 'gamma_r': -0.261,\n",
       " 'BIPV': 'N',\n",
       " 'Version': 'SAM 2018.11.11 r2',\n",
       " 'Date': '1/3/2019',\n",
       " 'cell': 'cdte',\n",
       " 'orientation': 'portrait',\n",
       " 'cec_database_key': 'First_Solar__Inc__FS_6385',\n",
       " 'Wp': 385,\n",
       " 'cell_width': 4.5,\n",
       " 'cell_height': 1884.0,\n",
       " 'cell_col_spacing': 0.05,\n",
       " 'cell_row_spacing': 0.0,\n",
       " 'n_cols_ideal': 264,\n",
       " 'n_rows_ideal': 1,\n",
       " 'n_cols': 264,\n",
       " 'n_rows': 3,\n",
       " 'n_submodule': 1,\n",
       " 'frame_size': 15.0,\n",
       " 'module_width': 1231.15,\n",
       " 'module_height': 1914.0,\n",
       " 'N_s_ideal': 264,\n",
       " 'N_p_ideal': 1,\n",
       " 'N_p': 1,\n",
       " 'total_cells': 792,\n",
       " 'Nsubcell_col': 1.0,\n",
       " 'Nsubcell_row': 3,\n",
       " 'cell_area': 6.720000000000001,\n",
       " 'Wp_m2_cell': 171.87499999999997,\n",
       " 'module_area': 2.36,\n",
       " 'Wp_m2_module': 54.378531073446325,\n",
       " 'cell_effective_area': 0.95,\n",
       " 'min_cell_module': 67,\n",
       " 'breakdown_factor': 0.002,\n",
       " 'breakdown_exp': 3.28,\n",
       " 'breakdown_voltage': -5.5,\n",
       " 'diode_threshold': -0.5,\n",
       " 'minimum_irradiance_cell': 5,\n",
       " 'N_subcells': 3,\n",
       " 'actual_capacity_Wp': 1155.0,\n",
       " 'actual_module_area_m2': 7.08,\n",
       " 'actual_cell_area_m2': 2.24,\n",
       " 'one_subcell_area_m2': 0.0016955999999999998,\n",
       " 'one_cell_area_m2': 0.008478,\n",
       " 'N_diodes': 1,\n",
       " 'test_param': 99}"
      ]
     },
     "execution_count": 22,
     "metadata": {},
     "output_type": "execute_result"
    }
   ],
   "source": [
    "module_dict['PARAMETERS']"
   ]
  },
  {
   "cell_type": "code",
   "execution_count": 23,
   "metadata": {},
   "outputs": [],
   "source": [
    "parameters = module_dict['PARAMETERS']\n",
    "Geff = 1000\n",
    "Tcell = 25\n",
    "\n",
    "sde_args = pvsystem.calcparams_desoto(\n",
    "        Geff,\n",
    "        Tcell,\n",
    "        alpha_sc=parameters['alpha_sc'],\n",
    "        a_ref=parameters['a_ref'],\n",
    "        I_L_ref=parameters['I_L_ref'],\n",
    "        I_o_ref=parameters['I_o_ref'],\n",
    "        R_sh_ref=parameters['R_sh_ref'],\n",
    "        R_s=parameters['R_s']\n",
    "    )\n",
    "# sde_args has values:\n",
    "# (photocurrent, saturation_current, resistance_series,\n",
    "# resistance_shunt, nNsVth)\n",
    "\n",
    "# Use Bishop's method to calculate points on the IV curve with V ranging\n",
    "# from the reverse breakdown voltage to open circuit\n",
    "kwargs = {\n",
    "    'breakdown_factor': parameters['breakdown_factor'],\n",
    "    'breakdown_exp': parameters['breakdown_exp'],\n",
    "    'breakdown_voltage': parameters['breakdown_voltage'],\n",
    "}\n",
    "evaluated_voltages = utils.create_voltage_range(sde_args, kwargs, curve_pts=500)\n",
    "\n",
    "# Basic assumption here: Module IV-curve can be converted to a cell IV-curve by\n",
    "# dividing the module voltage by the number of cells\n",
    "# the subcell current is calculated by dividing currents by the number of subcells.\n",
    "I, V, P = singlediode.bishop88(evaluated_voltages, *sde_args, **kwargs)\n",
    "\n",
    "i_sub = I / 1\n",
    "v_sub = V / 264"
   ]
  },
  {
   "cell_type": "code",
   "execution_count": 24,
   "metadata": {},
   "outputs": [
    {
     "data": {
      "text/plain": [
       "385.3388872969486"
      ]
     },
     "execution_count": 24,
     "metadata": {},
     "output_type": "execute_result"
    }
   ],
   "source": [
    "P.max()"
   ]
  },
  {
   "cell_type": "code",
   "execution_count": 124,
   "metadata": {},
   "outputs": [
    {
     "data": {
      "text/plain": [
       "0.0018246295682545909"
      ]
     },
     "execution_count": 124,
     "metadata": {},
     "output_type": "execute_result"
    }
   ],
   "source": [
    "idx_h = 10\n",
    "hoy = timeseries[idx_h]\n",
    "module_p = i*v\n",
    "mpp_p = np.max(module_p)\n",
    "mpp_p / np.sum(G_eff_ann[idx_h] * module_dict['PARAMETERS']['one_subcell_area_m2'])"
   ]
  }
 ],
 "metadata": {
  "kernelspec": {
   "display_name": "workbench",
   "language": "python",
   "name": "python3"
  },
  "language_info": {
   "codemirror_mode": {
    "name": "ipython",
    "version": 3
   },
   "file_extension": ".py",
   "mimetype": "text/x-python",
   "name": "python",
   "nbconvert_exporter": "python",
   "pygments_lexer": "ipython3",
   "version": "3.10.8"
  },
  "orig_nbformat": 4,
  "vscode": {
   "interpreter": {
    "hash": "0c4ac59e349d62c65843c6e7b303fbe6191f8771b8af55365501989d28e04afb"
   }
  }
 },
 "nbformat": 4,
 "nbformat_minor": 2
}
