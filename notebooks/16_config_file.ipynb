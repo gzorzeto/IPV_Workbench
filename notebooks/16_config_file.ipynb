{
 "cells": [
  {
   "cell_type": "code",
   "execution_count": 1,
   "metadata": {},
   "outputs": [],
   "source": [
    "%load_ext autoreload\n",
    "%autoreload 2\n"
   ]
  },
  {
   "cell_type": "code",
   "execution_count": 2,
   "metadata": {},
   "outputs": [],
   "source": [
    "from pathlib import Path\n",
    "import pvlib\n",
    "import pandas as pd\n",
    "import numpy as np\n",
    "import sys\n",
    "import configparser\n",
    "import pathlib\n",
    "\n",
    "module_path = \"/Users/jmccarty/Data/221205_ipv_workbench/github/IPV_Workbench\"\n",
    "sys.path.insert(0, module_path)\n",
    "from workbench.utilities import utils, config_utils\n",
    "from workbench.manage import manage"
   ]
  },
  {
   "cell_type": "code",
   "execution_count": 5,
   "metadata": {},
   "outputs": [],
   "source": [
    "par_dir = \"/Users/jmccarty/Desktop/test_project\"\n",
    "project_name = 'test1'\n",
    "base_epw = \"/Users/jmccarty/Desktop/CHE_ZH_Zurich.AP.066700_TMYx.2007-2021.epw\"\n",
    "\n",
    "config_file = manage.initiate_project(par_dir, project_name, base_epw)\n",
    "my_proj = manage.Project(config_file)\n",
    "my_proj.project_setup()"
   ]
  },
  {
   "cell_type": "code",
   "execution_count": 81,
   "metadata": {},
   "outputs": [
    {
     "data": {
      "text/plain": [
       "{'lat': 47.48, 'lon': 8.536, 'utc': 1, 'elevation': 427}"
      ]
     },
     "execution_count": 81,
     "metadata": {},
     "output_type": "execute_result"
    }
   ],
   "source": [
    "utils.tmy_location(base_epw)"
   ]
  },
  {
   "cell_type": "code",
   "execution_count": 10,
   "metadata": {},
   "outputs": [],
   "source": [
    "utils.create_log_file(\"/Users/jmccarty/Desktop/test_project/log.txt\")"
   ]
  },
  {
   "cell_type": "code",
   "execution_count": 79,
   "metadata": {},
   "outputs": [],
   "source": [
    "class Project:\n",
    "    def __init__(self, config_file):\n",
    "\n",
    "        self.config = configparser.ConfigParser()\n",
    "        self.config.read(config_file)\n",
    "        for section in self.config.sections():\n",
    "            for k in list(self.config[section].keys()):\n",
    "                value_in = self.config[section][k]\n",
    "                formatted_value = format_config_item(section, k, value_in)\n",
    "                self.__setattr__(f\"{section}_{k}\", formatted_value)"
   ]
  },
  {
   "cell_type": "code",
   "execution_count": 84,
   "metadata": {},
   "outputs": [],
   "source": [
    "p = Project(\"/Users/jmccarty/Desktop/test_project/my_config.config\")"
   ]
  },
  {
   "cell_type": "code",
   "execution_count": 85,
   "metadata": {},
   "outputs": [
    {
     "data": {
      "text/plain": [
       "25.0"
      ]
     },
     "execution_count": 85,
     "metadata": {},
     "output_type": "execute_result"
    }
   ],
   "source": [
    "p.irradiance_grid_x_mm"
   ]
  }
 ],
 "metadata": {
  "kernelspec": {
   "display_name": "workbench",
   "language": "python",
   "name": "python3"
  },
  "language_info": {
   "codemirror_mode": {
    "name": "ipython",
    "version": 3
   },
   "file_extension": ".py",
   "mimetype": "text/x-python",
   "name": "python",
   "nbconvert_exporter": "python",
   "pygments_lexer": "ipython3",
   "version": "3.10.8"
  },
  "orig_nbformat": 4,
  "vscode": {
   "interpreter": {
    "hash": "0c4ac59e349d62c65843c6e7b303fbe6191f8771b8af55365501989d28e04afb"
   }
  }
 },
 "nbformat": 4,
 "nbformat_minor": 2
}
