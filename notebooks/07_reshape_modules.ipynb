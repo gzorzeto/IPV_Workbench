{
 "cells": [
  {
   "cell_type": "code",
   "execution_count": 1,
   "metadata": {},
   "outputs": [],
   "source": [
    "import numpy as np"
   ]
  },
  {
   "cell_type": "code",
   "execution_count": 31,
   "metadata": {},
   "outputs": [],
   "source": [
    "ncols = 20\n",
    "nrows = 6"
   ]
  },
  {
   "cell_type": "code",
   "execution_count": 43,
   "metadata": {},
   "outputs": [
    {
     "data": {
      "text/plain": [
       "[[0, 1, 2, 3, 4, 5],\n",
       " [6, 7, 8, 9, 10, 11],\n",
       " [12, 13, 14, 15, 16, 17],\n",
       " [18, 19, 20, 21, 22, 23],\n",
       " [24, 25, 26, 27, 28, 29],\n",
       " [30, 31, 32, 33, 34, 35],\n",
       " [36, 37, 38, 39, 40, 41],\n",
       " [42, 43, 44, 45, 46, 47],\n",
       " [48, 49, 50, 51, 52, 53],\n",
       " [54, 55, 56, 57, 58, 59],\n",
       " [60, 61, 62, 63, 64, 65],\n",
       " [66, 67, 68, 69, 70, 71],\n",
       " [72, 73, 74, 75, 76, 77],\n",
       " [78, 79, 80, 81, 82, 83],\n",
       " [84, 85, 86, 87, 88, 89],\n",
       " [90, 91, 92, 93, 94, 95],\n",
       " [96, 97, 98, 99, 100, 101],\n",
       " [102, 103, 104, 105, 106, 107],\n",
       " [108, 109, 110, 111, 112, 113],\n",
       " [114, 115, 116, 117, 118, 119]]"
      ]
     },
     "execution_count": 43,
     "metadata": {},
     "output_type": "execute_result"
    }
   ],
   "source": [
    "original_module = np.arange(6*20).reshape((ncols,nrows)).tolist()\n",
    "original_module"
   ]
  },
  {
   "cell_type": "code",
   "execution_count": 44,
   "metadata": {},
   "outputs": [
    {
     "data": {
      "text/plain": [
       "array([[  5,  11,  17,  23,  29,  35,  41,  47,  53,  59,  65,  71,  77,\n",
       "         83,  89,  95, 101, 107, 113, 119],\n",
       "       [  4,  10,  16,  22,  28,  34,  40,  46,  52,  58,  64,  70,  76,\n",
       "         82,  88,  94, 100, 106, 112, 118],\n",
       "       [  3,   9,  15,  21,  27,  33,  39,  45,  51,  57,  63,  69,  75,\n",
       "         81,  87,  93,  99, 105, 111, 117],\n",
       "       [  2,   8,  14,  20,  26,  32,  38,  44,  50,  56,  62,  68,  74,\n",
       "         80,  86,  92,  98, 104, 110, 116],\n",
       "       [  1,   7,  13,  19,  25,  31,  37,  43,  49,  55,  61,  67,  73,\n",
       "         79,  85,  91,  97, 103, 109, 115],\n",
       "       [  0,   6,  12,  18,  24,  30,  36,  42,  48,  54,  60,  66,  72,\n",
       "         78,  84,  90,  96, 102, 108, 114]])"
      ]
     },
     "execution_count": 44,
     "metadata": {},
     "output_type": "execute_result"
    }
   ],
   "source": [
    "np.fliplr(original_module).T\n",
    "\n"
   ]
  }
 ],
 "metadata": {
  "kernelspec": {
   "display_name": "workbench",
   "language": "python",
   "name": "python3"
  },
  "language_info": {
   "codemirror_mode": {
    "name": "ipython",
    "version": 3
   },
   "file_extension": ".py",
   "mimetype": "text/x-python",
   "name": "python",
   "nbconvert_exporter": "python",
   "pygments_lexer": "ipython3",
   "version": "3.10.8"
  },
  "orig_nbformat": 4,
  "vscode": {
   "interpreter": {
    "hash": "0c4ac59e349d62c65843c6e7b303fbe6191f8771b8af55365501989d28e04afb"
   }
  }
 },
 "nbformat": 4,
 "nbformat_minor": 2
}
