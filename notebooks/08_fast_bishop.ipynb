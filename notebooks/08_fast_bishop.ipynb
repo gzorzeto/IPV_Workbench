{
 "cells": [
  {
   "cell_type": "code",
   "execution_count": 1,
   "metadata": {},
   "outputs": [],
   "source": [
    "import numpy as np\n",
    "from pvlib import pvsystem, singlediode\n",
    "import sys\n",
    "module_path = \"/Users/jmccarty/Data/221205_ipv_workbench/github/IPV_Workbench\"\n",
    "sys.path.insert(0, module_path)\n",
    "from ipv_workbench.utilities import utils\n",
    "import time"
   ]
  },
  {
   "cell_type": "code",
   "execution_count": 2,
   "metadata": {},
   "outputs": [],
   "source": [
    "Geff = np.zeros((264,10)) + 500\n",
    "Tcell = np.zeros((264,10)) + 25"
   ]
  },
  {
   "cell_type": "code",
   "execution_count": 3,
   "metadata": {},
   "outputs": [],
   "source": [
    "submodule_map, diode_map, subcell_map = utils.read_map_excel(\"/Users/jmccarty/Desktop/bano_simulations/resources/map_files/cdte_landscape_maps.xlsx\")"
   ]
  },
  {
   "cell_type": "code",
   "execution_count": 79,
   "metadata": {},
   "outputs": [
    {
     "ename": "KeyboardInterrupt",
     "evalue": "",
     "output_type": "error",
     "traceback": [
      "\u001b[0;31m---------------------------------------------------------------------------\u001b[0m",
      "\u001b[0;31mKeyboardInterrupt\u001b[0m                         Traceback (most recent call last)",
      "Cell \u001b[0;32mIn[79], line 81\u001b[0m\n\u001b[1;32m     72\u001b[0m v_subcell \u001b[39m=\u001b[39m []\n\u001b[1;32m     76\u001b[0m \u001b[39m# for n in range(0, num_subcells):\u001b[39;00m\n\u001b[1;32m     77\u001b[0m \u001b[39m#     i_, v_, p_ = singlediode.bishop88(evaluated_voltages,\u001b[39;00m\n\u001b[1;32m     78\u001b[0m \u001b[39m#                                         *sde_args[:, n],\u001b[39;00m\n\u001b[1;32m     79\u001b[0m \u001b[39m#                                         **kwargs\u001b[39;00m\n\u001b[1;32m     80\u001b[0m \u001b[39m#                                         )\u001b[39;00m\n\u001b[0;32m---> 81\u001b[0m i_, v_, p_ \u001b[39m=\u001b[39m vfun([evaluated_voltages\u001b[39m.\u001b[39;49mreshape(\u001b[39m1000\u001b[39;49m,\u001b[39m1\u001b[39;49m)\u001b[39m.\u001b[39;49mtolist()],\n\u001b[1;32m     82\u001b[0m     sde_args[\u001b[39m0\u001b[39;49m],\n\u001b[1;32m     83\u001b[0m     sde_args[\u001b[39m1\u001b[39;49m],\n\u001b[1;32m     84\u001b[0m     sde_args[\u001b[39m2\u001b[39;49m],\n\u001b[1;32m     85\u001b[0m     sde_args[\u001b[39m3\u001b[39;49m],\n\u001b[1;32m     86\u001b[0m     sde_args[\u001b[39m4\u001b[39;49m], \n\u001b[1;32m     87\u001b[0m     \u001b[39m0\u001b[39;49m,\n\u001b[1;32m     88\u001b[0m     np\u001b[39m.\u001b[39;49minf,\n\u001b[1;32m     89\u001b[0m     kwargs[\u001b[39m'\u001b[39;49m\u001b[39mbreakdown_factor\u001b[39;49m\u001b[39m'\u001b[39;49m],\n\u001b[1;32m     90\u001b[0m     kwargs[\u001b[39m'\u001b[39;49m\u001b[39mbreakdown_voltage\u001b[39;49m\u001b[39m'\u001b[39;49m],\n\u001b[1;32m     91\u001b[0m     kwargs[\u001b[39m'\u001b[39;49m\u001b[39mbreakdown_exp\u001b[39;49m\u001b[39m'\u001b[39;49m]\n\u001b[1;32m     92\u001b[0m     )\n\u001b[1;32m     93\u001b[0m i_subcell \u001b[39m=\u001b[39m i_[\u001b[39m0\u001b[39m] \u001b[39m/\u001b[39m \u001b[39m10\u001b[39m\n\u001b[1;32m     94\u001b[0m v_subcell \u001b[39m=\u001b[39m v_[\u001b[39m0\u001b[39m] \u001b[39m/\u001b[39m \u001b[39m264\u001b[39m\n",
      "File \u001b[0;32m/opt/homebrew/Caskroom/miniforge/base/envs/workbench/lib/python3.10/site-packages/numpy/lib/function_base.py:2328\u001b[0m, in \u001b[0;36mvectorize.__call__\u001b[0;34m(self, *args, **kwargs)\u001b[0m\n\u001b[1;32m   2325\u001b[0m     vargs \u001b[39m=\u001b[39m [args[_i] \u001b[39mfor\u001b[39;00m _i \u001b[39min\u001b[39;00m inds]\n\u001b[1;32m   2326\u001b[0m     vargs\u001b[39m.\u001b[39mextend([kwargs[_n] \u001b[39mfor\u001b[39;00m _n \u001b[39min\u001b[39;00m names])\n\u001b[0;32m-> 2328\u001b[0m \u001b[39mreturn\u001b[39;00m \u001b[39mself\u001b[39;49m\u001b[39m.\u001b[39;49m_vectorize_call(func\u001b[39m=\u001b[39;49mfunc, args\u001b[39m=\u001b[39;49mvargs)\n",
      "File \u001b[0;32m/opt/homebrew/Caskroom/miniforge/base/envs/workbench/lib/python3.10/site-packages/numpy/lib/function_base.py:2411\u001b[0m, in \u001b[0;36mvectorize._vectorize_call\u001b[0;34m(self, func, args)\u001b[0m\n\u001b[1;32m   2408\u001b[0m \u001b[39m# Convert args to object arrays first\u001b[39;00m\n\u001b[1;32m   2409\u001b[0m inputs \u001b[39m=\u001b[39m [asanyarray(a, dtype\u001b[39m=\u001b[39m\u001b[39mobject\u001b[39m) \u001b[39mfor\u001b[39;00m a \u001b[39min\u001b[39;00m args]\n\u001b[0;32m-> 2411\u001b[0m outputs \u001b[39m=\u001b[39m ufunc(\u001b[39m*\u001b[39;49minputs)\n\u001b[1;32m   2413\u001b[0m \u001b[39mif\u001b[39;00m ufunc\u001b[39m.\u001b[39mnout \u001b[39m==\u001b[39m \u001b[39m1\u001b[39m:\n\u001b[1;32m   2414\u001b[0m     res \u001b[39m=\u001b[39m asanyarray(outputs, dtype\u001b[39m=\u001b[39motypes[\u001b[39m0\u001b[39m])\n",
      "File \u001b[0;32m/opt/homebrew/Caskroom/miniforge/base/envs/workbench/lib/python3.10/site-packages/pvlib/singlediode.py:159\u001b[0m, in \u001b[0;36mbishop88\u001b[0;34m(diode_voltage, photocurrent, saturation_current, resistance_series, resistance_shunt, nNsVth, d2mutau, NsVbi, breakdown_factor, breakdown_voltage, breakdown_exp, gradients)\u001b[0m\n\u001b[1;32m    157\u001b[0m is_recomb \u001b[39m=\u001b[39m d2mutau \u001b[39m>\u001b[39m \u001b[39m0\u001b[39m  \u001b[39m# True where there is thin-film recombination loss\u001b[39;00m\n\u001b[1;32m    158\u001b[0m v_recomb \u001b[39m=\u001b[39m np\u001b[39m.\u001b[39mwhere(is_recomb, NsVbi \u001b[39m-\u001b[39m diode_voltage, np\u001b[39m.\u001b[39minf)\n\u001b[0;32m--> 159\u001b[0m i_recomb \u001b[39m=\u001b[39m np\u001b[39m.\u001b[39;49mwhere(is_recomb, photocurrent \u001b[39m*\u001b[39;49m d2mutau \u001b[39m/\u001b[39;49m v_recomb, \u001b[39m0\u001b[39;49m)\n\u001b[1;32m    160\u001b[0m \u001b[39m# calculate temporary values to simplify calculations\u001b[39;00m\n\u001b[1;32m    161\u001b[0m v_star \u001b[39m=\u001b[39m diode_voltage \u001b[39m/\u001b[39m nNsVth  \u001b[39m# non-dimensional diode voltage\u001b[39;00m\n",
      "File \u001b[0;32m<__array_function__ internals>:180\u001b[0m, in \u001b[0;36mwhere\u001b[0;34m(*args, **kwargs)\u001b[0m\n",
      "\u001b[0;31mKeyboardInterrupt\u001b[0m: "
     ]
    }
   ],
   "source": [
    "\n",
    "param_time = []\n",
    "diode_time = []\n",
    "\n",
    "for n in np.arange(0,100):\n",
    "\n",
    "    submodules = np.unique(submodule_map)\n",
    "    diodes = np.unique(diode_map)\n",
    "\n",
    "    evaluated_voltages = np.linspace(0.95 * -5.5,\n",
    "                                        214.3 * 1.05,\n",
    "                                        1000)\n",
    "    submodule_i = []\n",
    "    submodule_v = []\n",
    "    for submodule_key in submodules:\n",
    "        _0 = time.time()\n",
    "        submodule_mask = submodule_map == submodule_key\n",
    "        submodule_rowmask = submodule_mask.flatten()\n",
    "\n",
    "        submodule_diode = np.array(diode_map)[submodule_rowmask, :]\n",
    "        submodule_subcell = np.array(subcell_map)[submodule_rowmask, :]\n",
    "\n",
    "        submodule_irrad = Geff[submodule_rowmask, :]\n",
    "        submodule_temp = Tcell[submodule_rowmask, :]\n",
    "\n",
    "        diode_i = []\n",
    "        diode_v = []\n",
    "        _1 = time.time()\n",
    "        # print(\"masking1\", _1 - _0)\n",
    "        for diode_key in diodes:\n",
    "            diode_mask = submodule_diode == diode_key\n",
    "            diode_rowmask = diode_mask.flatten()\n",
    "\n",
    "            submodule_subdiode_subcell = submodule_subcell[diode_rowmask, :]\n",
    "\n",
    "            submodule_subdiode_irrad = submodule_irrad[diode_rowmask, :]\n",
    "            submodule_subdiode_temp = submodule_temp[diode_rowmask, :]\n",
    "\n",
    "            cells_i = []\n",
    "            cells_v = []\n",
    "            _2 = time.time()\n",
    "            # print(\"masking2\", _2 - _1)\n",
    "            for subcell_key in np.unique(submodule_subdiode_subcell):\n",
    "                submodule_subdiode_subcell_mask = submodule_subdiode_subcell == subcell_key\n",
    "                submodule_subdiode_subcell_irrad = submodule_subdiode_irrad[submodule_subdiode_subcell_mask]\n",
    "                submodule_subdiode_subcell_temp = submodule_subdiode_temp[submodule_subdiode_subcell_mask]\n",
    "\n",
    "                num_subcells = 10\n",
    "\n",
    "                sde_args = np.vectorize(pvsystem.calcparams_desoto)(submodule_subdiode_subcell_irrad,\n",
    "                                                                    submodule_subdiode_subcell_temp,\n",
    "                                                                    alpha_sc=0.00137,\n",
    "                                                                    a_ref=7.402658,\n",
    "                                                                    I_L_ref=2.509123,\n",
    "                                                                    I_o_ref=0.0,\n",
    "                                                                    R_sh_ref=1065.831543,\n",
    "                                                                    R_s=8.185414)\n",
    "                _3 = time.time()\n",
    "                # print(\"Param calc\", _3 - _2)\n",
    "                param_time.append(_3 - _2)\n",
    "                sde_args = np.array(sde_args)\n",
    "                # Use Bishop's method to calculate points on the IV curve with V ranging\n",
    "                # from the reverse breakdown voltage to open circuit\n",
    "                kwargs = {\n",
    "                    'breakdown_factor': 0.002,\n",
    "                    'breakdown_exp': 3.28,\n",
    "                    'breakdown_voltage': -5.5,\n",
    "                }\n",
    "\n",
    "                i_subcell = []\n",
    "                v_subcell = []\n",
    "\n",
    "\n",
    "                \n",
    "                for n in range(0, num_subcells):\n",
    "                    i_, v_, p_ = singlediode.bishop88(evaluated_voltages,\n",
    "                                                        *sde_args[:, n],\n",
    "                                                        **kwargs\n",
    "                                                        )\n",
    "                    \n",
    "                _4 = time.time()\n",
    "                # print(\"Single Diode\",_4 - _3)\n",
    "                diode_time.append(_4 - _3)\n"
   ]
  },
  {
   "cell_type": "code",
   "execution_count": 80,
   "metadata": {},
   "outputs": [
    {
     "name": "stdout",
     "output_type": "stream",
     "text": [
      "22.46795392036438\n",
      "44.59918808937073\n"
     ]
    }
   ],
   "source": [
    "print(np.sum(param_time))\n",
    "print(np.sum(diode_time))"
   ]
  },
  {
   "cell_type": "code",
   "execution_count": 74,
   "metadata": {},
   "outputs": [],
   "source": [
    "\n",
    "for t in range(0,100):\n",
    "    i_subcell = []\n",
    "    v_subcell = []\n",
    "    for n in range(0, num_subcells):\n",
    "        i_, v_, p_ = singlediode.bishop88(evaluated_voltages,\n",
    "                                            *sde_args[:, n],\n",
    "                                            **kwargs\n",
    "                                            )\n",
    "        i_ = i_ / 10\n",
    "        v_ = v_ / 264\n",
    "        i_subcell.append(i_)\n",
    "        v_subcell.append(v_)"
   ]
  },
  {
   "cell_type": "code",
   "execution_count": 65,
   "metadata": {},
   "outputs": [],
   "source": [
    "vfun = np.vectorize(singlediode.bishop88)\n"
   ]
  },
  {
   "cell_type": "code",
   "execution_count": 73,
   "metadata": {},
   "outputs": [],
   "source": [
    "for t in range(0,100):\n",
    "    i_, v_, p_ = vfun([evaluated_voltages.reshape(1000,1).tolist()],\n",
    "                        sde_args[0],\n",
    "                        sde_args[1],\n",
    "                        sde_args[2],\n",
    "                        sde_args[3],\n",
    "                        sde_args[4], \n",
    "                        0,\n",
    "                        np.inf,\n",
    "                        kwargs['breakdown_factor'],\n",
    "                        kwargs['breakdown_voltage'],\n",
    "                        kwargs['breakdown_exp']\n",
    "                        )\n",
    "    i_subcell = i_[0] / 10\n",
    "    v_subcell = v_[0] / 264\n",
    "    # p_ = p_[0]"
   ]
  },
  {
   "cell_type": "code",
   "execution_count": 64,
   "metadata": {},
   "outputs": [
    {
     "data": {
      "text/plain": [
       "array([[1.3477479 , 1.3477479 , 1.3477479 , ..., 1.3477479 , 1.3477479 ,\n",
       "        1.3477479 ],\n",
       "       [1.26868257, 1.26868257, 1.26868257, ..., 1.26868257, 1.26868257,\n",
       "        1.26868257],\n",
       "       [1.26007308, 1.26007308, 1.26007308, ..., 1.26007308, 1.26007308,\n",
       "        1.26007308],\n",
       "       ...,\n",
       "       [1.14921931, 1.14921931, 1.14921931, ..., 1.14921931, 1.14921931,\n",
       "        1.14921931],\n",
       "       [1.14911119, 1.14911119, 1.14911119, ..., 1.14911119, 1.14911119,\n",
       "        1.14911119],\n",
       "       [1.14900307, 1.14900307, 1.14900307, ..., 1.14900307, 1.14900307,\n",
       "        1.14900307]])"
      ]
     },
     "execution_count": 64,
     "metadata": {},
     "output_type": "execute_result"
    }
   ],
   "source": [
    "r[0][0]"
   ]
  }
 ],
 "metadata": {
  "kernelspec": {
   "display_name": "workbench",
   "language": "python",
   "name": "python3"
  },
  "language_info": {
   "codemirror_mode": {
    "name": "ipython",
    "version": 3
   },
   "file_extension": ".py",
   "mimetype": "text/x-python",
   "name": "python",
   "nbconvert_exporter": "python",
   "pygments_lexer": "ipython3",
   "version": "3.10.8"
  },
  "orig_nbformat": 4,
  "vscode": {
   "interpreter": {
    "hash": "1a3328625e3463ac63cb2eb7677ec13fbd850dc4e70bad1c20f5d3eca316d6e5"
   }
  }
 },
 "nbformat": 4,
 "nbformat_minor": 2
}
