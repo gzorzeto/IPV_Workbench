{
 "cells": [
  {
   "cell_type": "code",
   "execution_count": 2,
   "metadata": {},
   "outputs": [],
   "source": [
    "import numpy as np\n",
    "from pvlib import pvsystem, singlediode\n",
    "import sys\n",
    "module_path = \"/Users/jmccarty/Data/221205_ipv_workbench/github/IPV_Workbench\"\n",
    "sys.path.insert(0, module_path)\n",
    "from ipv_workbench.utilities import utils\n",
    "import time"
   ]
  },
  {
   "cell_type": "code",
   "execution_count": 3,
   "metadata": {},
   "outputs": [],
   "source": [
    "Geff = np.zeros((264,10)) + 500\n",
    "Tcell = np.zeros((264,10)) + 25"
   ]
  },
  {
   "cell_type": "code",
   "execution_count": 4,
   "metadata": {},
   "outputs": [],
   "source": [
    "submodule_map, diode_map, subcell_map = utils.read_map_excel(\"/Users/jmccarty/Desktop/bano_simulations/resources/map_files/cdte_landscape_maps.xlsx\")"
   ]
  },
  {
   "cell_type": "code",
   "execution_count": 5,
   "metadata": {},
   "outputs": [],
   "source": [
    "\n",
    "param_time = []\n",
    "diode_time = []\n",
    "\n",
    "for n in np.arange(0,100):\n",
    "\n",
    "    submodules = np.unique(submodule_map)\n",
    "    diodes = np.unique(diode_map)\n",
    "\n",
    "    evaluated_voltages = np.linspace(0.95 * -5.5,\n",
    "                                        214.3 * 1.05,\n",
    "                                        1000)\n",
    "    submodule_i = []\n",
    "    submodule_v = []\n",
    "    for submodule_key in submodules:\n",
    "        _0 = time.time()\n",
    "        submodule_mask = submodule_map == submodule_key\n",
    "        submodule_rowmask = submodule_mask.flatten()\n",
    "\n",
    "        submodule_diode = np.array(diode_map)[submodule_rowmask, :]\n",
    "        submodule_subcell = np.array(subcell_map)[submodule_rowmask, :]\n",
    "\n",
    "        submodule_irrad = Geff[submodule_rowmask, :]\n",
    "        submodule_temp = Tcell[submodule_rowmask, :]\n",
    "\n",
    "        diode_i = []\n",
    "        diode_v = []\n",
    "        _1 = time.time()\n",
    "        # print(\"masking1\", _1 - _0)\n",
    "        for diode_key in diodes:\n",
    "            diode_mask = submodule_diode == diode_key\n",
    "            diode_rowmask = diode_mask.flatten()\n",
    "\n",
    "            submodule_subdiode_subcell = submodule_subcell[diode_rowmask, :]\n",
    "\n",
    "            submodule_subdiode_irrad = submodule_irrad[diode_rowmask, :]\n",
    "            submodule_subdiode_temp = submodule_temp[diode_rowmask, :]\n",
    "\n",
    "            cells_i = []\n",
    "            cells_v = []\n",
    "            _2 = time.time()\n",
    "            # print(\"masking2\", _2 - _1)\n",
    "            for subcell_key in np.unique(submodule_subdiode_subcell):\n",
    "                submodule_subdiode_subcell_mask = submodule_subdiode_subcell == subcell_key\n",
    "                submodule_subdiode_subcell_irrad = submodule_subdiode_irrad[submodule_subdiode_subcell_mask]\n",
    "                submodule_subdiode_subcell_temp = submodule_subdiode_temp[submodule_subdiode_subcell_mask]\n",
    "\n",
    "                num_subcells = 10\n",
    "\n",
    "                sde_args = np.vectorize(pvsystem.calcparams_desoto)(submodule_subdiode_subcell_irrad,\n",
    "                                                                    submodule_subdiode_subcell_temp,\n",
    "                                                                    alpha_sc=0.00137,\n",
    "                                                                    a_ref=7.402658,\n",
    "                                                                    I_L_ref=2.509123,\n",
    "                                                                    I_o_ref=0.0,\n",
    "                                                                    R_sh_ref=1065.831543,\n",
    "                                                                    R_s=8.185414)\n",
    "                _3 = time.time()\n",
    "                # print(\"Param calc\", _3 - _2)\n",
    "                param_time.append(_3 - _2)\n",
    "                sde_args = np.array(sde_args)\n",
    "                # Use Bishop's method to calculate points on the IV curve with V ranging\n",
    "                # from the reverse breakdown voltage to open circuit\n",
    "                kwargs = {\n",
    "                    'breakdown_factor': 0.002,\n",
    "                    'breakdown_exp': 3.28,\n",
    "                    'breakdown_voltage': -5.5,\n",
    "                }\n",
    "\n",
    "                i_subcell = []\n",
    "                v_subcell = []\n",
    "\n",
    "\n",
    "                \n",
    "                for n in range(0, num_subcells):\n",
    "                    i_, v_, p_ = singlediode.bishop88(evaluated_voltages,\n",
    "                                                        *sde_args[:, n],\n",
    "                                                        **kwargs\n",
    "                                                        )\n",
    "                    \n",
    "                _4 = time.time()\n",
    "                # print(\"Single Diode\",_4 - _3)\n",
    "                diode_time.append(_4 - _3)\n"
   ]
  },
  {
   "cell_type": "code",
   "execution_count": 6,
   "metadata": {},
   "outputs": [
    {
     "name": "stdout",
     "output_type": "stream",
     "text": [
      "6.718991279602051\n",
      "8.01072382926941\n"
     ]
    }
   ],
   "source": [
    "print(np.sum(param_time))\n",
    "print(np.sum(diode_time))"
   ]
  },
  {
   "cell_type": "code",
   "execution_count": 74,
   "metadata": {},
   "outputs": [],
   "source": [
    "\n",
    "for t in range(0,100):\n",
    "    i_subcell = []\n",
    "    v_subcell = []\n",
    "    for n in range(0, num_subcells):\n",
    "        i_, v_, p_ = singlediode.bishop88(evaluated_voltages,\n",
    "                                            *sde_args[:, n],\n",
    "                                            **kwargs\n",
    "                                            )\n",
    "        i_ = i_ / 10\n",
    "        v_ = v_ / 264\n",
    "        i_subcell.append(i_)\n",
    "        v_subcell.append(v_)"
   ]
  },
  {
   "cell_type": "code",
   "execution_count": 65,
   "metadata": {},
   "outputs": [],
   "source": [
    "vfun = np.vectorize(singlediode.bishop88)\n"
   ]
  },
  {
   "cell_type": "code",
   "execution_count": 73,
   "metadata": {},
   "outputs": [],
   "source": [
    "for t in range(0,100):\n",
    "    i_, v_, p_ = vfun([evaluated_voltages.reshape(1000,1).tolist()],\n",
    "                        sde_args[0],\n",
    "                        sde_args[1],\n",
    "                        sde_args[2],\n",
    "                        sde_args[3],\n",
    "                        sde_args[4], \n",
    "                        0,\n",
    "                        np.inf,\n",
    "                        kwargs['breakdown_factor'],\n",
    "                        kwargs['breakdown_voltage'],\n",
    "                        kwargs['breakdown_exp']\n",
    "                        )\n",
    "    i_subcell = i_[0] / 10\n",
    "    v_subcell = v_[0] / 264\n",
    "    # p_ = p_[0]"
   ]
  },
  {
   "cell_type": "code",
   "execution_count": 64,
   "metadata": {},
   "outputs": [
    {
     "data": {
      "text/plain": [
       "array([[1.3477479 , 1.3477479 , 1.3477479 , ..., 1.3477479 , 1.3477479 ,\n",
       "        1.3477479 ],\n",
       "       [1.26868257, 1.26868257, 1.26868257, ..., 1.26868257, 1.26868257,\n",
       "        1.26868257],\n",
       "       [1.26007308, 1.26007308, 1.26007308, ..., 1.26007308, 1.26007308,\n",
       "        1.26007308],\n",
       "       ...,\n",
       "       [1.14921931, 1.14921931, 1.14921931, ..., 1.14921931, 1.14921931,\n",
       "        1.14921931],\n",
       "       [1.14911119, 1.14911119, 1.14911119, ..., 1.14911119, 1.14911119,\n",
       "        1.14911119],\n",
       "       [1.14900307, 1.14900307, 1.14900307, ..., 1.14900307, 1.14900307,\n",
       "        1.14900307]])"
      ]
     },
     "execution_count": 64,
     "metadata": {},
     "output_type": "execute_result"
    }
   ],
   "source": [
    "r[0][0]"
   ]
  }
 ],
 "metadata": {
  "kernelspec": {
   "display_name": "workbench",
   "language": "python",
   "name": "python3"
  },
  "language_info": {
   "codemirror_mode": {
    "name": "ipython",
    "version": 3
   },
   "file_extension": ".py",
   "mimetype": "text/x-python",
   "name": "python",
   "nbconvert_exporter": "python",
   "pygments_lexer": "ipython3",
   "version": "3.10.8"
  },
  "orig_nbformat": 4,
  "vscode": {
   "interpreter": {
    "hash": "0c4ac59e349d62c65843c6e7b303fbe6191f8771b8af55365501989d28e04afb"
   }
  }
 },
 "nbformat": 4,
 "nbformat_minor": 2
}
