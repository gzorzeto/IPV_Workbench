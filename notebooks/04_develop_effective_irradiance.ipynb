{
 "cells": [
  {
   "cell_type": "code",
   "execution_count": 1,
   "id": "422f795f-4ed8-410c-b52e-d3862042a309",
   "metadata": {},
   "outputs": [],
   "source": [
    "%load_ext autoreload\n",
    "%autoreload 2\n",
    "%load_ext line_profiler\n",
    "# %config Completer.use_jedi = False"
   ]
  },
  {
   "cell_type": "code",
   "execution_count": 242,
   "id": "1940ea5b-337f-42f8-b5f9-abd62c22557b",
   "metadata": {},
   "outputs": [],
   "source": [
    "import os\n",
    "import sys\n",
    "module_path = \"/Users/jmccarty/Data/221205_ipv_workbench/github/IPV_Workbench\"\n",
    "sys.path.insert(0, module_path)\n",
    "import pandas as pd\n",
    "import pickle\n",
    "import json\n",
    "from itertools import repeat\n",
    "import multiprocess\n",
    "from pprint import pprint\n",
    "import numpy as np\n",
    "import pvlib\n",
    "import proplot as pplt\n",
    "import ipv_workbench as ipv\n",
    "from ipv_workbench.utilities import utils, circuits, time_utils\n",
    "from ipv_workbench.devices import devices\n",
    "from ipv_workbench.simulator import simulations as ipv_sim\n",
    "from ipv_workbench.simulator import simulations_mp as ipv_sim_mp\n",
    "from ipv_workbench.simulator import calculations as ipv_calc\n",
    "from ipv_workbench.simulator import effective_irradiance as eff_irrad\n",
    "from ipv_workbench.visualize import plots as ipv_plots\n",
    "from ipv_workbench.translators import panelizer\n",
    "from ipv_workbench.sample import dummies\n",
    "from tqdm import tqdm\n",
    "import functools, operator, collections\n",
    "import multiprocess as mp\n",
    "import time\n",
    "import csv\n",
    "import datetime"
   ]
  },
  {
   "cell_type": "code",
   "execution_count": 27,
   "id": "fd8c35dc-3ec4-414a-90b3-e7612f91b68d",
   "metadata": {},
   "outputs": [],
   "source": [
    "def read_headers(file_content):\n",
    "        d={}\n",
    "        csvreader = csv.reader(file_content, delimiter=',', quotechar='\"')\n",
    "        for row in csvreader:\n",
    "            if row[0].isdigit():\n",
    "                break\n",
    "            else:\n",
    "                d[row[0]]=row[1:]\n",
    "\n",
    "        return d\n",
    "    \n",
    "\n",
    "    "
   ]
  },
  {
   "cell_type": "code",
   "execution_count": 80,
   "id": "adc05d8b-3fae-4b0d-964c-3f7309afd88a",
   "metadata": {},
   "outputs": [],
   "source": [
    "epw_file = \"/Users/jmccarty/Nextcloud/Teaching/22_HS/polikseni_bano/polikseni_share/epw_morph/fluntern_TMYx2007-2021.epw\"\n",
    "tmy_location = utils.tmy_location(epw_file)\n",
    "tmy = utils.tmy_to_dataframe(epw_file)\n"
   ]
  },
  {
   "cell_type": "code",
   "execution_count": 219,
   "id": "1d1a336e-c572-4325-9f46-f64a9dd4ddb0",
   "metadata": {},
   "outputs": [],
   "source": [
    "sp_file = \"/Users/jmccarty/Nextcloud/Teaching/22_HS/polikseni_bano/_noshare/B1391/surface_{1391;0;3}/radiance_results/annual_irradiance/model/grid/radiancegrid_139103_8514sensors.pts\"\n",
    "sp_file2 = \"/Users/jmccarty/Desktop/Bano_Project/radiance_results_no_accelerad_tree_not_modified/annual_irradiance/model/grid/radiancegrid_139103_8514sensors.pts\"\n",
    "total_results = \"/Users/jmccarty/Nextcloud/Teaching/22_HS/polikseni_bano/_noshare/B1391/surface_{1391;0;3}/radiance_results/annual_irradiance/results/total/radiancegrid_139103_8514sensors.ill\"\n",
    "total_results2 = \"/Users/jmccarty/Desktop/Bano_Project/radiance_results_no_accelerad_tree_not_modified/annual_irradiance/results/total/radiancegrid_139103_8514sensors.ill\"\n",
    "total_results_ghp = \"/Users/jmccarty/Desktop/Bano_Project/testing_negative/annual_irradiance/results/total/radiancegrid_1391010_15900sensors.ill\"\n",
    "dir_results = \"/Users/jmccarty/Nextcloud/Teaching/22_HS/polikseni_bano/_noshare/B1391/surface_{1391;0;3}/radiance_results/annual_irradiance/results/direct/radiancegrid_139103_8514sensors.ill\"\n",
    "dir_results2 = \"/Users/jmccarty/Desktop/Bano_Project/radiance_results_no_accelerad_tree_not_modified/annual_irradiance/results/direct/radiancegrid_139103_8514sensors.ill\"\n",
    "dir_results_ghp = \"/Users/jmccarty/Desktop/Bano_Project/testing_negative/annual_irradiance/results/direct/radiancegrid_1391010_15900sensors.ill\"\n",
    "\n",
    "sun_up = \"/Users/jmccarty/Nextcloud/Teaching/22_HS/polikseni_bano/_noshare/B1391/surface_{1391;0;3}/radiance_results/annual_irradiance/results/total/sun-up-hours.txt\""
   ]
  },
  {
   "cell_type": "code",
   "execution_count": 230,
   "id": "0387d473-dd5e-46aa-a0c5-ff0116c2dd42",
   "metadata": {},
   "outputs": [
    {
     "data": {
      "text/plain": [
       "x       134.600547\n",
       "y       155.857732\n",
       "z        23.103509\n",
       "xdir     -0.560424\n",
       "ydir     -0.828206\n",
       "zdir      0.000000\n",
       "Name: 4592, dtype: float64"
      ]
     },
     "execution_count": 230,
     "metadata": {},
     "output_type": "execute_result"
    }
   ],
   "source": [
    "sp_data = aoi.load_sensor_points(sp_file)\n",
    "sp_data.loc[4592]"
   ]
  },
  {
   "cell_type": "code",
   "execution_count": 222,
   "id": "36ef28d3-d5dd-4ffe-8bbe-f1b6f07607f4",
   "metadata": {},
   "outputs": [
    {
     "data": {
      "text/html": [
       "<div>\n",
       "<style scoped>\n",
       "    .dataframe tbody tr th:only-of-type {\n",
       "        vertical-align: middle;\n",
       "    }\n",
       "\n",
       "    .dataframe tbody tr th {\n",
       "        vertical-align: top;\n",
       "    }\n",
       "\n",
       "    .dataframe thead th {\n",
       "        text-align: right;\n",
       "    }\n",
       "</style>\n",
       "<table border=\"1\" class=\"dataframe\">\n",
       "  <thead>\n",
       "    <tr style=\"text-align: right;\">\n",
       "      <th></th>\n",
       "      <th>0</th>\n",
       "      <th>1</th>\n",
       "      <th>2</th>\n",
       "      <th>3</th>\n",
       "      <th>4</th>\n",
       "      <th>5</th>\n",
       "      <th>6</th>\n",
       "      <th>7</th>\n",
       "      <th>8</th>\n",
       "      <th>9</th>\n",
       "      <th>...</th>\n",
       "      <th>8504</th>\n",
       "      <th>8505</th>\n",
       "      <th>8506</th>\n",
       "      <th>8507</th>\n",
       "      <th>8508</th>\n",
       "      <th>8509</th>\n",
       "      <th>8510</th>\n",
       "      <th>8511</th>\n",
       "      <th>8512</th>\n",
       "      <th>8513</th>\n",
       "    </tr>\n",
       "  </thead>\n",
       "  <tbody>\n",
       "    <tr>\n",
       "      <th>0</th>\n",
       "      <td>0.0</td>\n",
       "      <td>0.0</td>\n",
       "      <td>0.0</td>\n",
       "      <td>0.0</td>\n",
       "      <td>0.0</td>\n",
       "      <td>0.0</td>\n",
       "      <td>0.0</td>\n",
       "      <td>0.0</td>\n",
       "      <td>0.0</td>\n",
       "      <td>0.0</td>\n",
       "      <td>...</td>\n",
       "      <td>0.0</td>\n",
       "      <td>0.0</td>\n",
       "      <td>0.0</td>\n",
       "      <td>0.0</td>\n",
       "      <td>0.0</td>\n",
       "      <td>0.0</td>\n",
       "      <td>0.0</td>\n",
       "      <td>0.0</td>\n",
       "      <td>0.0</td>\n",
       "      <td>0.0</td>\n",
       "    </tr>\n",
       "    <tr>\n",
       "      <th>1</th>\n",
       "      <td>0.0</td>\n",
       "      <td>0.0</td>\n",
       "      <td>0.0</td>\n",
       "      <td>0.0</td>\n",
       "      <td>0.0</td>\n",
       "      <td>0.0</td>\n",
       "      <td>0.0</td>\n",
       "      <td>0.0</td>\n",
       "      <td>0.0</td>\n",
       "      <td>0.0</td>\n",
       "      <td>...</td>\n",
       "      <td>0.0</td>\n",
       "      <td>0.0</td>\n",
       "      <td>0.0</td>\n",
       "      <td>0.0</td>\n",
       "      <td>0.0</td>\n",
       "      <td>0.0</td>\n",
       "      <td>0.0</td>\n",
       "      <td>0.0</td>\n",
       "      <td>0.0</td>\n",
       "      <td>0.0</td>\n",
       "    </tr>\n",
       "    <tr>\n",
       "      <th>2</th>\n",
       "      <td>0.0</td>\n",
       "      <td>0.0</td>\n",
       "      <td>0.0</td>\n",
       "      <td>0.0</td>\n",
       "      <td>0.0</td>\n",
       "      <td>0.0</td>\n",
       "      <td>0.0</td>\n",
       "      <td>0.0</td>\n",
       "      <td>0.0</td>\n",
       "      <td>0.0</td>\n",
       "      <td>...</td>\n",
       "      <td>0.0</td>\n",
       "      <td>0.0</td>\n",
       "      <td>0.0</td>\n",
       "      <td>0.0</td>\n",
       "      <td>0.0</td>\n",
       "      <td>0.0</td>\n",
       "      <td>0.0</td>\n",
       "      <td>0.0</td>\n",
       "      <td>0.0</td>\n",
       "      <td>0.0</td>\n",
       "    </tr>\n",
       "    <tr>\n",
       "      <th>3</th>\n",
       "      <td>0.0</td>\n",
       "      <td>0.0</td>\n",
       "      <td>0.0</td>\n",
       "      <td>0.0</td>\n",
       "      <td>0.0</td>\n",
       "      <td>0.0</td>\n",
       "      <td>0.0</td>\n",
       "      <td>0.0</td>\n",
       "      <td>0.0</td>\n",
       "      <td>0.0</td>\n",
       "      <td>...</td>\n",
       "      <td>0.0</td>\n",
       "      <td>0.0</td>\n",
       "      <td>0.0</td>\n",
       "      <td>0.0</td>\n",
       "      <td>0.0</td>\n",
       "      <td>0.0</td>\n",
       "      <td>0.0</td>\n",
       "      <td>0.0</td>\n",
       "      <td>0.0</td>\n",
       "      <td>0.0</td>\n",
       "    </tr>\n",
       "    <tr>\n",
       "      <th>4</th>\n",
       "      <td>0.0</td>\n",
       "      <td>0.0</td>\n",
       "      <td>0.0</td>\n",
       "      <td>0.0</td>\n",
       "      <td>0.0</td>\n",
       "      <td>0.0</td>\n",
       "      <td>0.0</td>\n",
       "      <td>0.0</td>\n",
       "      <td>0.0</td>\n",
       "      <td>0.0</td>\n",
       "      <td>...</td>\n",
       "      <td>0.0</td>\n",
       "      <td>0.0</td>\n",
       "      <td>0.0</td>\n",
       "      <td>0.0</td>\n",
       "      <td>0.0</td>\n",
       "      <td>0.0</td>\n",
       "      <td>0.0</td>\n",
       "      <td>0.0</td>\n",
       "      <td>0.0</td>\n",
       "      <td>0.0</td>\n",
       "    </tr>\n",
       "  </tbody>\n",
       "</table>\n",
       "<p>5 rows × 8514 columns</p>\n",
       "</div>"
      ],
      "text/plain": [
       "   0     1     2     3     4     5     6     7     8     9     ...  8504  \\\n",
       "0   0.0   0.0   0.0   0.0   0.0   0.0   0.0   0.0   0.0   0.0  ...   0.0   \n",
       "1   0.0   0.0   0.0   0.0   0.0   0.0   0.0   0.0   0.0   0.0  ...   0.0   \n",
       "2   0.0   0.0   0.0   0.0   0.0   0.0   0.0   0.0   0.0   0.0  ...   0.0   \n",
       "3   0.0   0.0   0.0   0.0   0.0   0.0   0.0   0.0   0.0   0.0  ...   0.0   \n",
       "4   0.0   0.0   0.0   0.0   0.0   0.0   0.0   0.0   0.0   0.0  ...   0.0   \n",
       "\n",
       "   8505  8506  8507  8508  8509  8510  8511  8512  8513  \n",
       "0   0.0   0.0   0.0   0.0   0.0   0.0   0.0   0.0   0.0  \n",
       "1   0.0   0.0   0.0   0.0   0.0   0.0   0.0   0.0   0.0  \n",
       "2   0.0   0.0   0.0   0.0   0.0   0.0   0.0   0.0   0.0  \n",
       "3   0.0   0.0   0.0   0.0   0.0   0.0   0.0   0.0   0.0  \n",
       "4   0.0   0.0   0.0   0.0   0.0   0.0   0.0   0.0   0.0  \n",
       "\n",
       "[5 rows x 8514 columns]"
      ]
     },
     "execution_count": 222,
     "metadata": {},
     "output_type": "execute_result"
    }
   ],
   "source": [
    "# load in data\n",
    "irrad_total_df = utils.build_full_ill(sun_up, total_results2)\n",
    "irrad_direct_df = utils.build_full_ill(sun_up, dir_results2)\n",
    "\n",
    "irrad_diffuse_df = irrad_total_df - irrad_direct_df\n",
    "sensors_df = aoi.load_sensor_points(sp_file)\n",
    "irrad_diffuse_df.head()"
   ]
  },
  {
   "cell_type": "code",
   "execution_count": 204,
   "id": "cc4ea463-433d-4566-aaf1-cc4f4720f27b",
   "metadata": {},
   "outputs": [],
   "source": [
    "irrad = pd.read_csv(total_results2, delimiter=' ', header=None)#.iloc[:, 1:].T.reset_index(drop=True)"
   ]
  },
  {
   "cell_type": "code",
   "execution_count": 226,
   "id": "8adc0900-4678-48f3-8a69-c62677bf839c",
   "metadata": {},
   "outputs": [
    {
     "data": {
      "text/plain": [
       "-80.407898"
      ]
     },
     "execution_count": 226,
     "metadata": {},
     "output_type": "execute_result"
    }
   ],
   "source": [
    "# irrad_total_df[6704].sort_values()\n",
    "\n",
    "# def does_it_have_negatives(result_file):\n",
    "#     irrad_total_df = utils.build_full_ill(sun_up, result_file)\n",
    "#     if irrad_total_df.min(axis=1).sort_values().values[0] < 0:\n",
    "#         print(f\"{result_file}\")\n",
    "\n"
   ]
  },
  {
   "cell_type": "code",
   "execution_count": 141,
   "id": "117e6c97-f57b-4ffc-b1c0-d6c619fa09de",
   "metadata": {},
   "outputs": [],
   "source": [
    "# calculate AOI mod\n",
    "vector = np.array([sensors_df.at[0, 'xdir'], \n",
    "                   sensors_df.at[0, 'ydir'],\n",
    "                   sensors_df.at[0, 'zdir']])\n",
    "\n",
    "surface_azimuth, surface_tilt = aoi.vector_to_tilt_and_azimuth(vector)\n",
    "\n",
    "surface_tilt_deg = np.rad2deg(surface_tilt)\n",
    "surface_azimuth_deg = np.rad2deg(surface_azimuth)\n",
    "solar_zenith_deg = solar_position_hoy['apparent_zenith'].values\n",
    "solar_azimuth_deg = solar_position_hoy['azimuth'].values\n",
    "\n",
    "aoi_mod = pvlib.irradiance.aoi(surface_tilt_deg,surface_azimuth_deg,solar_zenith_deg,solar_azimuth_deg)"
   ]
  },
  {
   "cell_type": "code",
   "execution_count": 142,
   "id": "262ac8ac-18c2-4957-96d6-a240b78ad3da",
   "metadata": {},
   "outputs": [
    {
     "data": {
      "text/plain": [
       "'\\n* apparent_elevation : apparent sun elevation accounting for\\n          atmospheric refraction.\\n* elevation : actual elevation (not accounting for refraction)\\n  of the sun in decimal degrees, 0 = on horizon.\\n  The complement of the zenith angle.\\n* azimuth : Azimuth of the sun in decimal degrees East of North.\\n  This is the complement of the apparent zenith angle.\\n* apparent_zenith : apparent sun zenith accounting for atmospheric\\n  refraction. (this si the one we need *solar_zenith must be >=0 and <=180)\\n* zenith : Solar zenith angle\\n* solar_time : Solar time in decimal hours (solar noon is 12.00).\\n'"
      ]
     },
     "execution_count": 142,
     "metadata": {},
     "output_type": "execute_result"
    }
   ],
   "source": [
    "# get solar position data\n",
    "hoy = 3998\n",
    "\n",
    "solar_position_hoy = pvlib.solarposition.get_solarposition(time_utils.hoy_to_date(hoy), \n",
    "                                      tmy_location['lat'], \n",
    "                                      tmy_location['lon'], \n",
    "                                      altitude=tmy_location['elevation'], \n",
    "                                      pressure=tmy.loc[hoy]['atmos_Pa'], \n",
    "                                      method='nrel_numpy', \n",
    "                                      temperature=tmy.loc[hoy]['drybulb_C']\n",
    "                                     )\n",
    "\"\"\"\n",
    "* apparent_elevation : apparent sun elevation accounting for\n",
    "          atmospheric refraction.\n",
    "* elevation : actual elevation (not accounting for refraction)\n",
    "  of the sun in decimal degrees, 0 = on horizon.\n",
    "  The complement of the zenith angle.\n",
    "* azimuth : Azimuth of the sun in decimal degrees East of North.\n",
    "  This is the complement of the apparent zenith angle.\n",
    "* apparent_zenith : apparent sun zenith accounting for atmospheric\n",
    "  refraction. (this si the one we need *solar_zenith must be >=0 and <=180)\n",
    "* zenith : Solar zenith angle\n",
    "* solar_time : Solar time in decimal hours (solar noon is 12.00).\n",
    "\"\"\"\n"
   ]
  },
  {
   "cell_type": "code",
   "execution_count": 161,
   "id": "a6f53ef3-6f62-4978-926f-44a2a05e4512",
   "metadata": {},
   "outputs": [
    {
     "name": "stdout",
     "output_type": "stream",
     "text": [
      "ALERT\n",
      "e_dir is  17.14404\n",
      "e_diff is  -17.39994502\n",
      "e_eff is  [-9.73147425]\n",
      "k1 is  [0.39639275]\n"
     ]
    },
    {
     "data": {
      "text/plain": [
       "0"
      ]
     },
     "execution_count": 161,
     "metadata": {},
     "output_type": "execute_result"
    }
   ],
   "source": [
    "_sp = 0\n",
    "\n",
    "e_dir = irrad_direct_df[_sp].loc[hoy]\n",
    "e_diff = irrad_diffuse_df[_sp].loc[hoy]\n",
    "theta = np.deg2rad(aoi_mod)\n",
    "aa_r = 0.17\n",
    "\n",
    "aoi.e_effective(e_dir,e_diff,theta,aa_r)"
   ]
  },
  {
   "cell_type": "code",
   "execution_count": 159,
   "id": "f88b5a9f-de5a-4275-b9cb-2b4a9a057256",
   "metadata": {},
   "outputs": [
    {
     "data": {
      "text/plain": [
       "0.9498448031311924"
      ]
     },
     "execution_count": 159,
     "metadata": {},
     "output_type": "execute_result"
    }
   ],
   "source": [
    "aoi.k_martin_ruiz(np.deg2rad(60), aa_r)"
   ]
  },
  {
   "cell_type": "code",
   "execution_count": 232,
   "id": "d1314987-eb00-4b88-b6dd-dbdca437f164",
   "metadata": {},
   "outputs": [],
   "source": [
    "tmy_og = utils.tmy_to_dataframe(\"/Users/jmccarty/Nextcloud/Teaching/22_HS/polikseni_bano/polikseni_share/epw_morph/fluntern_TMYx2007-2021.epw\")"
   ]
  },
  {
   "cell_type": "code",
   "execution_count": 251,
   "id": "4b3892e2-e7f7-4cd7-94a1-f59051f1ea3f",
   "metadata": {},
   "outputs": [
    {
     "data": {
      "text/plain": [
       "array([548.])"
      ]
     },
     "execution_count": 251,
     "metadata": {},
     "output_type": "execute_result"
    }
   ],
   "source": [
    "eff_irrad.front_cover_loss(1000,\"pure_white\")\n"
   ]
  }
 ],
 "metadata": {
  "kernelspec": {
   "display_name": "Python [conda env:workbench]",
   "language": "python",
   "name": "conda-env-workbench-py"
  },
  "language_info": {
   "codemirror_mode": {
    "name": "ipython",
    "version": 3
   },
   "file_extension": ".py",
   "mimetype": "text/x-python",
   "name": "python",
   "nbconvert_exporter": "python",
   "pygments_lexer": "ipython3",
   "version": "3.10.8"
  }
 },
 "nbformat": 4,
 "nbformat_minor": 5
}
