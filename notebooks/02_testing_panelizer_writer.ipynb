{
 "cells": [
  {
   "cell_type": "code",
   "execution_count": 1,
   "id": "1f6db4f3-e321-49ec-b50d-100fcd49c3f8",
   "metadata": {},
   "outputs": [],
   "source": [
    "%load_ext autoreload\n",
    "%autoreload 2\n",
    "%load_ext line_profiler"
   ]
  },
  {
   "cell_type": "code",
   "execution_count": 2,
   "id": "d0878d41",
   "metadata": {},
   "outputs": [],
   "source": [
    "import os\n",
    "import glob\n",
    "import sys\n",
    "import pandas as pd\n",
    "module_path = \"/Users/jmccarty/Data/221205_ipv_workbench/github/IPV_Workbench\"\n",
    "sys.path.insert(0, module_path)\n",
    "from ipv_workbench.translators import panelizer\n",
    "from ipv_workbench.utilities import utils, time_utils\n",
    "from ipv_workbench.translators import mapping_irradiance as ipv_irrad\n",
    "from ipv_workbench.translators import module_mapping as ipv_mm\n",
    "from ipv_workbench.sample import dummies\n",
    "from ipv_workbench.solver import calculations as ipv_calc\n",
    "from ipv_workbench.solver import simulations_mp as ipv_sim_mp\n",
    "from ipv_workbench.solver import compile_mp\n",
    "from ipv_workbench.solver import single_module_mp\n",
    "from ipv_workbench.solver import topology_solver as ipv_ts\n",
    "\n",
    "import pickle\n",
    "from pprint import pprint\n",
    "import numpy as np\n",
    "import pvlib\n",
    "import matplotlib.pyplot as plt\n",
    "import random\n",
    "from ipv_workbench.visualize import plots as ipv_plots\n",
    "import sympy\n"
   ]
  },
  {
   "attachments": {},
   "cell_type": "markdown",
   "id": "8fb91ec6",
   "metadata": {},
   "source": [
    "# Intial Setup of object"
   ]
  },
  {
   "cell_type": "code",
   "execution_count": 3,
   "id": "0946efdd-9268-40b4-b73b-6eecd06a00df",
   "metadata": {},
   "outputs": [],
   "source": [
    "PROJECT_FOLDER = \"/Users/jmccarty/Desktop/bano_simulations\"\n",
    "BUILDING =\"B1391\"\n",
    "pickle_in = os.path.join(PROJECT_FOLDER,\"panelizer\",BUILDING,\"CP_solar_glass_B1391_raw.pickle\")\n",
    "pickle_out = os.path.join(PROJECT_FOLDER,\"systems\",BUILDING,\"CP_solar_glass_B1391_raw.pickle\")\n",
    "po = panelizer.PanelizedObject(pickle_in)\n",
    "po.set_analysis_period(2000,3200,1)\n",
    "\n",
    "po.project_setup(PROJECT_FOLDER)"
   ]
  },
  {
   "cell_type": "code",
   "execution_count": 31,
   "id": "7093e4b6",
   "metadata": {},
   "outputs": [
    {
     "data": {
      "text/plain": [
       "0     0\n",
       "1     3\n",
       "2     6\n",
       "3     9\n",
       "4    12\n",
       "5    15\n",
       "dtype: int64"
      ]
     },
     "execution_count": 31,
     "metadata": {},
     "output_type": "execute_result"
    }
   ],
   "source": [
    "pd.DataFrame({\"A\":[0,1,2,3,4,5],\n",
    "              \"B\":[0,1,2,3,4,5],\n",
    "              \"C\":[0,1,2,3,4,5]}).sum(axis=1)"
   ]
  },
  {
   "cell_type": "code",
   "execution_count": null,
   "id": "17dbf14d",
   "metadata": {},
   "outputs": [],
   "source": [
    "panelizer.compile_system(po,write_system=False, mp=False)"
   ]
  },
  {
   "cell_type": "code",
   "execution_count": 18,
   "id": "6d490e29",
   "metadata": {},
   "outputs": [
    {
     "data": {
      "text/plain": [
       "890477568"
      ]
     },
     "execution_count": 18,
     "metadata": {},
     "output_type": "execute_result"
    }
   ],
   "source": [
    "from sys import getsizeof\n",
    "def get_size(obj, seen=None):\n",
    "    \"\"\"Recursively finds size of objects\"\"\"\n",
    "    size = sys.getsizeof(obj)\n",
    "    if seen is None:\n",
    "        seen = set()\n",
    "    obj_id = id(obj)\n",
    "    if obj_id in seen:\n",
    "        return 0\n",
    "    # Important mark as seen *before* entering recursion to gracefully handle\n",
    "    # self-referential objects\n",
    "    seen.add(obj_id)\n",
    "    if isinstance(obj, dict):\n",
    "        size += sum([get_size(v, seen) for v in obj.values()])\n",
    "        size += sum([get_size(k, seen) for k in obj.keys()])\n",
    "    elif hasattr(obj, '__dict__'):\n",
    "        size += get_size(obj.__dict__, seen)\n",
    "    elif hasattr(obj, '__iter__') and not isinstance(obj, (str, bytes, bytearray)):\n",
    "        size += sum([get_size(i, seen) for i in obj])\n",
    "    return size\n",
    "\n",
    "get_size(po)"
   ]
  },
  {
   "cell_type": "code",
   "execution_count": null,
   "id": "ba25c4d9",
   "metadata": {},
   "outputs": [],
   "source": [
    "pickled_data = pickle.dumps(po)  # returns data as a bytes object\n",
    "compressed_pickle = blosc.compress(pickled_data)\n",
    "\n",
    "with open(\"/Users/jmccarty/Desktop/test.dat\", \"wb\") as f:\n",
    "    f.write(compressed_pickle)"
   ]
  },
  {
   "cell_type": "code",
   "execution_count": null,
   "id": "013b1aba",
   "metadata": {},
   "outputs": [],
   "source": [
    "\n",
    "# longer runtime (60s) for ~300modules\n",
    "# TODO parallelize the entire workflow\n",
    "\n",
    "for surface in po.get_surfaces():\n",
    "    for string in po.get_strings(surface):\n",
    "        for module in po.get_modules(surface, string):\n",
    "            # build parameters for module\n",
    "            module_dict = po.get_dict_instance([surface,string,module])\n",
    "            module_details = module_dict['DETAILS']\n",
    "\n",
    "            parameters = utils.get_cec_data(module_details['cec_key'],file_path=po.CEC_DATA)\n",
    "            custom_module_data = pd.read_csv(po.MODULE_CELL_DATA,index_col='scenario').loc[module_details['module_type']].to_dict()\n",
    "\n",
    "            for k,v in custom_module_data.items():\n",
    "                parameters[k] = v\n",
    "                \n",
    "            parameters['N_subcells'] = int(max(parameters['Nsubcell_col'],parameters['Nsubcell_row']))\n",
    "            for k,v in parameters.items():\n",
    "                if type(v) is str:\n",
    "                    try:\n",
    "                        parameters[k] = float(v)\n",
    "                    except ValueError:\n",
    "                        pass\n",
    "            parameters['n_cols'] = module_details['n_cols']\n",
    "            parameters['n_rows'] = module_details['n_rows']\n",
    "            parameters['total_cells'] = parameters['n_cols']*parameters['n_rows']\n",
    "            # TODO recalculate parameters \n",
    "            # cell_area                                                 1.99\n",
    "            # Wp_m2_cell                                              161.01\n",
    "            # module_area                                                2.2\n",
    "            # Wp_m2_module # def deteect_subcells()\n",
    "            \n",
    "            # assign subcell counts if present\n",
    "            actual_cols = parameters['n_cols']\n",
    "            actual_rows = parameters['n_rows']\n",
    "            ideal_subcell_col = parameters['Nsubcell_col']\n",
    "            ideal_subcell_row = parameters['Nsubcell_row']\n",
    "            if ideal_subcell_col > ideal_subcell_row:\n",
    "                print(\"Subcells detected for columns.\")\n",
    "                parameters['Nsubcell_col'] = actual_cols\n",
    "                parameters['N_subcells'] = actual_cols\n",
    "            elif ideal_subcell_col < ideal_subcell_row:\n",
    "                print(\"Subcells detected for rows.\")\n",
    "                parameters['Nsubcell_row'] = actual_rows\n",
    "                parameters['N_subcells'] = actual_rows\n",
    "            else:\n",
    "                pass\n",
    "            module_dict['PARAMETERS'] = parameters.copy()\n",
    "                        "
   ]
  },
  {
   "attachments": {},
   "cell_type": "markdown",
   "id": "47c60490",
   "metadata": {},
   "source": [
    "# Sample Irradiance"
   ]
  },
  {
   "cell_type": "code",
   "execution_count": 6,
   "id": "92e6a62c",
   "metadata": {},
   "outputs": [],
   "source": [
    "# load surface\n",
    "surface = po.get_surfaces()[0]\n",
    "rad_surface_key = po.get_dict_instance([surface])['DETAILS']['radiance_surface_label']\n",
    "\n",
    "total_ill = ipv_irrad.load_irradiance_file(po.RADIANCE_DIR, rad_surface_key, \"total\")\n",
    "direct_ill = ipv_irrad.load_irradiance_file(po.RADIANCE_DIR, rad_surface_key, \"direct\")\n",
    "diffuse_ill = pd.DataFrame(np.where(total_ill < direct_ill, direct_ill*0.01, total_ill - direct_ill))\n",
    "grid_pts = ipv_irrad.load_grid_file(po.RADIANCE_DIR, rad_surface_key)\n"
   ]
  },
  {
   "cell_type": "code",
   "execution_count": 7,
   "id": "5203b258",
   "metadata": {},
   "outputs": [],
   "source": [
    "# load string\n",
    "string = po.get_strings(surface)[1]"
   ]
  },
  {
   "cell_type": "code",
   "execution_count": 8,
   "id": "f99cb9f9",
   "metadata": {},
   "outputs": [],
   "source": [
    "# load module \n",
    "module = po.get_modules(surface,string)[1]\n",
    "\n",
    "module_dict = po.get_dict_instance([surface,string,module])\n",
    "module_parameters = module_dict['PARAMETERS']"
   ]
  },
  {
   "cell_type": "code",
   "execution_count": 9,
   "id": "58df6e68",
   "metadata": {},
   "outputs": [],
   "source": [
    "\n",
    "pv_cells_xyz_arr = np.array(po.get_cells_xyz(surface, string, module))\n",
    "sensor_pts_xyz_arr = grid_pts[['X', 'Y', 'Z']].values\n",
    "\n",
    "G_dir_ann = ipv_irrad.collect_raw_irradiance(pv_cells_xyz_arr,\n",
    "                                             sensor_pts_xyz_arr,\n",
    "                                             direct_ill.T.values)\n",
    "G_diff_ann = ipv_irrad.collect_raw_irradiance(pv_cells_xyz_arr,\n",
    "                                              sensor_pts_xyz_arr,\n",
    "                                              diffuse_ill.T.values)\n"
   ]
  },
  {
   "cell_type": "code",
   "execution_count": 10,
   "id": "7760252f",
   "metadata": {},
   "outputs": [],
   "source": [
    "# calculate effective irradiance\n",
    "tmy_location = utils.tmy_location(po.tmy_file)\n",
    "dbt = po.tmy_dataframe['drybulb_C'].values\n",
    "psl = po.tmy_dataframe['atmos_Pa'].values\n",
    "\n",
    "evaluated_normal_vector = tuple(module_dict['CELLSNORMALS'][0])\n",
    "front_cover = module_dict['LAYERS']['front_film']\n",
    "\n",
    "# calcualte the effectivate irradiance for the year\n",
    "G_eff_ann = ipv_irrad.calculate_effective_irradiance_timeseries(G_dir_ann,\n",
    "                                                                G_diff_ann,\n",
    "                                                                evaluated_normal_vector,\n",
    "                                                                po.all_hoy,\n",
    "                                                                tmy_location,\n",
    "                                                                psl,\n",
    "                                                                dbt,\n",
    "                                                                front_cover)"
   ]
  },
  {
   "cell_type": "code",
   "execution_count": 11,
   "id": "3fc113fe",
   "metadata": {},
   "outputs": [
    {
     "data": {
      "text/plain": [
       "array([12.53895956, 13.08511819, 14.41319853, 14.08949251, 12.53895956,\n",
       "       13.08511819, 14.41319853, 14.08949251, 12.53895956, 12.71790312,\n",
       "       13.89010153, 14.33982239, 12.53895956, 12.71790312, 13.89010153,\n",
       "       14.33982239, 12.53895956, 12.71790312, 13.89010153, 14.33982239,\n",
       "       12.53895956, 12.71790312, 13.89010153, 14.33982239, 12.53895956,\n",
       "       12.71790312, 13.89010153, 14.33982239, 12.53895956, 12.71790312,\n",
       "       13.89010153, 14.33982239, 12.53895956, 12.71790312, 13.89010153,\n",
       "       14.33982239, 12.53895956, 12.71790312, 13.89010153, 14.33982239,\n",
       "       12.53895956, 12.71790312, 13.89010153, 14.33982239, 12.71790312,\n",
       "       12.71790312, 13.89010153, 14.33982239, 12.71790312, 12.71790312,\n",
       "       13.89010153, 14.33982239, 12.71790312, 12.71790312, 13.89010153,\n",
       "       14.33982239, 12.71790312, 12.71790312, 13.89010153, 14.33982239,\n",
       "       12.71790312, 12.71790312, 13.89010153, 14.33982239, 12.71790312,\n",
       "       12.71790312, 13.89010153, 14.33982239, 12.71790312, 12.71790312,\n",
       "       13.89010153, 14.33982239, 12.71790312, 12.71790312, 13.89010153,\n",
       "       14.33982239, 12.71790312, 12.71790312, 13.89010153, 14.33982239,\n",
       "       12.71790312, 12.71790312, 13.89010153, 14.33982239, 12.71790312,\n",
       "       12.71790312, 13.89010153, 14.33982239, 12.71790312, 12.71790312,\n",
       "       13.89010153, 14.33982239, 12.71790312, 12.71790312, 13.89010153,\n",
       "       14.33982239, 12.71790312, 12.71790312, 13.89010153, 14.33982239,\n",
       "       12.71790312, 12.71790312, 13.89010153, 14.33982239, 12.71790312,\n",
       "       12.71790312, 13.89010153, 14.33982239, 12.71790312, 12.71790312,\n",
       "       13.89010153, 14.33982239, 12.71790312, 12.71790312, 13.89010153,\n",
       "       14.33982239, 12.71790312, 12.71790312, 13.89010153, 14.33982239,\n",
       "       12.71790312, 12.71790312, 13.89010153, 14.33982239, 12.71790312,\n",
       "       12.71790312, 13.89010153, 14.33982239, 12.71790312, 12.71790312,\n",
       "       13.89010153, 14.33982239, 12.71790312, 12.71790312, 13.89010153,\n",
       "       14.33982239, 12.71790312, 12.71790312, 13.89010153, 14.33982239,\n",
       "       12.71790312, 12.71790312, 13.89010153, 14.33982239, 12.50101072,\n",
       "       12.50101072, 13.91209565, 14.12292999, 12.50101072, 12.50101072,\n",
       "       13.91209565, 14.12292999, 12.50101072, 12.50101072, 13.91209565,\n",
       "       14.12292999, 12.50101072, 12.50101072, 13.91209565, 14.12292999,\n",
       "       12.50101072, 12.50101072, 13.91209565, 14.12292999, 12.50101072,\n",
       "       12.50101072, 13.91209565, 14.12292999, 12.50101072, 12.50101072,\n",
       "       13.91209565, 14.12292999, 12.50101072, 12.50101072, 13.91209565,\n",
       "       14.12292999, 12.50101072, 12.50101072, 13.91209565, 14.12292999,\n",
       "       12.50101072, 12.50101072, 13.91209565, 14.12292999, 12.50101072,\n",
       "       12.50101072, 13.91209565, 14.12292999, 12.50101072, 12.50101072,\n",
       "       13.91209565, 14.12292999, 12.50101072, 12.50101072, 13.91209565,\n",
       "       14.12292999, 12.50101072, 12.50101072, 13.91209565, 14.12292999,\n",
       "       12.50101072, 12.50101072, 13.91209565, 14.12292999, 12.50101072,\n",
       "       12.50101072, 13.91209565, 14.12292999, 12.50101072, 12.50101072,\n",
       "       13.91209565, 14.12292999, 12.50101072, 12.50101072, 13.91209565,\n",
       "       14.12292999, 12.50101072, 12.50101072, 13.91209565, 14.12292999,\n",
       "       12.50101072, 12.50101072, 13.91209565, 14.12292999, 12.50101072,\n",
       "       12.50101072, 13.91209565, 14.12292999, 12.50101072, 12.50101072,\n",
       "       13.91209565, 14.12292999, 12.50101072, 12.50101072, 13.91209565,\n",
       "       14.12292999, 12.50101072, 12.50101072, 13.91209565, 14.12292999,\n",
       "       12.04782639, 12.50101072, 13.91209565, 14.12292999, 12.04782639,\n",
       "       12.50101072, 13.91209565, 14.12292999, 12.04782639, 12.50101072,\n",
       "       13.91209565, 14.12292999, 12.04782639, 12.50101072, 13.91209565,\n",
       "       14.12292999, 12.04782639, 12.50101072, 13.91209565, 14.12292999,\n",
       "       12.04782639, 12.50101072, 13.91209565, 14.12292999, 12.04782639,\n",
       "       12.50101072, 13.91209565, 14.12292999, 12.04782639, 12.50101072,\n",
       "       13.91209565, 14.12292999, 12.04782639, 12.50101072, 13.91209565,\n",
       "       14.12292999, 12.04782639, 12.46303183, 13.62833399, 13.92922225,\n",
       "       12.04782639, 12.46303183, 13.62833399, 13.92922225, 12.04782639,\n",
       "       12.46303183, 13.62833399, 13.92922225, 12.04782639, 12.46303183,\n",
       "       13.62833399, 13.92922225, 12.04782639, 12.46303183, 13.62833399,\n",
       "       13.92922225, 12.04782639, 12.46303183, 13.62833399, 13.92922225,\n",
       "       12.04782639, 12.46303183, 13.62833399, 13.92922225, 12.04782639,\n",
       "       12.46303183, 13.62833399, 13.92922225, 12.04782639, 12.46303183,\n",
       "       13.62833399, 13.92922225, 12.46303183, 12.46303183, 13.62833399,\n",
       "       13.92922225, 12.46303183, 12.46303183, 13.62833399, 13.92922225,\n",
       "       12.46303183, 12.46303183, 13.62833399, 13.92922225, 12.46303183,\n",
       "       12.46303183, 13.62833399, 13.92922225, 12.46303183, 12.46303183,\n",
       "       13.62833399, 13.92922225, 12.46303183, 12.46303183, 13.62833399,\n",
       "       13.92922225, 12.46303183, 12.46303183, 13.62833399, 13.92922225,\n",
       "       12.46303183, 12.46303183, 13.62833399, 13.92922225, 12.46303183,\n",
       "       12.46303183, 13.62833399, 13.92922225, 12.46303183, 12.46303183,\n",
       "       13.62833399, 13.92922225, 12.46303183, 12.46303183, 13.62833399,\n",
       "       13.92922225, 12.46303183, 12.46303183, 13.62833399, 13.92922225,\n",
       "       12.46303183, 12.46303183, 13.62833399, 13.92922225, 12.46303183,\n",
       "       12.46303183, 13.62833399, 13.92922225, 12.46303183, 12.46303183,\n",
       "       13.62833399, 13.92922225, 12.46303183, 12.46303183, 13.62833399,\n",
       "       13.92922225, 12.46303183, 12.46303183, 13.62833399, 13.92922225,\n",
       "       12.46303183, 12.46303183, 13.62833399, 13.92922225, 12.46303183,\n",
       "       12.46303183, 13.62833399, 13.92922225, 12.46303183, 12.46303183,\n",
       "       13.62833399, 13.92922225, 12.46303183, 12.46303183, 13.62833399,\n",
       "       13.92922225, 12.46303183, 12.46303183, 13.62833399, 13.92922225,\n",
       "       12.46303183, 12.46303183, 13.62833399, 13.92922225, 12.46303183,\n",
       "       12.46303183, 13.62833399, 13.92922225, 12.39616257, 12.39616257,\n",
       "       13.41263213, 13.86235299, 12.39616257, 12.39616257, 13.41263213,\n",
       "       13.86235299, 12.39616257, 12.39616257, 13.41263213, 13.86235299,\n",
       "       12.39616257, 12.39616257, 13.41263213, 13.86235299, 12.39616257,\n",
       "       12.39616257, 13.41263213, 13.86235299, 12.39616257, 12.39616257,\n",
       "       13.41263213, 13.86235299, 12.39616257, 12.39616257, 13.41263213,\n",
       "       13.86235299, 12.39616257, 12.39616257, 13.41263213, 13.86235299,\n",
       "       12.39616257, 12.39616257, 13.41263213, 13.86235299, 12.39616257,\n",
       "       12.39616257, 13.41263213, 13.86235299, 12.39616257, 12.39616257,\n",
       "       13.41263213, 13.86235299, 12.39616257, 12.39616257, 13.41263213,\n",
       "       13.86235299, 12.39616257, 12.39616257, 13.41263213, 13.86235299,\n",
       "       12.39616257, 12.39616257, 13.41263213, 13.86235299, 12.39616257,\n",
       "       12.39616257, 13.41263213, 13.86235299, 12.39616257, 12.39616257,\n",
       "       13.41263213, 13.86235299, 12.39616257, 12.39616257, 13.41263213,\n",
       "       13.86235299, 12.39616257, 12.39616257, 13.41263213, 13.86235299,\n",
       "       12.39616257, 12.39616257, 13.41263213, 13.86235299, 12.39616257,\n",
       "       12.39616257, 13.41263213, 13.86235299, 12.39616257, 12.39616257,\n",
       "       13.41263213, 13.86235299, 12.39616257, 12.39616257, 13.41263213,\n",
       "       13.86235299, 12.39616257, 12.39616257, 13.41263213, 13.86235299,\n",
       "       12.39616257, 12.39616257, 13.41263213, 13.86235299, 12.39616257,\n",
       "       12.39616257, 13.41263213, 13.86235299, 12.0493481 , 12.39616257,\n",
       "       13.41263213, 13.86235299, 12.0493481 , 12.39616257, 13.41263213,\n",
       "       13.86235299, 12.0493481 , 12.39616257, 13.41263213, 13.86235299,\n",
       "       12.0493481 , 12.39616257, 13.41263213, 13.86235299, 12.0493481 ,\n",
       "       12.39616257, 13.41263213, 13.86235299, 12.0493481 , 12.39616257,\n",
       "       13.41263213, 13.86235299, 12.0493481 , 12.39616257, 13.41263213,\n",
       "       13.86235299, 12.0493481 , 12.39616257, 13.41263213, 13.86235299,\n",
       "       12.0493481 , 12.39616257, 13.41263213, 13.86235299, 12.0493481 ,\n",
       "       12.31174508, 13.09122971, 13.53992355, 12.0493481 , 12.31174508,\n",
       "       13.09122971, 13.53992355, 12.0493481 , 12.31174508, 13.09122971,\n",
       "       13.53992355, 12.0493481 , 12.31174508, 13.09122971, 13.53992355,\n",
       "       12.0493481 , 12.31174508, 13.09122971, 13.53992355, 12.0493481 ,\n",
       "       12.31174508, 13.09122971, 13.53992355, 12.0493481 , 12.31174508,\n",
       "       13.09122971, 13.53992355, 12.0493481 , 12.31174508, 13.09122971,\n",
       "       13.53992355, 12.0493481 , 12.31174508, 13.09122971, 13.53992355,\n",
       "       12.31174508, 12.31174508, 13.09122971, 13.53992355, 12.31174508,\n",
       "       12.31174508, 13.09122971, 13.53992355, 12.31174508, 12.31174508,\n",
       "       13.09122971, 13.53992355, 12.31174508, 12.31174508, 13.09122971,\n",
       "       13.53992355, 12.31174508, 12.31174508, 13.09122971, 13.53992355,\n",
       "       12.31174508, 12.31174508, 13.09122971, 13.53992355, 12.31174508,\n",
       "       12.31174508, 13.09122971, 13.53992355, 12.31174508, 12.31174508,\n",
       "       13.09122971, 13.53992355, 12.31174508, 12.31174508, 13.09122971,\n",
       "       13.53992355, 12.31174508, 12.31174508, 13.09122971, 13.53992355,\n",
       "       12.31174508, 12.31174508, 13.09122971, 13.53992355, 12.31174508,\n",
       "       12.31174508, 13.09122971, 13.53992355, 12.31174508, 12.31174508,\n",
       "       13.09122971, 13.53992355, 12.31174508, 12.31174508, 13.09122971,\n",
       "       13.53992355, 12.31174508, 12.31174508, 13.09122971, 13.53992355,\n",
       "       12.31174508, 12.31174508, 13.09122971, 13.53992355, 12.31174508,\n",
       "       12.31174508, 13.09122971, 13.53992355, 12.31174508, 12.31174508,\n",
       "       13.09122971, 13.53992355, 12.31174508, 12.31174508, 13.09122971,\n",
       "       13.53992355, 12.31174508, 12.31174508, 13.09122971, 13.53992355,\n",
       "       12.31174508, 12.31174508, 13.09122971, 13.53992355, 12.31174508,\n",
       "       12.31174508, 13.09122971, 13.53992355, 12.31174508, 12.31174508,\n",
       "       13.09122971, 13.53992355, 12.31174508, 12.31174508, 13.09122971,\n",
       "       13.53992355, 12.05721191, 12.05721191, 12.98450212, 13.28539038,\n",
       "       12.05721191, 12.05721191, 12.98450212, 13.28539038, 12.05721191,\n",
       "       12.05721191, 12.98450212, 13.28539038, 12.05721191, 12.05721191,\n",
       "       12.98450212, 13.28539038, 12.05721191, 12.05721191, 12.98450212,\n",
       "       13.28539038, 12.05721191, 12.05721191, 12.98450212, 13.28539038,\n",
       "       12.05721191, 12.05721191, 12.98450212, 13.28539038, 12.05721191,\n",
       "       12.05721191, 12.98450212, 13.28539038, 12.05721191, 12.05721191,\n",
       "       12.98450212, 13.28539038, 12.05721191, 12.05721191, 12.98450212,\n",
       "       13.28539038, 12.05721191, 12.05721191, 12.98450212, 13.28539038,\n",
       "       12.05721191, 12.05721191, 12.98450212, 13.28539038, 12.05721191,\n",
       "       12.05721191, 12.98450212, 13.28539038, 12.05721191, 12.05721191,\n",
       "       12.98450212, 13.28539038, 12.05721191, 12.05721191, 12.98450212,\n",
       "       13.28539038, 12.05721191, 12.05721191, 12.98450212, 13.28539038,\n",
       "       12.05721191, 12.05721191, 12.98450212, 13.28539038, 12.05721191,\n",
       "       12.05721191, 12.98450212, 13.28539038, 12.05721191, 12.05721191,\n",
       "       12.98450212, 13.28539038, 12.05721191, 12.05721191, 12.98450212,\n",
       "       13.28539038, 12.05721191, 12.05721191, 12.98450212, 13.28539038,\n",
       "       12.05721191, 12.05721191, 12.98450212, 13.28539038, 12.05721191,\n",
       "       12.05721191, 12.98450212, 13.28539038, 12.05721191, 12.05721191,\n",
       "       12.98450212, 13.28539038, 12.02371054, 12.05721191, 12.98450212,\n",
       "       13.28539038, 12.02371054, 12.05721191, 12.98450212, 13.28539038,\n",
       "       12.02371054, 12.05721191, 12.98450212, 13.28539038, 12.02371054,\n",
       "       12.05721191, 12.98450212, 13.28539038, 12.02371054, 12.05721191,\n",
       "       12.98450212, 13.28539038, 12.02371054, 12.05721191, 12.98450212,\n",
       "       13.28539038, 12.02371054, 12.05721191, 12.98450212, 13.28539038,\n",
       "       12.02371054, 12.05721191, 12.98450212, 13.28539038, 12.02371054,\n",
       "       12.05721191, 12.98450212, 13.28539038, 12.02371054, 12.15549244,\n",
       "       12.90265455, 13.18007348, 12.02371054, 12.15549244, 12.90265455,\n",
       "       13.18007348, 12.02371054, 12.15549244, 12.90265455, 13.18007348,\n",
       "       12.02371054, 12.15549244, 12.90265455, 13.18007348, 12.02371054,\n",
       "       12.15549244, 12.90265455, 13.18007348, 12.02371054, 12.15549244,\n",
       "       12.90265455, 13.18007348, 12.02371054, 12.15549244, 12.90265455,\n",
       "       13.18007348, 12.02371054, 12.15549244, 12.90265455, 13.18007348,\n",
       "       12.02371054, 12.15549244, 12.90265455, 13.18007348, 12.15549244,\n",
       "       12.15549244, 12.90265455, 13.18007348, 12.15549244, 12.15549244,\n",
       "       12.90265455, 13.18007348])"
      ]
     },
     "execution_count": 11,
     "metadata": {},
     "output_type": "execute_result"
    }
   ],
   "source": [
    "# hoy = 1666\n",
    "# ipv_irrad.calculate_effective_irradiance_single_step(G_dir_ann[:,hoy],\n",
    "#                                                      G_diff_ann[:,hoy],\n",
    "#                                                      evaluated_normal_vector,\n",
    "#                                                      hoy,\n",
    "#                                                      tmy_location,\n",
    "#                                                      pressure=psl[hoy],\n",
    "#                                                      drybulb=dbt[hoy],\n",
    "#                                                      front_cover_color=front_cover)"
   ]
  },
  {
   "cell_type": "code",
   "execution_count": 12,
   "id": "ce19757e",
   "metadata": {},
   "outputs": [],
   "source": [
    "# restructure the G_eff arrays following the general shape of the template (top right first)\n",
    "ncols = module_parameters['n_cols']\n",
    "nrows = module_parameters['n_rows']\n",
    "\n",
    "hoy_arrs = []\n",
    "for hoy_ in np.arange(0,8760):\n",
    "    G_eff_hoy_arr = np.round(np.fliplr(G_eff_ann[:,hoy_].reshape(-1,nrows)).T,2)\n",
    "    hoy_arrs.append(G_eff_hoy_arr)\n",
    "\n",
    "G_eff_ann = np.array(hoy_arrs)\n"
   ]
  },
  {
   "cell_type": "code",
   "execution_count": 14,
   "id": "75382838",
   "metadata": {},
   "outputs": [],
   "source": [
    "# calculate cell temperature\n",
    "C_temp_ann_arr = ipv_calc.calculate_cell_temperature(G_eff_ann,\n",
    "                                                     po.tmy_dataframe['drybulb_C'].values[:, None, None],\n",
    "                                                     method=\"ross\")"
   ]
  },
  {
   "cell_type": "code",
   "execution_count": 15,
   "id": "2e6f617f",
   "metadata": {},
   "outputs": [],
   "source": [
    "# set into dict\n",
    "module_dict['CELLSTEMP'] = C_temp_ann_arr.copy()\n",
    "module_dict['CELLSIRRADEFF'] = G_eff_ann.copy()#.reshape((nrows, ncols,  len(po.all_hoy))).copy()\n"
   ]
  },
  {
   "cell_type": "code",
   "execution_count": 204,
   "id": "a573132c",
   "metadata": {},
   "outputs": [],
   "source": [
    "# submodule_map, diode_map, subcell_map = utils.read_map_excel(\"/Users/jmccarty/Nextcloud/Teaching/22_HS/polikseni_bano/polikseni_share/PV datasheets/final_selection/maps/monocrystalline_landscape_maps.xlsx\")"
   ]
  },
  {
   "attachments": {},
   "cell_type": "markdown",
   "id": "3a2b1445",
   "metadata": {},
   "source": [
    "# Remap"
   ]
  },
  {
   "cell_type": "code",
   "execution_count": 49,
   "id": "f04c59b2",
   "metadata": {},
   "outputs": [],
   "source": [
    "\n",
    "def get_orientation(module_template_orientation):\n",
    "    if module_template_orientation==\"P\":\n",
    "        return \"portrait\"\n",
    "    elif module_template_orientation==\"L\":\n",
    "        return \"landscape\"\n",
    "    else:\n",
    "        print(\"Not a correct code. Need either P (portrait) or L (landscape)\")\n",
    "        \n",
    "def get_cell_type(module_template_cell):\n",
    "    if module_template_cell==\"A\":\n",
    "        return \"monocrystalline\"\n",
    "    elif module_template_cell==\"B\":\n",
    "        return \"polycrystalline\"\n",
    "    elif module_template_cell==\"C\":\n",
    "        return \"cdte\"\n",
    "    elif module_template_cell==\"D\":\n",
    "        return \"cigs\"\n",
    "    elif module_template_cell==\"E\":\n",
    "        return \"asi\"\n",
    "    \n",
    "\n",
    "\n",
    "# map defintiions\n",
    "def detect_nonstandard_module(module_dict):\n",
    "    if module_dict['DETAILS']['n_cols']==module_dict['DETAILS']['n_cols_ideal']:\n",
    "        if module_dict['DETAILS']['n_rows']==module_dict['DETAILS']['n_rows_idea;']:\n",
    "            return \"standard\"\n",
    "        else:\n",
    "            return \"nonstandard\"\n",
    "    else:\n",
    "        return \"nonstandard\"\n",
    "\n",
    "def remap_module_maps(cell_type,parameters,default_submodule_map,default_diode_map,defaul_subcell_map):\n",
    "    if cell_type=='monocrystalline':\n",
    "        remap_results = remap_monocrystalline(parameters,default_diode_map)\n",
    "    elif cell_type=='polycrystalline':\n",
    "        remap_results = remap_polycrystalline(parameters,default_diode_map)\n",
    "    elif cell_type=='cigs':\n",
    "        remap_results = remap_cigs_no_subcell(parameters)\n",
    "    elif cell_type=='cdte':\n",
    "        remap_results = remap_subcell_cols(parameters,defaul_subcell_map)\n",
    "    elif cell_type=='asi':\n",
    "        remap_results = remap_subcell_cols(parameters,defaul_subcell_map)\n",
    "    return remap_results\n",
    "\n",
    "def remap_monocrystalline(parameters,default_diode_map):\n",
    "    actual_cols = parameters['n_cols']\n",
    "    actual_rows = parameters['n_rows']\n",
    "    \n",
    "    if parameters['orientation']=='portrait':\n",
    "        if (actual_cols > 1) & (actual_rows > 3):\n",
    "            # build new submodule_map\n",
    "            if actual_rows % 2==0:\n",
    "                new_submodule_map = np.zeros((actual_rows,actual_cols))\n",
    "                new_submodule_map[int(actual_rows/2):,] = 1\n",
    "            else:\n",
    "                # temp_submodule = np.zeros((actual_rows,actual_cols)).flatten()\n",
    "                # temp_submodule[int(len(temp_submodule)/2):] = 1\n",
    "                # new_submodule_map = temp_submodule.reshape((actual_rows,actual_cols))\n",
    "                new_submodule_map = np.zeros((actual_rows,actual_cols))\n",
    "            \n",
    "            if actual_cols % 2==0:\n",
    "                new_diode_map = default_diode_map[0:actual_rows,0:actual_cols] \n",
    "            else:\n",
    "                # temp_diode = np.zeros((actual_rows,actual_cols)).flatten()\n",
    "                # temp_diode[int(len(temp_diode)/2):] = 1 \n",
    "                # new_diode_map = temp_diode.reshape((actual_cols,actual_rows)).T\n",
    "                new_diode_map = np.zeros((actual_rows,actual_cols))\n",
    "        else:\n",
    "            new_submodule_map = np.zeros((actual_rows,actual_cols))\n",
    "            new_diode_map = np.zeros((actual_rows,actual_cols))\n",
    "            \n",
    "      \n",
    "    elif parameters['orientation']=='landscape':\n",
    "        if (actual_rows > 3) & (actual_cols > 1):\n",
    "            # build new submodule_map\n",
    "            if actual_cols % 2==0:\n",
    "                new_submodule_map = np.zeros((actual_rows,actual_cols))\n",
    "                new_submodule_map[:,int(actual_cols/2):] = 1\n",
    "            else:\n",
    "                # temp_submodule = np.zeros((actual_rows,actual_cols)).flatten()\n",
    "                # temp_submodule[int(len(temp_submodule)/2):] = 1\n",
    "                # new_submodule_map = temp_submodule.reshape((actual_rows,actual_cols))\n",
    "                new_submodule_map = np.zeros((actual_rows,actual_cols))\n",
    "            if actual_rows % 2==0:\n",
    "                new_diode_map = default_diode_map[0:actual_rows,0:actual_cols]     \n",
    "            else:\n",
    "                # temp_diode = np.zeros((actual_rows,actual_cols)).flatten()\n",
    "                # temp_diode[int(len(temp_diode)/2):] = 1 \n",
    "                # new_diode_map = temp_diode.reshape((actual_cols,actual_rows)).T\n",
    "                new_diode_map = np.zeros((actual_rows,actual_cols))\n",
    "                \n",
    "        else:\n",
    "            new_submodule_map = np.zeros((actual_rows,actual_cols))\n",
    "            new_diode_map = np.zeros((actual_rows,actual_cols))\n",
    "        \n",
    "    \n",
    "    out_submodule_map = new_submodule_map\n",
    "    if out_submodule_map.shape!=(actual_rows,actual_cols):\n",
    "        out_submodule_map = np.zeros((actual_rows,actual_cols))\n",
    "    \n",
    "    out_diode_map = new_diode_map\n",
    "    if out_diode_map.shape!=(actual_rows,actual_cols):\n",
    "        out_diode_map = np.zeros((actual_rows,actual_cols))\n",
    "    out_subcell_map = np.zeros((actual_rows,actual_cols))\n",
    "    \n",
    "    N_p = int(len(np.unique(out_submodule_map)))\n",
    "    N_s = int((actual_cols * actual_rows) / N_p)\n",
    "    N_diodes = int(len(np.unique(out_diode_map)))\n",
    "    N_subcells = 1\n",
    "    \n",
    "    return out_submodule_map, out_diode_map, out_subcell_map, N_s, N_p, N_diodes, N_subcells\n",
    "\n",
    "def remap_polycrystalline(parameters,default_diode_map):\n",
    "    actual_cols = parameters['n_cols']\n",
    "    actual_rows = parameters['n_rows']\n",
    "    \n",
    "    if parameters['orientation']=='portrait':\n",
    "        if (actual_cols > 1) & (actual_rows > 3):\n",
    "            new_submodule_map = np.zeros((actual_rows,actual_cols))\n",
    "            if actual_rows % 2==0:\n",
    "                new_diode_map = default_diode_map[0:actual_rows,0:actual_cols]   \n",
    "            else:\n",
    "                new_diode_map = np.zeros((actual_rows,actual_cols))\n",
    "                \n",
    "        else:\n",
    "            new_submodule_map = np.zeros((actual_rows,actual_cols))\n",
    "            new_diode_map = np.zeros((actual_rows,actual_cols))\n",
    "    elif parameters['orientation']=='landscape':\n",
    "        if (actual_rows > 3) & (actual_cols > 1):\n",
    "            new_submodule_map = np.zeros((actual_rows,actual_cols))\n",
    "            if actual_rows % 2==0:\n",
    "                new_diode_map = default_diode_map[0:actual_rows,0:actual_cols]\n",
    "            else:\n",
    "                new_diode_map = np.zeros((actual_rows,actual_cols))\n",
    "                \n",
    "        else:\n",
    "            new_submodule_map = np.zeros((actual_rows,actual_cols))\n",
    "            new_diode_map = np.zeros((actual_rows,actual_cols))\n",
    "            \n",
    "    out_submodule_map = new_submodule_map\n",
    "    if out_submodule_map.shape!=(actual_rows,actual_cols):\n",
    "        out_submodule_map = np.zeros((actual_rows,actual_cols))\n",
    "    \n",
    "    out_diode_map = new_diode_map\n",
    "    if out_diode_map.shape!=(actual_rows,actual_cols):\n",
    "        out_diode_map = np.zeros((actual_rows,actual_cols))\n",
    "    out_subcell_map = np.zeros((actual_rows,actual_cols))\n",
    "    \n",
    "    N_p = int(len(np.unique(out_submodule_map)))\n",
    "    N_s = int((actual_cols * actual_rows) / N_p)\n",
    "    N_diodes = int(len(np.unique(out_diode_map)))\n",
    "    N_subcells = 1\n",
    "\n",
    "    return out_submodule_map, out_diode_map, out_subcell_map, N_s, N_p, N_diodes, N_subcells\n",
    "\n",
    "\n",
    "def remap_cigs_no_subcell(parameters):\n",
    "    actual_cols = parameters['n_cols']\n",
    "    actual_rows = parameters['n_rows']\n",
    "    \n",
    "    if parameters['orientation']=='portrait':\n",
    "        if (actual_cols > 1) & (actual_rows > 3):\n",
    "            # build new submodule_map\n",
    "            if actual_cols % 2==0:\n",
    "                new_submodule_map = np.zeros((actual_rows,actual_cols))\n",
    "                new_submodule_map[:,int(actual_cols/2):] = 1\n",
    "            else:\n",
    "                # temp_submodule = np.zeros((actual_rows,actual_cols)).flatten()\n",
    "                # temp_submodule[int(len(temp_submodule)/2):] = 1\n",
    "                # new_submodule_map = temp_submodule.reshape((actual_rows,actual_cols))\n",
    "                new_submodule_map = np.zeros((actual_rows,actual_cols))\n",
    "            \n",
    "            if actual_rows % 2==0:\n",
    "                diode_rows = []\n",
    "                n_diodes = int(actual_rows / 2)\n",
    "                for d in np.arange(0,n_diodes):\n",
    "                    row_a = np.ones(actual_cols) * d\n",
    "                    row_b = np.ones(actual_cols) * d\n",
    "                    diode_rows.append(row_a)\n",
    "                    diode_rows.append(row_b)\n",
    "                new_diode_map = np.array(diode_rows)\n",
    "            else:\n",
    "                # temp_diode = np.zeros((actual_rows,actual_cols)).flatten()\n",
    "                # temp_diode[int(len(temp_diode)/2):] = 1 \n",
    "                # new_diode_map = temp_diode.reshape((actual_cols,actual_rows)).T                \n",
    "                new_diode_map = np.zeros((actual_rows,actual_cols))\n",
    "        else:\n",
    "            new_submodule_map = np.zeros((actual_rows,actual_cols))\n",
    "            new_diode_map = np.zeros((actual_rows,actual_cols))\n",
    "            \n",
    "      \n",
    "    elif parameters['orientation']=='landscape':\n",
    "        if (actual_rows > 1) & (actual_cols > 1):\n",
    "            # build new submodule_map\n",
    "            if actual_cols % 2==0:\n",
    "                new_submodule_map = np.zeros((actual_rows,actual_cols))\n",
    "                new_submodule_map[int(actual_rows/2):,:] = 1\n",
    "            else:\n",
    "                # temp_submodule = np.zeros((actual_rows,actual_cols)).flatten()\n",
    "                # temp_submodule[int(len(temp_submodule)/2):] = 1\n",
    "                # new_submodule_map = temp_submodule.reshape((actual_rows,actual_cols))\n",
    "                new_submodule_map = np.zeros((actual_rows,actual_cols))\n",
    "            \n",
    "            if actual_rows % 2==0:\n",
    "                diode_cols = []\n",
    "                n_diodes = int(actual_cols / 2)\n",
    "                for d in np.arange(0,n_diodes):\n",
    "                    col_a = np.ones(actual_rows) * d\n",
    "                    col_b = np.ones(actual_rows) * d\n",
    "                    diode_cols.append(col_a)\n",
    "                    diode_cols.append(col_b)\n",
    "                new_diode_map = np.array(diode_cols).T\n",
    "            else:\n",
    "                # temp_diode = np.zeros((actual_rows,actual_cols)).flatten()\n",
    "                # temp_diode[int(len(temp_diode)/2):] = 1 \n",
    "                # new_diode_map = temp_diode.reshape((actual_cols,actual_rows)).T\n",
    "                new_diode_map = np.zeros((actual_rows,actual_cols))\n",
    "        else:\n",
    "            new_submodule_map = np.zeros((actual_rows,actual_cols))\n",
    "            new_diode_map = np.zeros((actual_rows,actual_cols))\n",
    "        \n",
    "    \n",
    "    out_submodule_map = new_submodule_map\n",
    "    if out_submodule_map.shape!=(actual_rows,actual_cols):\n",
    "        out_submodule_map = np.zeros((actual_rows,actual_cols))\n",
    "    \n",
    "    out_diode_map = new_diode_map\n",
    "    if out_diode_map.shape!=(actual_rows,actual_cols):\n",
    "        out_diode_map = np.zeros((actual_rows,actual_cols))\n",
    "    out_subcell_map = np.zeros((actual_rows,actual_cols))\n",
    "    \n",
    "    N_p = int(len(np.unique(out_submodule_map)))\n",
    "    N_s = int((actual_cols * actual_rows) / N_p)\n",
    "    N_diodes = int(len(np.unique(out_diode_map)))\n",
    "    N_subcells = 1\n",
    "    \n",
    "    return out_submodule_map, out_diode_map, out_subcell_map, N_s, N_p, N_diodes, N_subcells\n",
    "    \n",
    "# TODO need to make a rows version\n",
    "def remap_subcell_cols(parameters, default_subcell_map):\n",
    "    actual_cols = parameters['n_cols']\n",
    "    actual_rows = parameters['n_rows']\n",
    "    \n",
    "    if parameters['orientation']=='portrait':\n",
    "        # build submodule_map        \n",
    "        new_submodule_map = np.zeros((1,actual_cols))\n",
    "        \n",
    "        # build subdiode map\n",
    "        if actual_cols % 2==0:\n",
    "            cols = []\n",
    "            for n in np.arange(0,actual_cols / 2):\n",
    "                [cols.append(n) for x in [0]*2]\n",
    "            new_diode_map = np.array(cols).reshape(-1,actual_cols)\n",
    "        \n",
    "        elif sympy.isprime(actual_cols):\n",
    "            # number is prime, diodes will be uneven\n",
    "            remainder = actual_cols % 2\n",
    "            cols = []\n",
    "            for n in np.arange(0,np.floor(actual_cols / 2)):\n",
    "                if n==np.floor(actual_cols / 2)-1:\n",
    "                    [cols.append(n) for x in [0]*3]\n",
    "                else:\n",
    "                    [cols.append(n) for x in [0]*2]\n",
    "            new_diode_map = np.array(cols).reshape(-1,actual_cols)\n",
    "            \n",
    "        else:\n",
    "            if actual_cols % 3==0:\n",
    "                divisor = 3 \n",
    "                cols = []\n",
    "                for n in np.arange(0,actual_cols / divisor):\n",
    "                    [cols.append(n) for x in [0]*divisor]\n",
    "                new_diode_map = np.array(cols).reshape(-1,actual_cols)\n",
    "            elif actual_cols % 5==0:\n",
    "                divisor = 5 \n",
    "                cols = []\n",
    "                for n in np.arange(0,actual_cols / divisor):\n",
    "                    [cols.append(n) for x in [0]*divisor]\n",
    "                new_diode_map = np.array(cols).reshape(-1,actual_cols)\n",
    "            elif actual_cols % 7==0:\n",
    "                divisor = 7 \n",
    "                cols = []\n",
    "                for n in np.arange(0,actual_cols / divisor):\n",
    "                    [cols.append(n) for x in [0]*divisor]\n",
    "                new_diode_map = np.array(cols).reshape(-1,actual_cols)\n",
    "            else:\n",
    "                # cannot detect diode count        \n",
    "                new_diode_map = np.zeros((1,actual_cols)) \n",
    "                    \n",
    "        out_submodule_map = new_submodule_map\n",
    "        if out_submodule_map.shape!=(1,actual_cols):\n",
    "            out_submodule_map = np.zeros((1,actual_cols))\n",
    "\n",
    "        out_diode_map = new_diode_map\n",
    "        if out_diode_map.shape!=(1,actual_cols):\n",
    "            out_diode_map = np.zeros((1,actual_cols))\n",
    "        \n",
    "    elif parameters['orientation']=='landscape':\n",
    "        # build submodule_map        \n",
    "        new_submodule_map = np.zeros((actual_cols,1))\n",
    "        \n",
    "        # build subdiode map\n",
    "        if actual_rows % 2==0:\n",
    "            rows = []\n",
    "            for n in np.arange(0,actual_rows / 2):\n",
    "                [rows.append(n) for x in [0]*2]\n",
    "            new_diode_map = np.array(rows).reshape(actual_rows,-1)\n",
    "        \n",
    "        elif sympy.isprime(actual_rows):\n",
    "            # number is prime, diodes will be uneven\n",
    "            remainder = actual_rows % 2\n",
    "            rows = []\n",
    "            for n in np.arange(0,np.floor(actual_rows / 2)):\n",
    "                if n==np.floor(actual_rows / 2)-1:\n",
    "                    [rows.append(n) for x in [0]*3]\n",
    "                else:\n",
    "                    [rows.append(n) for x in [0]*2]\n",
    "            new_diode_map = np.array(rows).reshape(actual_rows,-1)\n",
    "        else:\n",
    "            if actual_rows % 3==0:\n",
    "                divisor = 3 \n",
    "                rows = []\n",
    "                for n in np.arange(0,actual_rows / divisor):\n",
    "                    [rows.append(n) for x in [0]*divisor]\n",
    "                new_diode_map = np.array(rows).reshape(actual_rows,-1)\n",
    "            elif actual_rows % 5==0:\n",
    "                divisor = 5 \n",
    "                rows = []\n",
    "                for n in np.arange(0,actual_rows / divisor):\n",
    "                    [rows.append(n) for x in [0]*divisor]\n",
    "                new_diode_map = np.array(rows).reshape(actual_rows,-1)\n",
    "            elif actual_rows % 7==0:\n",
    "                divisor = 7 \n",
    "                rows = []\n",
    "                for n in np.arange(0,actual_rows / divisor):\n",
    "                    [rows.append(n) for x in [0]*divisor]\n",
    "                new_diode_map = np.array(rows).reshape(actual_rows,-1)\n",
    "            else:\n",
    "                # cannot detect diode count        \n",
    "                new_diode_map = np.zeros((actual_rows,1))    \n",
    "        \n",
    "        out_submodule_map = new_submodule_map\n",
    "        if out_submodule_map.shape!=(actual_rows,1):\n",
    "            out_submodule_map = np.zeros((actual_rows,1))\n",
    "\n",
    "        out_diode_map = new_diode_map\n",
    "        if out_diode_map.shape!=(actual_rows,1):\n",
    "            out_diode_map = np.zeros((actual_rows,1))\n",
    "\n",
    "\n",
    "    # build subcell map\n",
    "    new_subcell_map = default_subcell_map[:actual_rows,:actual_cols]  \n",
    "    \n",
    "    out_subcell_map = new_subcell_map\n",
    "    if out_subcell_map.shape!=(actual_rows,actual_cols):\n",
    "        out_subcell_map  = np.array([np.arange(0,actual_cols)]*actual_rows)\n",
    "\n",
    "    N_p = int(len(np.unique(out_submodule_map)))\n",
    "    N_diodes = int(len(np.unique(out_diode_map)))\n",
    "    N_subcells = parameters['N_subcells']\n",
    "    N_s = int((actual_cols * actual_rows) / N_subcells / N_p)\n",
    "\n",
    "    return out_submodule_map, out_diode_map, out_subcell_map, N_s, N_p, N_diodes, N_subcells"
   ]
  },
  {
   "cell_type": "code",
   "execution_count": 50,
   "id": "b6361c93",
   "metadata": {},
   "outputs": [
    {
     "name": "stdout",
     "output_type": "stream",
     "text": [
      "Nonstandard module\n"
     ]
    }
   ],
   "source": [
    "\n",
    "# set new _maps\n",
    "module_template = module_dict['DETAILS']['module_type']\n",
    "cell_type = get_cell_type(module_template[0])\n",
    "orientation = get_orientation(module_template[1])\n",
    "map_file = [fp for fp in po.map_files if f\"{cell_type}_{orientation}\" in fp][0]\n",
    "default_submodule_map, default_diode_map, default_subcell_map = utils.read_map_excel(map_file)\n",
    "    \n",
    "if detect_nonstandard_module(module_dict)=='standard':\n",
    "    print(\"Standard module\")\n",
    "    module_dict['MAPS']['SUBMODULES'] = default_submodule_map\n",
    "    module_dict['MAPS']['DIODES'] = default_diode_map\n",
    "    module_dict['MAPS']['SUBCELLS'] = default_subcell_map\n",
    "else:\n",
    "    print(\"Nonstandard module\")\n",
    "    remap_results = ipv_mm.remap_module_maps(cell_type,\n",
    "                                      module_parameters,\n",
    "                                      default_diode_map,\n",
    "                                      default_subcell_map)\n",
    "    module_dict['MAPS']['SUBMODULES'] = remap_results[0]\n",
    "    module_dict['MAPS']['DIODES'] = remap_results[1]\n",
    "    module_dict['MAPS']['SUBCELLS'] = remap_results[2]\n",
    "    module_parameters['N_s'] = remap_results[3]\n",
    "    module_parameters['N_p'] = remap_results[4]\n",
    "    module_parameters['N_diodes'] = remap_results[4]\n",
    "    module_parameters['N_subcells'] = remap_results[6]\n",
    "    "
   ]
  },
  {
   "cell_type": "code",
   "execution_count": 15,
   "id": "709deb01",
   "metadata": {},
   "outputs": [
    {
     "data": {
      "text/plain": [
       "(264, 1)"
      ]
     },
     "execution_count": 15,
     "metadata": {},
     "output_type": "execute_result"
    }
   ],
   "source": [
    "surface = po.get_surfaces()[0]\n",
    "string = po.get_strings(surface)[0]\n",
    "module = po.get_modules(surface,string)[0]\n",
    "po.get_dict_instance([surface,string,module])['MAPS']['DIODES'].shape"
   ]
  },
  {
   "cell_type": "code",
   "execution_count": 6,
   "id": "358d6d37",
   "metadata": {},
   "outputs": [
    {
     "ename": "TypeError",
     "evalue": "'NoneType' object is not subscriptable",
     "output_type": "error",
     "traceback": [
      "\u001b[0;31m---------------------------------------------------------------------------\u001b[0m",
      "\u001b[0;31mTypeError\u001b[0m                                 Traceback (most recent call last)",
      "Cell \u001b[0;32mIn[6], line 8\u001b[0m\n\u001b[1;32m      5\u001b[0m module_parameters \u001b[39m=\u001b[39m module_dict[\u001b[39m'\u001b[39m\u001b[39mPARAMETERS\u001b[39m\u001b[39m'\u001b[39m]\n\u001b[1;32m      7\u001b[0m hoy \u001b[39m=\u001b[39m \u001b[39m1666\u001b[39m \u001b[39m+\u001b[39m (\u001b[39m24\u001b[39m\u001b[39m*\u001b[39m\u001b[39m140\u001b[39m)\n\u001b[0;32m----> 8\u001b[0m irrad_hoy \u001b[39m=\u001b[39m po\u001b[39m.\u001b[39;49mget_cells_irrad_eff(surface,string,module)[hoy]\n\u001b[1;32m      9\u001b[0m temp_hoy \u001b[39m=\u001b[39m po\u001b[39m.\u001b[39mget_cells_temp(surface,string,module)[hoy]\n\u001b[1;32m     11\u001b[0m \u001b[39mif\u001b[39;00m module_parameters[\u001b[39m'\u001b[39m\u001b[39mN_subcells\u001b[39m\u001b[39m'\u001b[39m]\u001b[39m>\u001b[39m\u001b[39m1\u001b[39m:\n",
      "\u001b[0;31mTypeError\u001b[0m: 'NoneType' object is not subscriptable"
     ]
    }
   ],
   "source": [
    "\n",
    "module_dict = po.get_dict_instance([surface,string,module])\n",
    "module_parameters = module_dict['PARAMETERS']\n",
    "\n",
    "hoy = 1666 + (24*140)\n",
    "irrad_hoy = po.get_cells_irrad_eff(surface,string,module)[hoy]\n",
    "temp_hoy = po.get_cells_temp(surface,string,module)[hoy]\n",
    "\n",
    "if module_parameters['N_subcells']>1:\n",
    "    Imod, Vmod = ipv_calc.calculate_module_curve_single_row(irrad_hoy,\n",
    "                                                            temp_hoy,\n",
    "                                                            module_parameters,\n",
    "                                                            module_dict['MAPS']['SUBMODULES'],\n",
    "                                                            module_dict['MAPS']['DIODES'],\n",
    "                                                            module_dict['MAPS']['SUBCELLS'])\n",
    "else:\n",
    "    Imod, Vmod = ipv_calc.calculate_module_curve_multiple_column(irrad_hoy,\n",
    "                                                                temp_hoy,\n",
    "                                                                module_parameters,\n",
    "                                                                module_dict['MAPS']['SUBMODULES'],\n",
    "                                                                module_dict['MAPS']['DIODES'])\n",
    "Pmod = Imod*Vmod\n",
    "print(np.round(Imod[np.argmax(Pmod)],3),\n",
    "      np.round(Vmod[np.argmax(Pmod)],3),\n",
    "      np.round(np.max(Pmod),1))\n",
    "ipv_plots.plot_curves(Imod,\n",
    "                      Vmod,\n",
    "                      module_parameters,\n",
    "                      y_max=1,\n",
    "                      # labels=[str(t) for t in list(zip(Geff,Tcell))],\n",
    "                      mpp=True,\n",
    "                      x_min=-1,\n",
    "                      labels=round(irrad_hoy.mean(),2),\n",
    "                      title=time_utils.hoy_to_date(hoy))"
   ]
  },
  {
   "attachments": {},
   "cell_type": "markdown",
   "id": "443d6de5",
   "metadata": {},
   "source": [
    "# Simulation Script"
   ]
  },
  {
   "cell_type": "code",
   "execution_count": 374,
   "id": "9867755e",
   "metadata": {},
   "outputs": [
    {
     "data": {
      "text/plain": [
       "['/Users/jmccarty/Desktop/bano_simulations/panelizer/B1391',\n",
       " '/Users/jmccarty/Desktop/bano_simulations/panelizer/B1389',\n",
       " '/Users/jmccarty/Desktop/bano_simulations/panelizer/B1392',\n",
       " '/Users/jmccarty/Desktop/bano_simulations/panelizer/B1360']"
      ]
     },
     "execution_count": 374,
     "metadata": {},
     "output_type": "execute_result"
    }
   ],
   "source": [
    "panelizer_dirs = glob.glob(os.path.join(PROJECT_FOLDER,\"panelizer\",\"*\"))\n",
    "panelizer_dirs"
   ]
  },
  {
   "attachments": {},
   "cell_type": "markdown",
   "id": "204668b1",
   "metadata": {},
   "source": [
    "# Archive"
   ]
  },
  {
   "cell_type": "code",
   "execution_count": 30,
   "id": "a31a0bf1-10f2-4452-931c-dac0f891922b",
   "metadata": {},
   "outputs": [
    {
     "ename": "ValueError",
     "evalue": "cannot reshape array of size 240 into shape (20,4)",
     "output_type": "error",
     "traceback": [
      "\u001b[0;31m---------------------------------------------------------------------------\u001b[0m",
      "\u001b[0;31mValueError\u001b[0m                                Traceback (most recent call last)",
      "Cell \u001b[0;32mIn[30], line 6\u001b[0m\n\u001b[1;32m      2\u001b[0m module_details \u001b[39m=\u001b[39m po\u001b[39m.\u001b[39mget_dict_instance([surface, string, module])[\u001b[39m'\u001b[39m\u001b[39mDETAILS\u001b[39m\u001b[39m'\u001b[39m]\n\u001b[1;32m      3\u001b[0m \u001b[39m# cells = utils.flatten_list(cells)\u001b[39;00m\n\u001b[0;32m----> 6\u001b[0m np\u001b[39m.\u001b[39;49marray(cells)\u001b[39m.\u001b[39;49mreshape(module_details[\u001b[39m'\u001b[39;49m\u001b[39mn_rows\u001b[39;49m\u001b[39m'\u001b[39;49m],\n\u001b[1;32m      7\u001b[0m                         module_details[\u001b[39m'\u001b[39;49m\u001b[39mn_cols\u001b[39;49m\u001b[39m'\u001b[39;49m])\n\u001b[1;32m     10\u001b[0m \u001b[39m# x = []\u001b[39;00m\n\u001b[1;32m     11\u001b[0m \u001b[39m# y = []\u001b[39;00m\n\u001b[1;32m     12\u001b[0m \u001b[39m# z = []\u001b[39;00m\n\u001b[0;32m   (...)\u001b[0m\n\u001b[1;32m     29\u001b[0m \n\u001b[1;32m     30\u001b[0m \u001b[39m# plt.show()\u001b[39;00m\n",
      "\u001b[0;31mValueError\u001b[0m: cannot reshape array of size 240 into shape (20,4)"
     ]
    }
   ],
   "source": [
    "\n",
    "cells = po.get_dict_instance([surface, string, module])['CELLSXYZ']\n",
    "module_details = po.get_dict_instance([surface, string, module])['DETAILS']\n",
    "# cells = utils.flatten_list(cells)\n",
    "\n",
    "\n",
    "# x = []\n",
    "# y = []\n",
    "# z = []\n",
    "# label = []\n",
    "# for n, cell in enumerate(cells):\n",
    "#     x.append(cell[0])\n",
    "#     y.append(cell[1])\n",
    "#     z.append(cell[2])\n",
    "#     label.append(n)\n",
    "\n",
    "\n",
    "# fig = plt.figure(figsize=(12, 12))\n",
    "# ax = fig.add_subplot(projection='3d')\n",
    "\n",
    "\n",
    "# ax.scatter(x, y, z)\n",
    "\n",
    "# for x, y, z, label in zip(x, y, z, label):\n",
    "#     ax.text(x, y, z, label)\n",
    "\n",
    "# plt.show()\n"
   ]
  },
  {
   "attachments": {},
   "cell_type": "markdown",
   "id": "b2116e9a",
   "metadata": {},
   "source": [
    "# TEST MP"
   ]
  },
  {
   "cell_type": "code",
   "execution_count": 4,
   "id": "d5f9decc",
   "metadata": {},
   "outputs": [],
   "source": [
    "timeseries = po.all_hoy\n",
    "tmy_location = utils.tmy_location(po.tmy_file)\n",
    "dbt = po.tmy_dataframe['drybulb_C'].values[timeseries]\n",
    "psl = po.tmy_dataframe['atmos_Pa'].values[timeseries]\n",
    "\n",
    "surface = po.get_surfaces()[0]\n",
    "# load radiance data\n",
    "rad_surface_key = po.get_dict_instance([surface])['DETAILS']['radiance_surface_label']\n",
    "total_ill = ipv_irrad.load_irradiance_file(po.RADIANCE_DIR, rad_surface_key, \"total\").values[timeseries]\n",
    "direct_ill = ipv_irrad.load_irradiance_file(po.RADIANCE_DIR, rad_surface_key, \"direct\").values[timeseries]\n",
    "diffuse_ill = pd.DataFrame(np.where(total_ill < direct_ill, direct_ill * 0.01, total_ill - direct_ill)).values\n",
    "grid_pts = ipv_irrad.load_grid_file(po.RADIANCE_DIR, rad_surface_key)\n",
    "\n",
    "string = po.get_strings(surface)[0]\n",
    "string_dict = po.get_dict_instance([surface, string])\n",
    "string_details = string_dict['DETAILS']\n",
    "base_parameters = utils.get_cec_data(string_details['cec_key'], file_path=po.CEC_DATA)\n",
    "custom_module_data = pd.read_csv(po.MODULE_CELL_DATA, index_col='scenario').loc[\n",
    "        string_details['module_type']].to_dict()\n",
    "\n",
    "module_template = string_details['module_type']\n",
    "cell_type = ipv_mm.get_cell_type(module_template[0])\n",
    "orientation = ipv_mm.get_orientation(module_template[1])\n",
    "map_file = [fp for fp in po.map_files if f\"{cell_type}_{orientation}\" in fp][0]\n",
    "default_submodule_map, default_diode_map, default_subcell_map = utils.read_map_excel(map_file)\n"
   ]
  },
  {
   "cell_type": "code",
   "execution_count": 5,
   "id": "1e70520c",
   "metadata": {},
   "outputs": [
    {
     "name": "stderr",
     "output_type": "stream",
     "text": [
      "/opt/homebrew/Caskroom/miniforge/base/envs/workbench/lib/python3.10/site-packages/numpy/core/fromnumeric.py:43: VisibleDeprecationWarning: Creating an ndarray from ragged nested sequences (which is a list-or-tuple of lists-or-tuples-or ndarrays with different lengths or shapes) is deprecated. If you meant to do this, you must specify 'dtype=object' when creating the ndarray.\n",
      "  result = getattr(asarray(obj), method)(*args, **kwds)\n"
     ]
    }
   ],
   "source": [
    "surface = \"{1391;0;10}\"\n",
    "string = \"{1391;0;10;9}\"\n",
    "\n",
    "ncpu = po.ncpu\n",
    "modules = po.get_modules(surface, string)\n",
    "module_dict_list = [po.get_dict_instance([surface, string, module_name]) for module_name in modules]\n",
    "\n",
    "\n",
    "pv_cells_xyz_arr_list = [np.array(po.get_cells_xyz(surface, string, module_name)) for module_name in modules]\n",
    "\n",
    "module_dict_chunks = np.array_split(module_dict_list, ncpu)\n",
    "module_name_chunks = np.array_split(modules, ncpu)\n",
    "pv_cells_xyz_arr_chunks = np.array_split(pv_cells_xyz_arr_list, ncpu)\n"
   ]
  },
  {
   "cell_type": "code",
   "execution_count": 21,
   "id": "4f3804e4",
   "metadata": {},
   "outputs": [
    {
     "data": {
      "text/plain": [
       "(200, 1143)"
      ]
     },
     "execution_count": 21,
     "metadata": {},
     "output_type": "execute_result"
    }
   ],
   "source": [
    "np.array_split(diffuse_ill, ncpu)[0].shape"
   ]
  },
  {
   "cell_type": "code",
   "execution_count": 16,
   "id": "f4b6b32b",
   "metadata": {},
   "outputs": [],
   "source": [
    "pv_cells_xyz_arr_chunks = []\n",
    "for module_name_chunk in module_name_chunks:\n",
    "    pv_cells_xyz_arr_chunks.append([np.array(po.get_cells_xyz(surface, string, module_name)) for module_name in module_name_chunk])"
   ]
  },
  {
   "cell_type": "code",
   "execution_count": 13,
   "id": "43c0203e",
   "metadata": {},
   "outputs": [
    {
     "data": {
      "text/plain": [
       "[3, 3, 3, 3, 3, 2]"
      ]
     },
     "execution_count": 13,
     "metadata": {},
     "output_type": "execute_result"
    }
   ],
   "source": [
    "ipv_irrad.collect_raw_irradiance(pv_cells_xyz_arr_chunks[0], sensor_pts_xyz_arr, sensor_pts_irradiance_arr)"
   ]
  },
  {
   "cell_type": "code",
   "execution_count": 17,
   "id": "f79de2f1",
   "metadata": {},
   "outputs": [
    {
     "data": {
      "text/plain": [
       "[array([[54.808105, 49.294961,  9.6792  ],\n",
       "        [54.808105, 49.294961,  9.8676  ],\n",
       "        [54.808105, 49.294961, 10.056   ],\n",
       "        ...,\n",
       "        [55.471367, 50.275142, 10.998   ],\n",
       "        [55.471367, 50.275142, 11.1864  ],\n",
       "        [55.471367, 50.275142, 11.3748  ]]),\n",
       " array([[53.428174, 47.255669,  0.1092  ],\n",
       "        [53.428174, 47.255669,  0.2976  ],\n",
       "        [53.428174, 47.255669,  0.486   ],\n",
       "        ...,\n",
       "        [53.962818, 48.045777,  0.2976  ],\n",
       "        [53.962818, 48.045777,  0.486   ],\n",
       "        [53.962818, 48.045777,  0.6744  ]]),\n",
       " array([[52.941591, 46.536586,  0.1092  ],\n",
       "        [52.941591, 46.536586,  0.2976  ],\n",
       "        [52.941591, 46.536586,  0.486   ],\n",
       "        ...,\n",
       "        [53.413187, 47.233521,  0.2976  ],\n",
       "        [53.413187, 47.233521,  0.486   ],\n",
       "        [53.413187, 47.233521,  0.6744  ]])]"
      ]
     },
     "execution_count": 17,
     "metadata": {},
     "output_type": "execute_result"
    }
   ],
   "source": [
    "pv_cells_xyz_arr_chunks[0]"
   ]
  },
  {
   "cell_type": "code",
   "execution_count": 75,
   "id": "7741a388",
   "metadata": {},
   "outputs": [],
   "source": [
    "from scipy.spatial.distance import cdist\n",
    "\n",
    "sensor_pts_xyz_arr = grid_pts[['X', 'Y', 'Z']].values\n",
    "pv_cells_xyz_arr = np.array(po.get_cells_xyz('{1391;0;10}', '{1391;0;10;6}', '{1391;0;10;6;0}'))\n",
    "\n",
    "cdist_arr = cdist(pv_cells_xyz_arr, sensor_pts_xyz_arr)\n",
    "\n",
    "first = cdist_arr.argsort()[:,0]\n",
    "second = cdist_arr.argsort()[:,1]\n",
    "third = cdist_arr.argsort()[:,2]\n",
    "# print(cdist_arr[:,0].shape)\n",
    "# irrad_cell_mean = (diffuse_ill_chunks[0].values.T[first] + diffuse_ill_chunks[0].values.T[second] + diffuse_ill_chunks[0].values.T[third]) / 3\n"
   ]
  },
  {
   "cell_type": "code",
   "execution_count": 99,
   "id": "25bfc416",
   "metadata": {},
   "outputs": [
    {
     "name": "stdout",
     "output_type": "stream",
     "text": [
      "(792, 3)\n",
      "(1143, 3)\n",
      "(1200, 1143)\n",
      "(792,)\n"
     ]
    }
   ],
   "source": [
    "print(pv_cells_xyz_arr.shape)\n",
    "print(sensor_pts_xyz_arr.shape)\n",
    "print(diffuse_ill.shape)\n",
    "print(cdist_arr[:, 0].shape)"
   ]
  },
  {
   "cell_type": "code",
   "execution_count": 116,
   "id": "a6e4fd22",
   "metadata": {},
   "outputs": [
    {
     "data": {
      "text/plain": [
       "(792, 200)"
      ]
     },
     "execution_count": 116,
     "metadata": {},
     "output_type": "execute_result"
    }
   ],
   "source": [
    "mean_arr = (diffuse_ill_chunks[0].T[cdist_arr.argsort()[:,0]] + diffuse_ill_chunks[0].T[cdist_arr.argsort()[:,1]] + diffuse_ill_chunks[0].T[cdist_arr.argsort()[:,2]]) / 3\n",
    "mean_arr.shape"
   ]
  },
  {
   "cell_type": "code",
   "execution_count": 119,
   "id": "80ae04dc",
   "metadata": {},
   "outputs": [
    {
     "data": {
      "text/plain": [
       "(792, 200)"
      ]
     },
     "execution_count": 119,
     "metadata": {},
     "output_type": "execute_result"
    }
   ],
   "source": [
    "np.mean([diffuse_ill_chunks[0].T[cdist_arr.argsort()[:,0]], diffuse_ill_chunks[0].T[cdist_arr.argsort()[:,1]], diffuse_ill_chunks[0].T[cdist_arr.argsort()[:,2]]],axis=0).shape"
   ]
  },
  {
   "cell_type": "code",
   "execution_count": 85,
   "id": "5bc0436c",
   "metadata": {},
   "outputs": [
    {
     "data": {
      "text/plain": [
       "(1143, 3)"
      ]
     },
     "execution_count": 85,
     "metadata": {},
     "output_type": "execute_result"
    }
   ],
   "source": [
    "sensor_pts_xyz_arr.shape"
   ]
  },
  {
   "cell_type": "code",
   "execution_count": 88,
   "id": "68a71bbd",
   "metadata": {},
   "outputs": [
    {
     "data": {
      "text/plain": [
       "array([849, 816, 848, ...,  65,  31,  32])"
      ]
     },
     "execution_count": 88,
     "metadata": {},
     "output_type": "execute_result"
    }
   ],
   "source": [
    "cdist_arr.argsort()[0]"
   ]
  },
  {
   "cell_type": "code",
   "execution_count": 22,
   "id": "081c4a70",
   "metadata": {},
   "outputs": [
    {
     "name": "stdout",
     "output_type": "stream",
     "text": [
      "list a: [1, 2, 11]\n",
      "list b: [1, 2, 11]\n"
     ]
    }
   ],
   "source": [
    "a = [1, 2, 3]\n",
    "b = a\n",
    "b[2] = 11\n",
    "\n",
    "print(\"list a:\", a)\n",
    "print(\"list b:\", b)"
   ]
  },
  {
   "cell_type": "code",
   "execution_count": 6,
   "id": "c827bec6",
   "metadata": {},
   "outputs": [
    {
     "name": "stdout",
     "output_type": "stream",
     "text": [
      "    -----------\n",
      "Standard module\n",
      "Standard module\n"
     ]
    },
    {
     "name": "stderr",
     "output_type": "stream",
     "text": [
      "  0%|          | 0/200 [00:00<?, ?it/s]"
     ]
    },
    {
     "name": "stdout",
     "output_type": "stream",
     "text": [
      "Standard module\n"
     ]
    },
    {
     "name": "stderr",
     "output_type": "stream",
     "text": [
      "  0%|          | 0/200 [00:00<?, ?it/s]"
     ]
    },
    {
     "name": "stdout",
     "output_type": "stream",
     "text": [
      "Standard module\n",
      "Standard module"
     ]
    },
    {
     "name": "stderr",
     "output_type": "stream",
     "text": [
      "  0%|          | 0/200 [00:00<?, ?it/s]"
     ]
    },
    {
     "name": "stdout",
     "output_type": "stream",
     "text": [
      "\n"
     ]
    },
    {
     "name": "stderr",
     "output_type": "stream",
     "text": [
      "  0%|          | 0/200 [00:00<?, ?it/s]"
     ]
    },
    {
     "name": "stdout",
     "output_type": "stream",
     "text": [
      "Standard module\n"
     ]
    },
    {
     "name": "stderr",
     "output_type": "stream",
     "text": [
      "100%|██████████| 200/200 [00:24<00:00,  8.25it/s]\n",
      "100%|██████████| 200/200 [00:24<00:00,  8.16it/s]\n",
      "100%|██████████| 200/200 [00:24<00:00,  8.03it/s]\n",
      "100%|██████████| 200/200 [00:25<00:00,  7.93it/s]\n",
      "100%|██████████| 200/200 [00:25<00:00,  7.74it/s]\n",
      "100%|██████████| 200/200 [00:26<00:00,  7.66it/s]\n"
     ]
    },
    {
     "name": "stdout",
     "output_type": "stream",
     "text": [
      "Time elapsed for string {1391;0;10;2}: 27.34s\n"
     ]
    },
    {
     "name": "stderr",
     "output_type": "stream",
     "text": [
      "/opt/homebrew/Caskroom/miniforge/base/envs/workbench/lib/python3.10/multiprocessing/resource_tracker.py:224: UserWarning: resource_tracker: There appear to be 1 leaked semaphore objects to clean up at shutdown\n",
      "  warnings.warn('resource_tracker: There appear to be %d '\n",
      "/opt/homebrew/Caskroom/miniforge/base/envs/workbench/lib/python3.10/multiprocessing/resource_tracker.py:224: UserWarning: resource_tracker: There appear to be 1 leaked semaphore objects to clean up at shutdown\n",
      "  warnings.warn('resource_tracker: There appear to be %d '\n",
      "/opt/homebrew/Caskroom/miniforge/base/envs/workbench/lib/python3.10/multiprocessing/resource_tracker.py:224: UserWarning: resource_tracker: There appear to be 1 leaked semaphore objects to clean up at shutdown\n",
      "  warnings.warn('resource_tracker: There appear to be %d '\n",
      "/opt/homebrew/Caskroom/miniforge/base/envs/workbench/lib/python3.10/multiprocessing/resource_tracker.py:224: UserWarning: resource_tracker: There appear to be 1 leaked semaphore objects to clean up at shutdown\n",
      "  warnings.warn('resource_tracker: There appear to be %d '\n",
      "/opt/homebrew/Caskroom/miniforge/base/envs/workbench/lib/python3.10/multiprocessing/resource_tracker.py:224: UserWarning: resource_tracker: There appear to be 1 leaked semaphore objects to clean up at shutdown\n",
      "  warnings.warn('resource_tracker: There appear to be %d '\n",
      "/opt/homebrew/Caskroom/miniforge/base/envs/workbench/lib/python3.10/multiprocessing/resource_tracker.py:224: UserWarning: resource_tracker: There appear to be 1 leaked semaphore objects to clean up at shutdown\n",
      "  warnings.warn('resource_tracker: There appear to be %d '\n"
     ]
    }
   ],
   "source": [
    "# for module_name in modules:\n",
    "module_name = po.get_modules(surface,string)[0]\n",
    "module_dict = po.get_dict_instance([surface, string, module_name])\n",
    "pv_cells_xyz_arr = np.array(po.get_cells_xyz(surface, string, module_name))\n",
    "\n",
    "mp_results = single_module_mp.main(po,\n",
    "                                    string,\n",
    "                                    module_dict,\n",
    "                                    pv_cells_xyz_arr,\n",
    "                                    tmy_location, dbt, psl,\n",
    "                                    grid_pts,\n",
    "                                    direct_ill, diffuse_ill,\n",
    "                                    base_parameters,\n",
    "                                    custom_module_data,\n",
    "                                    default_submodule_map,\n",
    "                                    default_diode_map,\n",
    "                                    default_subcell_map,\n",
    "                                    cell_type)\n",
    "\n",
    "# test the MP wrapper\n",
    "# po.simulation_suite = True\n",
    "# mp_res = single_module_mp.main(po, surface, string, tmy_location, dbt, psl,\n",
    "#                       grid_pts, direct_ill, diffuse_ill)"
   ]
  },
  {
   "cell_type": "code",
   "execution_count": 14,
   "id": "0f91a274",
   "metadata": {},
   "outputs": [],
   "source": [
    "module_i_dict, module_v_dict, module_g_dict = mp_results\n",
    "module_dict['CURVES'][\"initial_simulation\"][\n",
    "    'Imod'] = module_i_dict\n",
    "module_dict['CURVES'][\"initial_simulation\"][\n",
    "    'Vmod'] = module_v_dict\n",
    "module_dict['YIELD'][\"initial_simulation\"][\n",
    "    'irrad'] = module_g_dict"
   ]
  },
  {
   "cell_type": "code",
   "execution_count": 29,
   "id": "1d9f2df5",
   "metadata": {},
   "outputs": [
    {
     "data": {
      "text/plain": [
       "dict_keys(['central_inverter', 'initial_simulation', 'string_inverter', 'micro_inverter'])"
      ]
     },
     "execution_count": 29,
     "metadata": {},
     "output_type": "execute_result"
    }
   ],
   "source": [
    "po.get_dict_instance([surface,string,module_name])['YIELD'].keys()"
   ]
  },
  {
   "cell_type": "code",
   "execution_count": 26,
   "id": "c1bf4975",
   "metadata": {},
   "outputs": [
    {
     "data": {
      "image/png": "[encoded data removed]",
      "text/plain": [
       "Figure(nrows=1, ncols=2, figwidth=5.0, figheight=3.0)"
      ]
     },
     "metadata": {
      "image/png": {
       "height": 300,
       "width": 500
      }
     },
     "output_type": "display_data"
    }
   ],
   "source": [
    "hoy = 2000\n",
    "\n",
    "Gmod = po.get_dict_instance([surface,string,module_name])['YIELD']['initial_simulation']['irrad'][2000]\n",
    "Imod = po.get_dict_instance([surface,string,module_name])['CURVES']['initial_simulation']['Imod'][hoy]\n",
    "Vmod = po.get_dict_instance([surface,string,module_name])['CURVES']['initial_simulation']['Vmod'][hoy]\n",
    "\n",
    "ipv_plots.plot_curves(Imod,\n",
    "                      Vmod,\n",
    "                      base_parameters,\n",
    "                      y_max=1,\n",
    "                      # labels=[str(t) for t in list(zip(Geff,Tcell))],\n",
    "                      mpp=True,\n",
    "                      x_min=-1,\n",
    "                      labels=f\"{Gmod / 1000} kWh\",\n",
    "                      title=time_utils.hoy_to_date(hoy))"
   ]
  },
  {
   "cell_type": "code",
   "execution_count": 15,
   "id": "9ff6aaf3",
   "metadata": {},
   "outputs": [
    {
     "data": {
      "text/plain": [
       "1200"
      ]
     },
     "execution_count": 15,
     "metadata": {},
     "output_type": "execute_result"
    }
   ],
   "source": []
  }
 ],
 "metadata": {
  "kernelspec": {
   "display_name": "workbench",
   "language": "python",
   "name": "python3"
  },
  "language_info": {
   "codemirror_mode": {
    "name": "ipython",
    "version": 3
   },
   "file_extension": ".py",
   "mimetype": "text/x-python",
   "name": "python",
   "nbconvert_exporter": "python",
   "pygments_lexer": "ipython3",
   "version": "3.10.8"
  },
  "vscode": {
   "interpreter": {
    "hash": "0c4ac59e349d62c65843c6e7b303fbe6191f8771b8af55365501989d28e04afb"
   }
  }
 },
 "nbformat": 4,
 "nbformat_minor": 5
}
