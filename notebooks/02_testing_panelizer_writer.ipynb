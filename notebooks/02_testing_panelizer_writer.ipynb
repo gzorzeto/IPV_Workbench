{
 "cells": [
  {
   "cell_type": "code",
   "execution_count": 1,
   "id": "1f6db4f3-e321-49ec-b50d-100fcd49c3f8",
   "metadata": {},
   "outputs": [],
   "source": [
    "%load_ext autoreload\n",
    "%autoreload 2\n",
    "%load_ext line_profiler"
   ]
  },
  {
   "cell_type": "code",
   "execution_count": 47,
   "id": "46d5972a-490c-4a8b-a810-61e735f9732a",
   "metadata": {},
   "outputs": [],
   "source": [
    "import os\n",
    "import glob\n",
    "import sys\n",
    "import pandas as pd\n",
    "module_path = \"/Users/jmccarty/Data/221205_ipv_workbench/github/IPV_Workbench\"\n",
    "sys.path.insert(0, module_path)\n",
    "from ipv_workbench.translators import panelizer\n",
    "from ipv_workbench.utilities import utils\n",
    "from ipv_workbench.translators import mapping_irradiance as ipv_irrad\n",
    "from ipv_workbench.sample import dummies\n",
    "from ipv_workbench.simulator import calculations as ipv_calc\n",
    "from ipv_workbench.utilities import time_utils\n",
    "import pickle\n",
    "from pprint import pprint\n",
    "import numpy as np\n",
    "import pvlib\n",
    "import matplotlib.pyplot as plt\n",
    "import random\n",
    "from ipv_workbench.visualize import plots as ipv_plots"
   ]
  },
  {
   "attachments": {},
   "cell_type": "markdown",
   "id": "8fb91ec6",
   "metadata": {},
   "source": [
    "# Intial Setup of object"
   ]
  },
  {
   "cell_type": "code",
   "execution_count": 3,
   "id": "0946efdd-9268-40b4-b73b-6eecd06a00df",
   "metadata": {},
   "outputs": [],
   "source": [
    "PROJECT_FOLDER = \"/Users/jmccarty/Desktop/bano_simulations\"\n",
    "BUILDING =\"B1391\"\n",
    "pickle_in = os.path.join(PROJECT_FOLDER,\"panelizer\",BUILDING,\"panelizer_pbano_B1391.pickle\")\n",
    "\n",
    "po = panelizer.PanelizedObject(pickle_in, PROJECT_FOLDER)\n",
    "po.set_analysis_period(0,8760,1)\n",
    "\n"
   ]
  },
  {
   "cell_type": "code",
   "execution_count": 29,
   "id": "827906ff",
   "metadata": {},
   "outputs": [],
   "source": [
    "# for surface in po.get_surfaces():\n",
    "#     for string in po.get_strings(surface):\n",
    "#         for module in po.get_modules(surface, string):\n",
    "surface = po.get_surfaces()[0]\n",
    "string = po.get_strings(surface)[0]\n",
    "module = po.get_modules(surface,string)[0]\n"
   ]
  },
  {
   "cell_type": "code",
   "execution_count": 30,
   "id": "e4ff8112",
   "metadata": {},
   "outputs": [],
   "source": [
    "# build parameters for module\n",
    "module_details = po.get_dict_instance([surface,string,module])['DETAILS']\n",
    "\n",
    "parameters = utils.get_cec_data(module_details['cec_key'],file_path=po.CEC_DATA)\n",
    "custom_module_data = pd.read_csv(po.MODULE_CELL_DATA,index_col='scenario').loc[module_details['module_type']].to_dict()\n",
    "\n",
    "for k,v in custom_module_data.items():\n",
    "    parameters[k] = v\n",
    "    \n",
    "parameters['N_subcells'] = int(max(parameters['Nsubcell_col'],parameters['Nsubcell_row']))\n",
    "for k,v in parameters.items():\n",
    "    if type(v) is str:\n",
    "        try:\n",
    "            parameters[k] = float(v)\n",
    "        except ValueError:\n",
    "            pass"
   ]
  },
  {
   "attachments": {},
   "cell_type": "markdown",
   "id": "47c60490",
   "metadata": {},
   "source": [
    "# Sample Irradiance"
   ]
  },
  {
   "cell_type": "code",
   "execution_count": 31,
   "id": "8063efd0",
   "metadata": {},
   "outputs": [],
   "source": [
    "def load_irradiance_file(bldg_radiance_dir,rad_surface_key,component):\n",
    "    radiance_results_dir = os.path.join(bldg_radiance_dir, f\"surface_{rad_surface_key}\", \"results\")\n",
    "    component_results_dir = os.path.join(\"annual_irradiance\",\"results\",f\"{component}\")\n",
    "    sun_up_path = os.path.join(radiance_results_dir,component_results_dir,\"sun-up-hours.txt\")\n",
    "    ill_path = glob.glob(os.path.join(radiance_results_dir,component_results_dir,\"*.ill\"))[0]\n",
    "    return utils.build_full_ill(sun_up_path,ill_path)\n",
    "   \n",
    "def load_grid_file(bldg_radiance_dir,rad_surface_key):\n",
    "    radiance_results_dir = os.path.join(bldg_radiance_dir, f\"surface_{rad_surface_key}\", \"results\")\n",
    "    pts_path = glob.glob(os.path.join(radiance_results_dir,\"annual_irradiance\",\"model\",\"grid\",\"*.pts\"))[0]\n",
    "    return pd.read_csv(pts_path ,delimiter=\" \",header=None, names=[\"X\",\"Y\",\"Z\",\"X_v\",\"Y_v\",\"Z_v\"])"
   ]
  },
  {
   "cell_type": "code",
   "execution_count": 32,
   "id": "5203b258",
   "metadata": {},
   "outputs": [],
   "source": [
    "surface = po.get_surfaces()[2]\n",
    "string = po.get_strings(surface)[1]\n",
    "module = po.get_modules(surface,string)[2]"
   ]
  },
  {
   "cell_type": "code",
   "execution_count": 33,
   "id": "af181744",
   "metadata": {},
   "outputs": [],
   "source": [
    "rad_surface_key = po.get_dict_instance([surface])['DETAILS']['radiance_surface_label']\n",
    "\n",
    "total_ill = load_irradiance_file(po.RADIANCE_DIR, rad_surface_key, \"total\")\n",
    "direct_ill = load_irradiance_file(po.RADIANCE_DIR, rad_surface_key, \"direct\")\n",
    "diffuse_ill = pd.DataFrame(np.where(total_ill < direct_ill, direct_ill*0.01, total_ill - direct_ill))\n",
    "grid_pts = load_grid_file(po.RADIANCE_DIR, rad_surface_key)\n"
   ]
  },
  {
   "cell_type": "code",
   "execution_count": 89,
   "id": "8e504fb8",
   "metadata": {},
   "outputs": [],
   "source": [
    "# get hoy irrad and transofmr to effective irrad\n",
    "\n",
    "# G_diff_hoy = ipv_irrad.collect_raw_irradiance(pv_cells_xyz_arr, sensor_pts_xyz_arr,\n",
    "#                                               diffuse_ill.loc[hoy].values)\n",
    "# G_dir_hoy = ipv_irrad.collect_raw_irradiance(pv_cells_xyz_arr, sensor_pts_xyz_arr, \n",
    "#                                              direct_ill.loc[hoy].values)"
   ]
  },
  {
   "cell_type": "code",
   "execution_count": 34,
   "id": "58df6e68",
   "metadata": {},
   "outputs": [],
   "source": [
    "\n",
    "pv_cells_xyz_arr = np.array(po.get_cells_xyz(surface,string,module))\n",
    "sensor_pts_xyz_arr = grid_pts[['X','Y','Z']].values\n",
    "\n",
    "G_dir_ann = ipv_irrad.collect_raw_irradiance(pv_cells_xyz_arr,\n",
    "                                 sensor_pts_xyz_arr, \n",
    "                                 direct_ill.T.values)\n",
    "G_diff_ann = ipv_irrad.collect_raw_irradiance(pv_cells_xyz_arr,\n",
    "                                 sensor_pts_xyz_arr, \n",
    "                                 diffuse_ill.T.values)"
   ]
  },
  {
   "cell_type": "code",
   "execution_count": 35,
   "id": "240b6110",
   "metadata": {},
   "outputs": [],
   "source": [
    "# calculate effective irradiance\n",
    "sensor_vector_xyz_arr = grid_pts[['X_v', 'Y_v', 'Z_v']].values\n",
    "\n",
    "evaluated_normal_vector = tuple(po.get_dict_instance(\n",
    "    [surface, string, module])['CELLSNORMALS'][0])\n",
    "front_cover = po.get_dict_instance([surface, string, module])[\n",
    "    'LAYERS']['front_film']\n",
    "\n",
    "# G_eff_hoy = ipv_irrad.calculate_effective_irradiance(G_dir_hoy,\n",
    "#                                                      G_diff_hoy,\n",
    "#                                                      evaluated_normal_vector,\n",
    "#                                                      hoy,\n",
    "#                                                      po.tmy_file,\n",
    "#                                                      front_cover_color=front_cover)\n"
   ]
  },
  {
   "cell_type": "code",
   "execution_count": 108,
   "id": "7760252f",
   "metadata": {},
   "outputs": [],
   "source": [
    "tmy_location = utils.tmy_location(po.tmy_file)\n",
    "dbt = po.tmy_dataframe['drybulb_C'].values\n",
    "psl = po.tmy_dataframe['atmos_Pa'].values\n",
    "\n",
    "# calcualte the effectivate irradiance for the year\n",
    "G_eff_ann = ipv_irrad.calculate_effective_irradiance_timeseries(G_dir_ann,\n",
    "                                                    G_diff_ann,\n",
    "                                                    evaluated_normal_vector,\n",
    "                                                    po.all_hoy,\n",
    "                                                    tmy_location,\n",
    "                                                    psl,\n",
    "                                                    dbt,\n",
    "                                                    front_cover)"
   ]
  },
  {
   "cell_type": "code",
   "execution_count": 109,
   "id": "ce19757e",
   "metadata": {},
   "outputs": [],
   "source": [
    "\n",
    "\n",
    "# restrucutre the arrays following the general shape of the template (top right first)\n",
    "ncols = po.get_dict_instance([surface,string,module])['DETAILS']['n_cols']\n",
    "nrows = po.get_dict_instance([surface,string,module])['DETAILS']['n_rows']\n",
    "hoy_arrs = []\n",
    "for hoy in np.arange(0,8760):\n",
    "    G_eff_hoy_arr = np.round(np.fliplr(G_eff_ann[:,hoy].reshape(-1,nrows)).T,2)\n",
    "    hoy_arrs.append(G_eff_hoy_arr)\n",
    "\n",
    "G_eff_ann = np.array(hoy_arrs)\n",
    "\n",
    "# calculate cell temperature\n",
    "C_temp_ann_arr = ipv_calc.calculate_cell_temperature(G_eff_ann,\n",
    "                                                     po.tmy_dataframe['drybulb_C'].values,\n",
    "                                                     ).reshape((nrows, ncols,  len(po.all_hoy)))\n",
    "po.get_dict_instance([surface,string,module])['CELLSTEMP'] = C_temp_ann_arr.copy()\n",
    "\n",
    "# rebuild array\n",
    "po.get_dict_instance([surface,string,module])['CELLSIRRADEFF'] = G_eff_ann.reshape((nrows, ncols,  len(po.all_hoy))).copy()\n"
   ]
  },
  {
   "cell_type": "code",
   "execution_count": 229,
   "id": "ae3fbd27",
   "metadata": {},
   "outputs": [],
   "source": [
    "# generate module masks\n",
    "\n",
    "# \n",
    "module_template = po.get_dict_instance([surface,string,module])['DETAILS']['module_type']\n",
    "\n",
    "def get_orientation(module_template_orientation):\n",
    "    if module_template_orientation==\"P\":\n",
    "        return \"portrait\"\n",
    "    elif module_template_orientation==\"L\":\n",
    "        return \"landscape\"\n",
    "    else:\n",
    "        print(\"Not a correct code. Need either P (portrait) or L (landscape)\")\n",
    "        \n",
    "def get_cell_type(module_template_cell):\n",
    "    if module_template_cell==\"A\":\n",
    "        return \"monocrystalline\"\n",
    "    elif module_template_cell==\"B\":\n",
    "        return \"polycrystalline\"\n",
    "    elif module_template_cell==\"C\":\n",
    "        return \"cdte\"\n",
    "    elif module_template_cell==\"D\":\n",
    "        return \"cigs\"\n",
    "    elif module_template_cell==\"E\":\n",
    "        return \"asi\"\n",
    "    \n",
    "cell_type = get_cell_type(module_template[0])\n",
    "orientation = get_orientation(module_template[1])\n",
    "\n",
    "map_file = [fp for fp in po.map_files if f\"{cell_type}_{orientation}\" in fp][0]\n",
    "submodule_map, diode_map, subcell_map = utils.read_map_excel(map_file)\n",
    "\n",
    "po.get_dict_instance([surface,string,module])['MAPS']['SUBMODULES'] = submodule_map\n",
    "po.get_dict_instance([surface,string,module])['MAPS']['DIODES'] = diode_map\n",
    "po.get_dict_instance([surface,string,module])['MAPS']['SUBCELLS'] = subcell_map"
   ]
  },
  {
   "cell_type": "code",
   "execution_count": 204,
   "id": "a573132c",
   "metadata": {},
   "outputs": [],
   "source": [
    "submodule_map, diode_map, subcell_map = utils.read_map_excel(\"/Users/jmccarty/Nextcloud/Teaching/22_HS/polikseni_bano/polikseni_share/PV datasheets/final_selection/maps/monocrystalline_landscape_maps.xlsx\")"
   ]
  },
  {
   "cell_type": "code",
   "execution_count": 253,
   "id": "5833cff6",
   "metadata": {},
   "outputs": [],
   "source": [
    "# build new maps\n",
    "hoy = 0\n",
    "\n",
    "# irrad_hoy = po.get_dict_instance([surface,string,module])['CELLSIRRADEFF'][:,:,hoy]\n",
    "# temp_hoy = po.get_dict_instance([surface,string,module])['CELLSTEMP'][:,:,hoy]\n",
    "\n",
    "\n",
    "\n",
    "def remap_monocrystalline(parameters, diode_map):\n",
    "    actual_cols = parameters['n_cols']\n",
    "    actual_rows = parameters['n_rows']\n",
    "    \n",
    "    if parameters['orientation']=='portrait':\n",
    "        if (actual_cols > 3) & (actual_rows > 5):\n",
    "            # build new submodule_map\n",
    "            if actual_rows % 2:\n",
    "                # temp_submodule = np.zeros((actual_rows,actual_cols)).flatten()\n",
    "                # temp_submodule[int(len(temp_submodule)/2):] = 1\n",
    "                # new_submodule_map = temp_submodule.reshape((actual_rows,actual_cols))\n",
    "                new_submodule_map = np.zeros((actual_rows,actual_cols))\n",
    "            else:\n",
    "                new_submodule_map = np.zeros((actual_rows,actual_cols))\n",
    "                new_submodule_map[int(actual_rows/2):,] = 1\n",
    "            \n",
    "            if actual_cols % 2:\n",
    "                # temp_diode = np.zeros((actual_rows,actual_cols)).flatten()\n",
    "                # temp_diode[int(len(temp_diode)/2):] = 1 \n",
    "                # new_diode_map = temp_diode.reshape((actual_cols,actual_rows)).T\n",
    "                new_diode_map = np.zeros((actual_rows,actual_cols))\n",
    "            else:\n",
    "                new_diode_map = diode_map[0:actual_rows,0:actual_cols] \n",
    "        else:\n",
    "            new_submodule_map = np.zeros((actual_rows,actual_cols))\n",
    "            new_diode_map = np.zeros((actual_rows,actual_cols))\n",
    "            \n",
    "      \n",
    "    elif parameters['orientation']=='landscape':\n",
    "        if (actual_rows > 3) & (actual_cols > 5):\n",
    "            # build new submodule_map\n",
    "            if actual_cols % 2:\n",
    "                # temp_submodule = np.zeros((actual_rows,actual_cols)).flatten()\n",
    "                # temp_submodule[int(len(temp_submodule)/2):] = 1\n",
    "                # new_submodule_map = temp_submodule.reshape((actual_rows,actual_cols))\n",
    "                new_submodule_map = np.zeros((actual_rows,actual_cols))\n",
    "            else:\n",
    "                new_submodule_map = np.zeros((actual_rows,actual_cols))\n",
    "                new_submodule_map[:,int(actual_cols/2):] = 1\n",
    "            \n",
    "            if actual_rows % 2:\n",
    "                # temp_diode = np.zeros((actual_rows,actual_cols)).flatten()\n",
    "                # temp_diode[int(len(temp_diode)/2):] = 1 \n",
    "                # new_diode_map = temp_diode.reshape((actual_cols,actual_rows)).T\n",
    "                new_diode_map = np.zeros((actual_rows,actual_cols))\n",
    "            else:\n",
    "                new_diode_map = diode_map[0:actual_rows,0:actual_cols]     \n",
    "        else:\n",
    "            new_submodule_map = np.zeros((actual_rows,actual_cols))\n",
    "            new_diode_map = np.zeros((actual_rows,actual_cols))\n",
    "        \n",
    "    new_subcell_map = np.zeros((actual_rows,actual_cols))\n",
    "    N_p = int(len(np.unique(submodule_map)))\n",
    "    N_s = int((actual_cols * actual_rows) / N_p)\n",
    "    N_subcells = 1\n",
    "    return new_submodule_map, new_diode_map, new_subcell_map, N_s, N_p, N_subcells\n",
    "\n",
    "\n"
   ]
  },
  {
   "cell_type": "code",
   "execution_count": 256,
   "id": "358d6d37",
   "metadata": {},
   "outputs": [
    {
     "name": "stdout",
     "output_type": "stream",
     "text": [
      "0.4605832719391758 10.247690789010258 4.719914953423299\n"
     ]
    },
    {
     "data": {
      "image/png": "[encoded data removed]",
      "text/plain": [
       "Figure(nrows=1, ncols=2, figwidth=5.0, figheight=3.0)"
      ]
     },
     "metadata": {
      "image/png": {
       "height": 300,
       "width": 500
      }
     },
     "output_type": "display_data"
    }
   ],
   "source": [
    "\n",
    "Imod, Vmod = ipv_calc.calculate_module_curve_multiple_column(irrad_hoy,\n",
    "                                                             temp_hoy,\n",
    "                                                             parameters,\n",
    "                                                             po.get_dict_instance([surface,string,module])['MAPS']['SUBMODULES'],\n",
    "                                                             po.get_dict_instance([surface,string,module])['MAPS']['DIODES'])\n",
    "Pmod = Imod*Vmod\n",
    "print(Imod[np.argmax(Pmod)],Vmod[np.argmax(Pmod)],np.max(Pmod))\n",
    "ipv_plots.plot_curves(Imod,\n",
    "                      Vmod,\n",
    "                      parameters,\n",
    "                      y_max=5,\n",
    "                      # labels=[str(t) for t in list(zip(Geff,Tcell))],\n",
    "                      mpp=True,\n",
    "                      x_min=-1,\n",
    "                      )"
   ]
  },
  {
   "cell_type": "code",
   "execution_count": 97,
   "id": "61da2524",
   "metadata": {},
   "outputs": [
    {
     "data": {
      "text/plain": [
       "(6, 20)"
      ]
     },
     "execution_count": 97,
     "metadata": {},
     "output_type": "execute_result"
    }
   ],
   "source": [
    "po.get_dict_instance([surface,string,module])['CELLSIRRADEFF'][:,:,0].shape"
   ]
  },
  {
   "attachments": {},
   "cell_type": "markdown",
   "id": "204668b1",
   "metadata": {},
   "source": [
    "# Archive"
   ]
  },
  {
   "cell_type": "code",
   "execution_count": 30,
   "id": "a31a0bf1-10f2-4452-931c-dac0f891922b",
   "metadata": {},
   "outputs": [
    {
     "ename": "ValueError",
     "evalue": "cannot reshape array of size 240 into shape (20,4)",
     "output_type": "error",
     "traceback": [
      "\u001b[0;31m---------------------------------------------------------------------------\u001b[0m",
      "\u001b[0;31mValueError\u001b[0m                                Traceback (most recent call last)",
      "Cell \u001b[0;32mIn[30], line 6\u001b[0m\n\u001b[1;32m      2\u001b[0m module_details \u001b[39m=\u001b[39m po\u001b[39m.\u001b[39mget_dict_instance([surface, string, module])[\u001b[39m'\u001b[39m\u001b[39mDETAILS\u001b[39m\u001b[39m'\u001b[39m]\n\u001b[1;32m      3\u001b[0m \u001b[39m# cells = utils.flatten_list(cells)\u001b[39;00m\n\u001b[0;32m----> 6\u001b[0m np\u001b[39m.\u001b[39;49marray(cells)\u001b[39m.\u001b[39;49mreshape(module_details[\u001b[39m'\u001b[39;49m\u001b[39mn_rows\u001b[39;49m\u001b[39m'\u001b[39;49m],\n\u001b[1;32m      7\u001b[0m                         module_details[\u001b[39m'\u001b[39;49m\u001b[39mn_cols\u001b[39;49m\u001b[39m'\u001b[39;49m])\n\u001b[1;32m     10\u001b[0m \u001b[39m# x = []\u001b[39;00m\n\u001b[1;32m     11\u001b[0m \u001b[39m# y = []\u001b[39;00m\n\u001b[1;32m     12\u001b[0m \u001b[39m# z = []\u001b[39;00m\n\u001b[0;32m   (...)\u001b[0m\n\u001b[1;32m     29\u001b[0m \n\u001b[1;32m     30\u001b[0m \u001b[39m# plt.show()\u001b[39;00m\n",
      "\u001b[0;31mValueError\u001b[0m: cannot reshape array of size 240 into shape (20,4)"
     ]
    }
   ],
   "source": [
    "\n",
    "cells = po.get_dict_instance([surface, string, module])['CELLSXYZ']\n",
    "module_details = po.get_dict_instance([surface, string, module])['DETAILS']\n",
    "# cells = utils.flatten_list(cells)\n",
    "\n",
    "\n",
    "# x = []\n",
    "# y = []\n",
    "# z = []\n",
    "# label = []\n",
    "# for n, cell in enumerate(cells):\n",
    "#     x.append(cell[0])\n",
    "#     y.append(cell[1])\n",
    "#     z.append(cell[2])\n",
    "#     label.append(n)\n",
    "\n",
    "\n",
    "# fig = plt.figure(figsize=(12, 12))\n",
    "# ax = fig.add_subplot(projection='3d')\n",
    "\n",
    "\n",
    "# ax.scatter(x, y, z)\n",
    "\n",
    "# for x, y, z, label in zip(x, y, z, label):\n",
    "#     ax.text(x, y, z, label)\n",
    "\n",
    "# plt.show()\n"
   ]
  }
 ],
 "metadata": {
  "kernelspec": {
   "display_name": "workbench",
   "language": "python",
   "name": "python3"
  },
  "language_info": {
   "codemirror_mode": {
    "name": "ipython",
    "version": 3
   },
   "file_extension": ".py",
   "mimetype": "text/x-python",
   "name": "python",
   "nbconvert_exporter": "python",
   "pygments_lexer": "ipython3",
   "version": "3.10.8"
  },
  "vscode": {
   "interpreter": {
    "hash": "1a3328625e3463ac63cb2eb7677ec13fbd850dc4e70bad1c20f5d3eca316d6e5"
   }
  }
 },
 "nbformat": 4,
 "nbformat_minor": 5
}
