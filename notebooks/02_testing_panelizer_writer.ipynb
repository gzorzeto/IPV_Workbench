{
 "cells": [
  {
   "cell_type": "code",
   "execution_count": 45,
   "id": "1f6db4f3-e321-49ec-b50d-100fcd49c3f8",
   "metadata": {},
   "outputs": [
    {
     "name": "stdout",
     "output_type": "stream",
     "text": [
      "The autoreload extension is already loaded. To reload it, use:\n",
      "  %reload_ext autoreload\n",
      "The line_profiler extension is already loaded. To reload it, use:\n",
      "  %reload_ext line_profiler\n"
     ]
    }
   ],
   "source": [
    "%load_ext autoreload\n",
    "%autoreload 2\n",
    "%load_ext line_profiler"
   ]
  },
  {
   "cell_type": "code",
   "execution_count": 46,
   "id": "46d5972a-490c-4a8b-a810-61e735f9732a",
   "metadata": {},
   "outputs": [],
   "source": [
    "import os\n",
    "import sys\n",
    "module_path = \"/Users/jmccarty/Data/221205_ipv_workbench/github/IPV_Workbench\"\n",
    "sys.path.insert(0, module_path)\n",
    "from ipv_workbench.translators import panelizer\n",
    "import pickle\n",
    "from pprint import pprint\n",
    "import numpy as np"
   ]
  },
  {
   "cell_type": "code",
   "execution_count": 33,
   "id": "91ff999c-9123-41df-a37c-54fab6275b04",
   "metadata": {},
   "outputs": [],
   "source": []
  },
  {
   "cell_type": "code",
   "execution_count": 43,
   "id": "0946efdd-9268-40b4-b73b-6eecd06a00df",
   "metadata": {},
   "outputs": [
    {
     "name": "stdout",
     "output_type": "stream",
     "text": [
      "226 modules\n"
     ]
    }
   ],
   "source": [
    "pickle_in = \"/Users/jmccarty/Desktop/panelizer_pbano_B2494.pickle\"\n",
    "with open(pickle_in, \"rb\") as fp:\n",
    "    new_dict = pickle.load(fp)\n",
    "\n",
    "    \n",
    "po = panelizer.PanelizedObject(pickle_in)\n",
    "\n",
    "n_mod = 0\n",
    "for surface in po.get_surfaces():\n",
    "    for string in po.get_strings(surface):\n",
    "        for module in po.get_modules(surface, string):\n",
    "            n_mod += 1\n",
    "            map_dict = po.get_dict_instance([surface,string,module])['MAPS']\n",
    "            if map_dict['SUBMODULES'].shape == map_dict['DIODES'].shape:\n",
    "                pass\n",
    "            else:\n",
    "                print(f\"'{surface}','{string}','{module}'\")\n",
    "                print(map_dict['SUBMODULES'].shape, map_dict['DIODES'].shape)\n",
    "                \n",
    "                \n",
    "print(f\"{n_mod} modules\")"
   ]
  },
  {
   "cell_type": "code",
   "execution_count": 44,
   "id": "a31a0bf1-10f2-4452-931c-dac0f891922b",
   "metadata": {},
   "outputs": [
    {
     "data": {
      "text/plain": [
       "{'SUBMODULES': array([[0, 0, 0, 0, 0, 0, 0, 0, 0, 0, 0, 0, 0, 0, 0, 0, 0, 0, 0, 0],\n",
       "        [0, 0, 0, 0, 0, 0, 0, 0, 0, 0, 0, 0, 0, 0, 0, 0, 0, 0, 0, 0],\n",
       "        [0, 0, 0, 0, 0, 0, 0, 0, 0, 0, 0, 0, 0, 0, 0, 0, 0, 0, 0, 0],\n",
       "        [0, 0, 0, 0, 0, 0, 0, 0, 0, 0, 0, 0, 0, 0, 0, 0, 0, 0, 0, 0],\n",
       "        [0, 0, 0, 0, 0, 0, 0, 0, 0, 0, 0, 0, 0, 0, 0, 0, 0, 0, 0, 0],\n",
       "        [0, 0, 0, 0, 0, 0, 0, 0, 0, 0, 0, 0, 0, 0, 0, 0, 0, 0, 0, 0]]),\n",
       " 'DIODES': array([[0, 0, 0, 0, 0, 0, 0, 0, 0, 0, 0, 0, 0, 0, 0, 0, 0, 0, 0, 0],\n",
       "        [0, 0, 0, 0, 0, 0, 0, 0, 0, 0, 0, 0, 0, 0, 0, 0, 0, 0, 0, 0],\n",
       "        [1, 1, 1, 1, 1, 1, 1, 1, 1, 1, 1, 1, 1, 1, 1, 1, 1, 1, 1, 1],\n",
       "        [1, 1, 1, 1, 1, 1, 1, 1, 1, 1, 1, 1, 1, 1, 1, 1, 1, 1, 1, 1],\n",
       "        [2, 2, 2, 2, 2, 2, 2, 2, 2, 2, 2, 2, 2, 2, 2, 2, 2, 2, 2, 2],\n",
       "        [2, 2, 2, 2, 2, 2, 2, 2, 2, 2, 2, 2, 2, 2, 2, 2, 2, 2, 2, 2]])}"
      ]
     },
     "execution_count": 44,
     "metadata": {},
     "output_type": "execute_result"
    }
   ],
   "source": [
    "po = panelizer.PanelizedObject(pickle_in)\n",
    "\n",
    "\n",
    "\n",
    "po.get_dict_instance([surface,string,module])['MAPS']"
   ]
  }
 ],
 "metadata": {
  "kernelspec": {
   "display_name": "Python [conda env:workbench]",
   "language": "python",
   "name": "conda-env-workbench-py"
  },
  "language_info": {
   "codemirror_mode": {
    "name": "ipython",
    "version": 3
   },
   "file_extension": ".py",
   "mimetype": "text/x-python",
   "name": "python",
   "nbconvert_exporter": "python",
   "pygments_lexer": "ipython3",
   "version": "3.10.8"
  }
 },
 "nbformat": 4,
 "nbformat_minor": 5
}
