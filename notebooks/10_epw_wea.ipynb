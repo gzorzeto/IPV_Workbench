{
 "cells": [
  {
   "cell_type": "code",
   "execution_count": 1,
   "metadata": {},
   "outputs": [],
   "source": [
    "from ladybug.wea import Wea"
   ]
  },
  {
   "cell_type": "code",
   "execution_count": 7,
   "metadata": {},
   "outputs": [
    {
     "data": {
      "text/plain": [
       "'/Users/jmccarty/Desktop/bano_simulations/resources/tmy/ssp245_2080.wea'"
      ]
     },
     "execution_count": 7,
     "metadata": {},
     "output_type": "execute_result"
    }
   ],
   "source": [
    "year = 2080\n",
    "epw_file = f\"/Users/jmccarty/Desktop/bano_simulations/resources/tmy/ssp245_{year}.epw\"\n",
    "my_wea = Wea.from_epw_file(epw_file)\n",
    "wea_file = f\"/Users/jmccarty/Desktop/bano_simulations/resources/tmy/ssp245_{year}.wea\"\n",
    "my_wea.write(wea_file)"
   ]
  }
 ],
 "metadata": {
  "kernelspec": {
   "display_name": "LBT",
   "language": "python",
   "name": "python3"
  },
  "language_info": {
   "codemirror_mode": {
    "name": "ipython",
    "version": 3
   },
   "file_extension": ".py",
   "mimetype": "text/x-python",
   "name": "python",
   "nbconvert_exporter": "python",
   "pygments_lexer": "ipython3",
   "version": "3.8.13"
  },
  "orig_nbformat": 4,
  "vscode": {
   "interpreter": {
    "hash": "b627d637684039ba21c8ca818d908196dc4fef6724760706be784018332fcce1"
   }
  }
 },
 "nbformat": 4,
 "nbformat_minor": 2
}
