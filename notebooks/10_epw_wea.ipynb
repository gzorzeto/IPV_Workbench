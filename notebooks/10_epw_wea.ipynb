{
 "cells": [
  {
   "cell_type": "code",
   "execution_count": 1,
   "metadata": {},
   "outputs": [],
   "source": [
    "from ladybug.wea import Wea"
   ]
  },
  {
   "cell_type": "code",
   "execution_count": 12,
   "metadata": {},
   "outputs": [],
   "source": [
    "import os \n",
    "from pathlib import Path\n",
    "\n",
    "user_root = Path(os.getcwd()).parent.parent.parent.parent"
   ]
  },
  {
   "cell_type": "code",
   "execution_count": 15,
   "metadata": {},
   "outputs": [
    {
     "data": {
      "text/plain": [
       "'c:\\\\Users\\\\Justin\\\\Desktop\\\\bano_project_folder\\\\shared\\\\resources\\\\tmy\\\\zurich_2020.wea'"
      ]
     },
     "execution_count": 15,
     "metadata": {},
     "output_type": "execute_result"
    }
   ],
   "source": [
    "year = 2020\n",
    "epw_file = os.path.join(user_root,\"Desktop\",\"bano_project_folder\",\"shared\",\"resources\",\"tmy\",f\"zurich_{year}.epw\")\n",
    "my_wea = Wea.from_epw_file(epw_file)\n",
    "wea_file = os.path.join(user_root,\"Desktop\",\"bano_project_folder\",\"shared\",\"resources\",\"tmy\",f\"zurich_{year}.wea\")\n",
    "my_wea.write(wea_file)"
   ]
  },
  {
   "attachments": {},
   "cell_type": "markdown",
   "metadata": {},
   "source": [
    "# Why Divide by Zero?"
   ]
  },
  {
   "cell_type": "code",
   "execution_count": 5,
   "metadata": {},
   "outputs": [],
   "source": [
    "import pandas as pd\n",
    "import os\n",
    "import numpy as np"
   ]
  }
 ],
 "metadata": {
  "kernelspec": {
   "display_name": "lbt",
   "language": "python",
   "name": "python3"
  },
  "language_info": {
   "codemirror_mode": {
    "name": "ipython",
    "version": 3
   },
   "file_extension": ".py",
   "mimetype": "text/x-python",
   "name": "python",
   "nbconvert_exporter": "python",
   "pygments_lexer": "ipython3",
   "version": "3.8.16"
  },
  "orig_nbformat": 4,
  "vscode": {
   "interpreter": {
    "hash": "0200f89ddd0f1b0612afbbaeb4e1acaa365a82df04f0ee01085282feee245147"
   }
  }
 },
 "nbformat": 4,
 "nbformat_minor": 2
}
